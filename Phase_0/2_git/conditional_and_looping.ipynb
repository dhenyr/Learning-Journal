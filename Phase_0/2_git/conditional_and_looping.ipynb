{
 "cells": [
  {
   "cell_type": "markdown",
   "metadata": {},
   "source": [
    "## Conditional"
   ]
  },
  {
   "cell_type": "code",
   "execution_count": 118,
   "metadata": {},
   "outputs": [
    {
     "name": "stdout",
     "output_type": "stream",
     "text": [
      "48\n",
      "48 lebih besar dari 30\n"
     ]
    }
   ],
   "source": [
    "angka = 48\n",
    "print(angka)\n",
    "print(f\"{angka} lebih besar dari 30\")"
   ]
  },
  {
   "cell_type": "code",
   "execution_count": 119,
   "metadata": {},
   "outputs": [
    {
     "data": {
      "text/plain": [
       "True"
      ]
     },
     "execution_count": 119,
     "metadata": {},
     "output_type": "execute_result"
    }
   ],
   "source": [
    "True"
   ]
  },
  {
   "cell_type": "code",
   "execution_count": 120,
   "metadata": {},
   "outputs": [
    {
     "data": {
      "text/plain": [
       "False"
      ]
     },
     "execution_count": 120,
     "metadata": {},
     "output_type": "execute_result"
    }
   ],
   "source": [
    "False"
   ]
  },
  {
   "cell_type": "code",
   "execution_count": 121,
   "metadata": {},
   "outputs": [],
   "source": [
    "angka = 29\n",
    "if False:\n",
    "    print(f\"{angka} lebih besar dari 30\")"
   ]
  },
  {
   "cell_type": "code",
   "execution_count": 122,
   "metadata": {},
   "outputs": [
    {
     "data": {
      "text/plain": [
       "True"
      ]
     },
     "execution_count": 122,
     "metadata": {},
     "output_type": "execute_result"
    }
   ],
   "source": [
    "35>30"
   ]
  },
  {
   "cell_type": "code",
   "execution_count": 123,
   "metadata": {},
   "outputs": [
    {
     "name": "stdout",
     "output_type": "stream",
     "text": [
      "46 lebih besar dari 30\n"
     ]
    }
   ],
   "source": [
    "angka = 46\n",
    "if angka>30:\n",
    "    print(f\"{angka} lebih besar dari 30\")"
   ]
  },
  {
   "cell_type": "code",
   "execution_count": 124,
   "metadata": {},
   "outputs": [
    {
     "name": "stdout",
     "output_type": "stream",
     "text": [
      "15 lebih kecil dari 30\n"
     ]
    }
   ],
   "source": [
    "angka = 15\n",
    "if angka>30:\n",
    "    print(f\"{angka} lebih besar dari 30\")\n",
    "else:\n",
    "    print(f\"{angka} lebih kecil dari 30\")"
   ]
  },
  {
   "cell_type": "markdown",
   "metadata": {},
   "source": [
    "apakah angka yang berada di variabel angka adalah bilangan ganjil atau genap\n"
   ]
  },
  {
   "cell_type": "code",
   "execution_count": 125,
   "metadata": {},
   "outputs": [
    {
     "name": "stdout",
     "output_type": "stream",
     "text": [
      "15 bilangan ganjil\n",
      "14 bilangan genap\n"
     ]
    }
   ],
   "source": [
    "\n",
    "angka = 15\n",
    "if angka%2 != 0 :\n",
    "    print(f\"{angka} bilangan ganjil\")\n",
    "else:\n",
    "    print(f\"{angka} bilangan genap\")\n",
    "angka = 14\n",
    "if angka%2 == 0 :\n",
    "    print(f\"{angka} bilangan genap\")\n",
    "else:\n",
    "    print(f\"{angka} bilangan ganjil\")\n"
   ]
  },
  {
   "cell_type": "code",
   "execution_count": 126,
   "metadata": {},
   "outputs": [
    {
     "name": "stdout",
     "output_type": "stream",
     "text": [
      "python ada dalam list bahasa_pemrograman\n"
     ]
    }
   ],
   "source": [
    "bahasa_pemrograman = [\"python\", \"java\", \"javascript\", \"golang\"]\n",
    "bahasa=\"python\"\n",
    "if bahasa in bahasa_pemrograman:\n",
    "    print(f\"{bahasa} ada dalam list bahasa_pemrograman\")\n",
    "else:\n",
    "    print(f\"{bahasa} tidak ada dalam list bahasa_pemrograman\")"
   ]
  },
  {
   "cell_type": "code",
   "execution_count": 127,
   "metadata": {},
   "outputs": [
    {
     "name": "stdout",
     "output_type": "stream",
     "text": [
      "35 lebih besar dari 30\n",
      "35 lebih kecil dari 30\n"
     ]
    }
   ],
   "source": [
    "angka = 35\n",
    "if angka>30:\n",
    "    print(f\"{angka} lebih besar dari 30\")\n",
    "if angka == 30:\n",
    "    print(f\"{angka} sama dengan 30\")\n",
    "else:\n",
    "    print(f\"{angka} lebih kecil dari 30\")\n"
   ]
  },
  {
   "cell_type": "markdown",
   "metadata": {},
   "source": [
    "caranya agar tidak terbagi 2 adalah dengan memberi elif"
   ]
  },
  {
   "cell_type": "code",
   "execution_count": 128,
   "metadata": {},
   "outputs": [
    {
     "name": "stdout",
     "output_type": "stream",
     "text": [
      "35 lebih besar dari 30\n"
     ]
    }
   ],
   "source": [
    "angka = 35\n",
    "if angka>30:\n",
    "    print(f\"{angka} lebih besar dari 30\")\n",
    "elif angka == 30:\n",
    "    print(f\"{angka} sama dengan 30\")\n",
    "else:\n",
    "    print(f\"{angka} lebih kecil dari 30\")\n"
   ]
  },
  {
   "cell_type": "code",
   "execution_count": 129,
   "metadata": {},
   "outputs": [
    {
     "data": {
      "text/plain": [
       "True"
      ]
     },
     "execution_count": 129,
     "metadata": {},
     "output_type": "execute_result"
    }
   ],
   "source": [
    "biodata={'nama': 'Dheny', 'pekerjaan':'Pokemon Catcher','usia': '27'}\n",
    "'usia' in biodata"
   ]
  },
  {
   "cell_type": "code",
   "execution_count": 130,
   "metadata": {},
   "outputs": [
    {
     "name": "stdout",
     "output_type": "stream",
     "text": [
      "9 bilangan ganjil\n",
      "9 lebih kecil dari 10\n"
     ]
    }
   ],
   "source": [
    "angka = 9\n",
    "if angka%2 != 0 :\n",
    "    print(f\"{angka} bilangan ganjil\")\n",
    "    if angka>10:\n",
    "        print(f\"{angka} lebih besar dari 10\")\n",
    "    else:\n",
    "        print(f\"{angka} lebih kecil dari 10\")\n",
    "else:\n",
    "    print(f\"{angka} bilangan genap\")\n"
   ]
  },
  {
   "cell_type": "code",
   "execution_count": 131,
   "metadata": {},
   "outputs": [
    {
     "name": "stdout",
     "output_type": "stream",
     "text": [
      "C\n"
     ]
    }
   ],
   "source": [
    "# [85 - 100]:A\n",
    "# [70 - 85]:B\n",
    "# [50 - 70]:C\n",
    "# [25 - 50]:D\n",
    "# [0 - 25]: E\n",
    "nilai = 65.9\n",
    "if 0 <= nilai <= 100:\n",
    "    if nilai >= 85:\n",
    "        print (\"A\")\n",
    "    elif nilai >= 70:\n",
    "        print (\"B\")\n",
    "    elif nilai >= 50:\n",
    "        print(\"C\")\n",
    "    elif nilai >= 25:\n",
    "        print(\"D\")\n",
    "    else:\n",
    "        print(\"E\")\n",
    "else:\n",
    "    print(\"Null\")\n",
    "\n"
   ]
  },
  {
   "cell_type": "markdown",
   "metadata": {},
   "source": [
    "## LOOPING\n"
   ]
  },
  {
   "cell_type": "code",
   "execution_count": 132,
   "metadata": {},
   "outputs": [
    {
     "name": "stdout",
     "output_type": "stream",
     "text": [
      "i=0, dalam while loop\n",
      "i=1, dalam while loop\n",
      "i=2, dalam while loop\n",
      "i=3, dalam while loop\n",
      "i=4, dalam while loop\n"
     ]
    }
   ],
   "source": [
    "i = 0\n",
    "while i<5:\n",
    "    print(f\"i={i}, dalam while loop\")\n",
    "    i=i+1"
   ]
  },
  {
   "cell_type": "code",
   "execution_count": 133,
   "metadata": {},
   "outputs": [
    {
     "name": "stdout",
     "output_type": "stream",
     "text": [
      "7 x 1 = 7\n",
      "7 x 2 = 14\n",
      "7 x 3 = 21\n",
      "7 x 4 = 28\n",
      "7 x 5 = 35\n",
      "7 x 6 = 42\n",
      "7 x 7 = 49\n",
      "7 x 8 = 56\n",
      "7 x 9 = 63\n",
      "7 x 10 = 70\n"
     ]
    }
   ],
   "source": [
    "n=1\n",
    "while n<=10:\n",
    "    print(f\"7 x {n} = {7*n}\")\n",
    "    n += 1 # n=n+1"
   ]
  },
  {
   "cell_type": "code",
   "execution_count": 138,
   "metadata": {},
   "outputs": [
    {
     "name": "stdout",
     "output_type": "stream",
     "text": [
      "1 x 1 = 1\n",
      "1 x 2 = 2\n",
      "1 x 3 = 3\n",
      "1 x 4 = 4\n",
      "1 x 5 = 5\n",
      "1 x 6 = 6\n",
      "1 x 7 = 7\n",
      "1 x 8 = 8\n",
      "1 x 9 = 9\n",
      "1 x 10 = 10\n",
      "********************\n",
      "2 x 1 = 2\n",
      "2 x 2 = 4\n",
      "2 x 3 = 6\n",
      "2 x 4 = 8\n",
      "2 x 5 = 10\n",
      "2 x 6 = 12\n",
      "2 x 7 = 14\n",
      "2 x 8 = 16\n",
      "2 x 9 = 18\n",
      "2 x 10 = 20\n",
      "********************\n",
      "3 x 1 = 3\n",
      "3 x 2 = 6\n",
      "3 x 3 = 9\n",
      "3 x 4 = 12\n",
      "3 x 5 = 15\n",
      "3 x 6 = 18\n",
      "3 x 7 = 21\n",
      "3 x 8 = 24\n",
      "3 x 9 = 27\n",
      "3 x 10 = 30\n",
      "********************\n",
      "4 x 1 = 4\n",
      "4 x 2 = 8\n",
      "4 x 3 = 12\n",
      "4 x 4 = 16\n",
      "4 x 5 = 20\n",
      "4 x 6 = 24\n",
      "4 x 7 = 28\n",
      "4 x 8 = 32\n",
      "4 x 9 = 36\n",
      "4 x 10 = 40\n",
      "********************\n",
      "5 x 1 = 5\n",
      "5 x 2 = 10\n",
      "5 x 3 = 15\n",
      "5 x 4 = 20\n",
      "5 x 5 = 25\n",
      "5 x 6 = 30\n",
      "5 x 7 = 35\n",
      "5 x 8 = 40\n",
      "5 x 9 = 45\n",
      "5 x 10 = 50\n",
      "********************\n",
      "6 x 1 = 6\n",
      "6 x 2 = 12\n",
      "6 x 3 = 18\n",
      "6 x 4 = 24\n",
      "6 x 5 = 30\n",
      "6 x 6 = 36\n",
      "6 x 7 = 42\n",
      "6 x 8 = 48\n",
      "6 x 9 = 54\n",
      "6 x 10 = 60\n",
      "********************\n",
      "7 x 1 = 7\n",
      "7 x 2 = 14\n",
      "7 x 3 = 21\n",
      "7 x 4 = 28\n",
      "7 x 5 = 35\n",
      "7 x 6 = 42\n",
      "7 x 7 = 49\n",
      "7 x 8 = 56\n",
      "7 x 9 = 63\n",
      "7 x 10 = 70\n",
      "********************\n",
      "8 x 1 = 8\n",
      "8 x 2 = 16\n",
      "8 x 3 = 24\n",
      "8 x 4 = 32\n",
      "8 x 5 = 40\n",
      "8 x 6 = 48\n",
      "8 x 7 = 56\n",
      "8 x 8 = 64\n",
      "8 x 9 = 72\n",
      "8 x 10 = 80\n",
      "********************\n",
      "9 x 1 = 9\n",
      "9 x 2 = 18\n",
      "9 x 3 = 27\n",
      "9 x 4 = 36\n",
      "9 x 5 = 45\n",
      "9 x 6 = 54\n",
      "9 x 7 = 63\n",
      "9 x 8 = 72\n",
      "9 x 9 = 81\n",
      "9 x 10 = 90\n",
      "********************\n",
      "10 x 1 = 10\n",
      "10 x 2 = 20\n",
      "10 x 3 = 30\n",
      "10 x 4 = 40\n",
      "10 x 5 = 50\n",
      "10 x 6 = 60\n",
      "10 x 7 = 70\n",
      "10 x 8 = 80\n",
      "10 x 9 = 90\n",
      "10 x 10 = 100\n",
      "********************\n"
     ]
    }
   ],
   "source": [
    "# nested loop (tabel perkalian)\n",
    "i=1\n",
    "j=1\n",
    "\n",
    "while j <= 10:\n",
    "    i=1\n",
    "    while i <= 10:\n",
    "        print(f\"{j} x {i} = {j*i}\")\n",
    "        i += 1\n",
    "    print(\"*\"*20)\n",
    "    j += 1"
   ]
  },
  {
   "cell_type": "code",
   "execution_count": 179,
   "metadata": {},
   "outputs": [
    {
     "name": "stdout",
     "output_type": "stream",
     "text": [
      "7 x 1 = 7\n",
      "7 x 2 = 14\n",
      "7 x 3 = 21\n",
      "7 x 4 = 28\n",
      "done\n"
     ]
    }
   ],
   "source": [
    "# break\n",
    "i= 1\n",
    "while i<=10:\n",
    "    print(f\"7 x {i} = {7*i}\")\n",
    "    i += 1\n",
    "    if i ==5:\n",
    "        break\n",
    "print(\"done\")"
   ]
  },
  {
   "cell_type": "code",
   "execution_count": 178,
   "metadata": {},
   "outputs": [
    {
     "name": "stdout",
     "output_type": "stream",
     "text": [
      "7 x 1 = 7\n",
      "7 x 2 = 14\n",
      "7 x 3 = 21\n",
      "7 x 4 = 28\n",
      "7 x 6 = 42\n",
      "7 x 7 = 49\n",
      "7 x 8 = 56\n",
      "7 x 9 = 63\n",
      "7 x 10 = 70\n",
      "7 x 11 = 77\n"
     ]
    }
   ],
   "source": [
    "# continue\n",
    "\n",
    "i = 0\n",
    "while i <= 10:\n",
    "  i += 1 \n",
    "  if i == 5:\n",
    "    continue\n",
    "  print(f\"7 x {i} = {7*i}\")"
   ]
  },
  {
   "cell_type": "markdown",
   "metadata": {},
   "source": [
    "## FOR LOOP"
   ]
  },
  {
   "cell_type": "code",
   "execution_count": 145,
   "metadata": {},
   "outputs": [
    {
     "name": "stdout",
     "output_type": "stream",
     "text": [
      "pepaya\n",
      "mangga\n",
      "pisang\n",
      "jambu\n"
     ]
    }
   ],
   "source": [
    "buah = [\"pepaya\", \"mangga\", \"pisang\", \"jambu\"]\n",
    "for b in buah:\n",
    "    print(b)"
   ]
  },
  {
   "cell_type": "code",
   "execution_count": 147,
   "metadata": {},
   "outputs": [
    {
     "name": "stdout",
     "output_type": "stream",
     "text": [
      "pepaya adalah item dalam list buah\n",
      "mangga adalah item dalam list buah\n",
      "pisang adalah item dalam list buah\n",
      "jambu adalah item dalam list buah\n"
     ]
    }
   ],
   "source": [
    "buah = [\"pepaya\", \"mangga\", \"pisang\", \"jambu\"]\n",
    "for b in buah:\n",
    "    print(f\"{b} adalah item dalam list buah\")"
   ]
  },
  {
   "cell_type": "code",
   "execution_count": 151,
   "metadata": {},
   "outputs": [
    {
     "name": "stdout",
     "output_type": "stream",
     "text": [
      "pepaya adalah item dalam list buah\n",
      "mangga adalah item dalam list buah\n",
      "pisang adalah item dalam list buah\n",
      "jambu adalah item dalam list buah\n"
     ]
    }
   ],
   "source": [
    "i = 0\n",
    "buah = [\"pepaya\", \"mangga\", \"pisang\", \"jambu\"]\n",
    "while i<len(buah):\n",
    "    print(f\"{buah [i]} adalah item dalam list buah\")\n",
    "    i += 1"
   ]
  },
  {
   "cell_type": "code",
   "execution_count": 172,
   "metadata": {},
   "outputs": [
    {
     "name": "stdout",
     "output_type": "stream",
     "text": [
      "pepaya adalah item dalam list buah\n",
      "mangga adalah item dalam list buah\n",
      "pisang adalah item dalam list buah\n",
      "jambu adalah item dalam list buah\n"
     ]
    }
   ],
   "source": [
    "for i in [0, 1, 2, 3]:\n",
    "    print(f\"{buah [i]} adalah item dalam list buah\")\n",
    "    i += 1"
   ]
  },
  {
   "cell_type": "code",
   "execution_count": 155,
   "metadata": {},
   "outputs": [
    {
     "name": "stdout",
     "output_type": "stream",
     "text": [
      "7 x 1= 7\n",
      "7 x 2= 14\n",
      "7 x 3= 21\n",
      "7 x 4= 28\n",
      "7 x 5= 35\n",
      "7 x 6= 42\n",
      "7 x 7= 49\n",
      "7 x 8= 56\n",
      "7 x 9= 63\n",
      "7 x 10= 70\n"
     ]
    }
   ],
   "source": [
    "# tabel perkalian 7\n",
    "\n",
    "for i in range (1, 11):\n",
    "    print(f\"7 x {i}= {7*i}\")"
   ]
  },
  {
   "cell_type": "code",
   "execution_count": 173,
   "metadata": {},
   "outputs": [
    {
     "name": "stdout",
     "output_type": "stream",
     "text": [
      "1 x 1 = 1\n",
      "1 x 2 = 2\n",
      "1 x 3 = 3\n",
      "1 x 4 = 4\n",
      "1 x 5 = 5\n",
      "1 x 6 = 6\n",
      "1 x 7 = 7\n",
      "1 x 8 = 8\n",
      "1 x 9 = 9\n",
      "1 x 10 = 10\n",
      "**************************************************\n",
      "2 x 1 = 2\n",
      "2 x 2 = 4\n",
      "2 x 3 = 6\n",
      "2 x 4 = 8\n",
      "2 x 5 = 10\n",
      "2 x 6 = 12\n",
      "2 x 7 = 14\n",
      "2 x 8 = 16\n",
      "2 x 9 = 18\n",
      "2 x 10 = 20\n",
      "**************************************************\n",
      "3 x 1 = 3\n",
      "3 x 2 = 6\n",
      "3 x 3 = 9\n",
      "3 x 4 = 12\n",
      "3 x 5 = 15\n",
      "3 x 6 = 18\n",
      "3 x 7 = 21\n",
      "3 x 8 = 24\n",
      "3 x 9 = 27\n",
      "3 x 10 = 30\n",
      "**************************************************\n",
      "4 x 1 = 4\n",
      "4 x 2 = 8\n",
      "4 x 3 = 12\n",
      "4 x 4 = 16\n",
      "4 x 5 = 20\n",
      "4 x 6 = 24\n",
      "4 x 7 = 28\n",
      "4 x 8 = 32\n",
      "4 x 9 = 36\n",
      "4 x 10 = 40\n",
      "**************************************************\n",
      "5 x 1 = 5\n",
      "5 x 2 = 10\n",
      "5 x 3 = 15\n",
      "5 x 4 = 20\n",
      "5 x 5 = 25\n",
      "5 x 6 = 30\n",
      "5 x 7 = 35\n",
      "5 x 8 = 40\n",
      "5 x 9 = 45\n",
      "5 x 10 = 50\n",
      "**************************************************\n",
      "6 x 1 = 6\n",
      "6 x 2 = 12\n",
      "6 x 3 = 18\n",
      "6 x 4 = 24\n",
      "6 x 5 = 30\n",
      "6 x 6 = 36\n",
      "6 x 7 = 42\n",
      "6 x 8 = 48\n",
      "6 x 9 = 54\n",
      "6 x 10 = 60\n",
      "**************************************************\n",
      "7 x 1 = 7\n",
      "7 x 2 = 14\n",
      "7 x 3 = 21\n",
      "7 x 4 = 28\n",
      "7 x 5 = 35\n",
      "7 x 6 = 42\n",
      "7 x 7 = 49\n",
      "7 x 8 = 56\n",
      "7 x 9 = 63\n",
      "7 x 10 = 70\n",
      "**************************************************\n",
      "8 x 1 = 8\n",
      "8 x 2 = 16\n",
      "8 x 3 = 24\n",
      "8 x 4 = 32\n",
      "8 x 5 = 40\n",
      "8 x 6 = 48\n",
      "8 x 7 = 56\n",
      "8 x 8 = 64\n",
      "8 x 9 = 72\n",
      "8 x 10 = 80\n",
      "**************************************************\n",
      "9 x 1 = 9\n",
      "9 x 2 = 18\n",
      "9 x 3 = 27\n",
      "9 x 4 = 36\n",
      "9 x 5 = 45\n",
      "9 x 6 = 54\n",
      "9 x 7 = 63\n",
      "9 x 8 = 72\n",
      "9 x 9 = 81\n",
      "9 x 10 = 90\n",
      "**************************************************\n",
      "10 x 1 = 10\n",
      "10 x 2 = 20\n",
      "10 x 3 = 30\n",
      "10 x 4 = 40\n",
      "10 x 5 = 50\n",
      "10 x 6 = 60\n",
      "10 x 7 = 70\n",
      "10 x 8 = 80\n",
      "10 x 9 = 90\n",
      "10 x 10 = 100\n",
      "**************************************************\n"
     ]
    }
   ],
   "source": [
    "for j in range (1, 11):\n",
    "    for i in range (1, 11):\n",
    "        print(f\"{j} x {i} = {j*i}\")\n",
    "    print(\"*\"*50)"
   ]
  },
  {
   "cell_type": "code",
   "execution_count": 174,
   "metadata": {},
   "outputs": [
    {
     "name": "stdout",
     "output_type": "stream",
     "text": [
      "7 x 1 = 7\n",
      "7 x 2 = 14\n",
      "7 x 3 = 21\n",
      "7 x 4 = 28\n"
     ]
    }
   ],
   "source": [
    "for i in range(1, 11):\n",
    "  if i == 5:\n",
    "    break\n",
    "  print(f\"7 x {i} = {7*i}\")"
   ]
  },
  {
   "cell_type": "code",
   "execution_count": 176,
   "metadata": {},
   "outputs": [
    {
     "name": "stdout",
     "output_type": "stream",
     "text": [
      "7 x 1 = 7\n",
      "7 x 2 = 14\n",
      "7 x 3 = 21\n",
      "7 x 4 = 28\n",
      "7 x 6 = 42\n",
      "7 x 7 = 49\n",
      "7 x 8 = 56\n",
      "7 x 9 = 63\n",
      "7 x 10 = 70\n"
     ]
    }
   ],
   "source": [
    "for i in range(1, 11):\n",
    "  if i == 5:\n",
    "    continue\n",
    "  print(f\"7 x {i} = {7*i}\")"
   ]
  },
  {
   "cell_type": "code",
   "execution_count": null,
   "metadata": {},
   "outputs": [],
   "source": []
  }
 ],
 "metadata": {
  "interpreter": {
   "hash": "cfcfbbd76e88e95dc35e2ca9edf0c1e882d0553cc29bc4cac8c0f4eabeb0ecb9"
  },
  "kernelspec": {
   "display_name": "Python 3.10.2 64-bit",
   "language": "python",
   "name": "python3"
  },
  "language_info": {
   "codemirror_mode": {
    "name": "ipython",
    "version": 3
   },
   "file_extension": ".py",
   "mimetype": "text/x-python",
   "name": "python",
   "nbconvert_exporter": "python",
   "pygments_lexer": "ipython3",
   "version": "3.9.7"
  },
  "orig_nbformat": 4
 },
 "nbformat": 4,
 "nbformat_minor": 2
}
