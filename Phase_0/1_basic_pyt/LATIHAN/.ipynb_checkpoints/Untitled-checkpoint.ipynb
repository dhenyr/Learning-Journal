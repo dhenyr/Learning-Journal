{
 "cells": [
  {
   "cell_type": "markdown",
   "id": "71e02fc7",
   "metadata": {},
   "source": [
    "# LATIHAN"
   ]
  },
  {
   "cell_type": "code",
   "execution_count": 9,
   "id": "3579541a",
   "metadata": {},
   "outputs": [
    {
     "name": "stdout",
     "output_type": "stream",
     "text": [
      "julia\n"
     ]
    }
   ],
   "source": [
    "print ('julia')"
   ]
  },
  {
   "cell_type": "markdown",
   "id": "e9ba162f",
   "metadata": {},
   "source": [
    "# FLOAT"
   ]
  },
  {
   "cell_type": "code",
   "execution_count": 5,
   "id": "aaf7f575",
   "metadata": {},
   "outputs": [
    {
     "name": "stdout",
     "output_type": "stream",
     "text": [
      "<class 'float'>\n",
      "3000.0\n"
     ]
    }
   ],
   "source": [
    "print (type(0.3))\n",
    "print (.3e4)\n"
   ]
  },
  {
   "cell_type": "markdown",
   "id": "b610b79f",
   "metadata": {},
   "source": [
    "# INTEGRAL"
   ]
  },
  {
   "cell_type": "code",
   "execution_count": 20,
   "id": "7312aa77",
   "metadata": {},
   "outputs": [
    {
     "name": "stdout",
     "output_type": "stream",
     "text": [
      "3\n",
      "<class 'int'>\n",
      "suka kamu\n"
     ]
    }
   ],
   "source": [
    "print (3)\n",
    "print (type (3))\n",
    "print ('''suka \\\n",
    "kamu''')\n"
   ]
  },
  {
   "cell_type": "markdown",
   "id": "f523538a",
   "metadata": {},
   "source": [
    "# ROUND"
   ]
  },
  {
   "cell_type": "code",
   "execution_count": 15,
   "id": "23df922f",
   "metadata": {},
   "outputs": [
    {
     "name": "stdout",
     "output_type": "stream",
     "text": [
      "3\n",
      "<class 'float'>\n",
      "3.766\n",
      "<class 'float'>\n",
      "3\n"
     ]
    }
   ],
   "source": [
    "x=3.497\n",
    "print (round (x))\n",
    "print (type (x))\n",
    "y=round(3.7658 ,3) # koma buat ngasih digit dibelakang koma yang diinginkan \n",
    "print (y)\n",
    "print (type (y))\n",
    "print(int(y))"
   ]
  },
  {
   "cell_type": "markdown",
   "id": "5767be99",
   "metadata": {},
   "source": [
    "# LIST"
   ]
  },
  {
   "cell_type": "code",
   "execution_count": 21,
   "id": "c8d06f4a",
   "metadata": {},
   "outputs": [
    {
     "name": "stdout",
     "output_type": "stream",
     "text": [
      "['mobil', 'motor', 'sepeda', 'sepeda', 'becak', 'pesawat']\n"
     ]
    }
   ],
   "source": [
    "list1=['mobil','motor','sepeda','sepeda','becak','pesawat']\n",
    "print(list1)"
   ]
  },
  {
   "cell_type": "code",
   "execution_count": 18,
   "id": "98e2eac9",
   "metadata": {},
   "outputs": [
    {
     "name": "stdout",
     "output_type": "stream",
     "text": [
      "['motor', 'sepeda']\n"
     ]
    }
   ],
   "source": [
    "print(list1[1:3])"
   ]
  },
  {
   "cell_type": "code",
   "execution_count": 23,
   "id": "45a10d87",
   "metadata": {},
   "outputs": [
    {
     "name": "stdout",
     "output_type": "stream",
     "text": [
      "motor\n",
      "pesawat\n",
      "sepeda\n"
     ]
    }
   ],
   "source": [
    "print(list1[1])\n",
    "print (list1[5])\n",
    "print (list1[-3]) # hitungan minus 1 dimulai dari paling belakang\n"
   ]
  },
  {
   "cell_type": "code",
   "execution_count": 24,
   "id": "fdc079a3",
   "metadata": {},
   "outputs": [
    {
     "name": "stdout",
     "output_type": "stream",
     "text": [
      "['mobil', 'motor', 'sepeda', 'sepeda', 'becak', 'pesawat', 'honda']\n"
     ]
    }
   ],
   "source": [
    "list1=['mobil','motor','sepeda','sepeda','becak','pesawat']\n",
    "list1.append('honda')\n",
    "print(list1)"
   ]
  },
  {
   "cell_type": "code",
   "execution_count": 50,
   "id": "196fc383",
   "metadata": {},
   "outputs": [
    {
     "name": "stdout",
     "output_type": "stream",
     "text": [
      "['mobil', 'motor', 'gojek', 'gojek', 'gojek', 'gojek', 'gojek', 'sepeda', 'becak', 'pesawat', 'honda']\n"
     ]
    }
   ],
   "source": [
    "list1.insert(3,'gojek')\n",
    "print(list1)"
   ]
  },
  {
   "cell_type": "code",
   "execution_count": 55,
   "id": "d95e45d0",
   "metadata": {},
   "outputs": [
    {
     "name": "stdout",
     "output_type": "stream",
     "text": [
      "['mobil', 'motor', 'gojek', 'sepeda', 'becak', 'pesawat', 'honda']\n"
     ]
    }
   ],
   "source": [
    "print(list1)\n",
    "list1.remove('gojek')"
   ]
  }
 ],
 "metadata": {
  "kernelspec": {
   "display_name": "Python 3 (ipykernel)",
   "language": "python",
   "name": "python3"
  },
  "language_info": {
   "codemirror_mode": {
    "name": "ipython",
    "version": 3
   },
   "file_extension": ".py",
   "mimetype": "text/x-python",
   "name": "python",
   "nbconvert_exporter": "python",
   "pygments_lexer": "ipython3",
   "version": "3.9.7"
  }
 },
 "nbformat": 4,
 "nbformat_minor": 5
}
