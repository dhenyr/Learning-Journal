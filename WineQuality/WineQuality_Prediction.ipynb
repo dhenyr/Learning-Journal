{
 "cells": [
  {
   "cell_type": "markdown",
   "metadata": {
    "id": "fC9erwhGKqz5"
   },
   "source": [
    "# 1 - Perkenalan"
   ]
  },
  {
   "cell_type": "markdown",
   "metadata": {
    "id": "ZeDiIharK4x7"
   },
   "source": [
    "Nama : Dheny Ramadianindra\\\n",
    "Batch : FTDS-010\\\n",
    "Dataset : Red Wine Quality\\\n",
    "Objective: \n",
    "- Mampu memahami konsep supervised learning dan unsupervised learning\n",
    "- Mampu mempersiapkan data untuk digunakan dalam model supervised learning\n",
    "- Mampu mengimplementasikan supervised learning dengan dataset yang baru\n",
    "- Mampu melakukan evaluasi model\n",
    "- Mampu melakukan model tuning\n",
    "- Mampu melakukan model deployment\n",
    "\n",
    "Diketahui bahwa data memiliki target kualitas wine dengan 6 variabel dari skor 3-8. Target diubah dengan definisi:\n",
    "- Nilai >= 7 adalah wine dengan kualitas bagus (1)\n",
    "- Nilai < 7 adalah wine dengan kualitas rendah (0)\n",
    "\n",
    "\n",
    "Model deployment dapat diakses di https://dheny-ftds10-model-front.herokuapp.com/"
   ]
  },
  {
   "cell_type": "markdown",
   "metadata": {
    "id": "WCEJ6k98LC72"
   },
   "source": [
    "# 2 - Import Libraries\n",
    "Cell pertama pada notebook harus berisi dan hanya berisi semua library yang digunakan dalam project."
   ]
  },
  {
   "cell_type": "code",
   "execution_count": 126,
   "metadata": {
    "id": "q33Ey658Ktxd"
   },
   "outputs": [],
   "source": [
    "import pandas as pd\n",
    "import numpy as np\n",
    "import pickle\n",
    "from sklearn.pipeline import make_pipeline\n",
    "import seaborn as sns\n",
    "import matplotlib.pyplot as plt\n",
    "from sklearn import preprocessing\n",
    "from sklearn.linear_model import LogisticRegression\n",
    "from sklearn.svm import SVC\n",
    "from sklearn.tree import DecisionTreeClassifier\n",
    "from sklearn.ensemble import BaggingClassifier\n",
    "from sklearn.ensemble import RandomForestClassifier\n",
    "from sklearn.neighbors import KNeighborsClassifier\n",
    "from sklearn.naive_bayes import GaussianNB\n",
    "from sklearn.ensemble import AdaBoostClassifier\n",
    "from sklearn.model_selection import train_test_split\n",
    "from statsmodels.stats.outliers_influence import variance_inflation_factor\n",
    "from scipy import stats\n",
    "from sklearn.preprocessing import MinMaxScaler\n",
    "from sklearn.metrics import confusion_matrix, classification_report, accuracy_score, ConfusionMatrixDisplay\n",
    "from sklearn.model_selection import GridSearchCV\n",
    "from sklearn.model_selection import cross_val_score\n",
    "from sklearn.model_selection import RepeatedStratifiedKFold\n",
    "from sklearn.model_selection import GridSearchCV\n",
    "from imblearn.over_sampling import SMOTE\n",
    "\n",
    "import warnings\n",
    "warnings.filterwarnings('ignore')"
   ]
  },
  {
   "cell_type": "markdown",
   "metadata": {
    "id": "341zIA7yLf9H"
   },
   "source": [
    "# 3 - Data Loading\n",
    "Bagian ini berisi proses penyiapan data sebelum dilakukan eksplorasi data lebih lanjut. Proses Data Loading dapat berupa memberi nama baru untuk setiap kolom, mengecek ukuran dataset, dll.\\\n",
    "Data dapat didownload dari https://www.kaggle.com/datasets/uciml/red-wine-quality-cortez-et-al-2009\n"
   ]
  },
  {
   "cell_type": "code",
   "execution_count": 2,
   "metadata": {},
   "outputs": [
    {
     "data": {
      "text/html": [
       "<div>\n",
       "<style scoped>\n",
       "    .dataframe tbody tr th:only-of-type {\n",
       "        vertical-align: middle;\n",
       "    }\n",
       "\n",
       "    .dataframe tbody tr th {\n",
       "        vertical-align: top;\n",
       "    }\n",
       "\n",
       "    .dataframe thead th {\n",
       "        text-align: right;\n",
       "    }\n",
       "</style>\n",
       "<table border=\"1\" class=\"dataframe\">\n",
       "  <thead>\n",
       "    <tr style=\"text-align: right;\">\n",
       "      <th></th>\n",
       "      <th>fixed acidity</th>\n",
       "      <th>volatile acidity</th>\n",
       "      <th>citric acid</th>\n",
       "      <th>residual sugar</th>\n",
       "      <th>chlorides</th>\n",
       "      <th>free sulfur dioxide</th>\n",
       "      <th>total sulfur dioxide</th>\n",
       "      <th>density</th>\n",
       "      <th>pH</th>\n",
       "      <th>sulphates</th>\n",
       "      <th>alcohol</th>\n",
       "      <th>quality</th>\n",
       "    </tr>\n",
       "  </thead>\n",
       "  <tbody>\n",
       "    <tr>\n",
       "      <th>0</th>\n",
       "      <td>7.4</td>\n",
       "      <td>0.700</td>\n",
       "      <td>0.00</td>\n",
       "      <td>1.9</td>\n",
       "      <td>0.076</td>\n",
       "      <td>11.0</td>\n",
       "      <td>34.0</td>\n",
       "      <td>0.99780</td>\n",
       "      <td>3.51</td>\n",
       "      <td>0.56</td>\n",
       "      <td>9.4</td>\n",
       "      <td>5</td>\n",
       "    </tr>\n",
       "    <tr>\n",
       "      <th>1</th>\n",
       "      <td>7.8</td>\n",
       "      <td>0.880</td>\n",
       "      <td>0.00</td>\n",
       "      <td>2.6</td>\n",
       "      <td>0.098</td>\n",
       "      <td>25.0</td>\n",
       "      <td>67.0</td>\n",
       "      <td>0.99680</td>\n",
       "      <td>3.20</td>\n",
       "      <td>0.68</td>\n",
       "      <td>9.8</td>\n",
       "      <td>5</td>\n",
       "    </tr>\n",
       "    <tr>\n",
       "      <th>2</th>\n",
       "      <td>7.8</td>\n",
       "      <td>0.760</td>\n",
       "      <td>0.04</td>\n",
       "      <td>2.3</td>\n",
       "      <td>0.092</td>\n",
       "      <td>15.0</td>\n",
       "      <td>54.0</td>\n",
       "      <td>0.99700</td>\n",
       "      <td>3.26</td>\n",
       "      <td>0.65</td>\n",
       "      <td>9.8</td>\n",
       "      <td>5</td>\n",
       "    </tr>\n",
       "    <tr>\n",
       "      <th>3</th>\n",
       "      <td>11.2</td>\n",
       "      <td>0.280</td>\n",
       "      <td>0.56</td>\n",
       "      <td>1.9</td>\n",
       "      <td>0.075</td>\n",
       "      <td>17.0</td>\n",
       "      <td>60.0</td>\n",
       "      <td>0.99800</td>\n",
       "      <td>3.16</td>\n",
       "      <td>0.58</td>\n",
       "      <td>9.8</td>\n",
       "      <td>6</td>\n",
       "    </tr>\n",
       "    <tr>\n",
       "      <th>4</th>\n",
       "      <td>7.4</td>\n",
       "      <td>0.700</td>\n",
       "      <td>0.00</td>\n",
       "      <td>1.9</td>\n",
       "      <td>0.076</td>\n",
       "      <td>11.0</td>\n",
       "      <td>34.0</td>\n",
       "      <td>0.99780</td>\n",
       "      <td>3.51</td>\n",
       "      <td>0.56</td>\n",
       "      <td>9.4</td>\n",
       "      <td>5</td>\n",
       "    </tr>\n",
       "    <tr>\n",
       "      <th>...</th>\n",
       "      <td>...</td>\n",
       "      <td>...</td>\n",
       "      <td>...</td>\n",
       "      <td>...</td>\n",
       "      <td>...</td>\n",
       "      <td>...</td>\n",
       "      <td>...</td>\n",
       "      <td>...</td>\n",
       "      <td>...</td>\n",
       "      <td>...</td>\n",
       "      <td>...</td>\n",
       "      <td>...</td>\n",
       "    </tr>\n",
       "    <tr>\n",
       "      <th>1594</th>\n",
       "      <td>6.2</td>\n",
       "      <td>0.600</td>\n",
       "      <td>0.08</td>\n",
       "      <td>2.0</td>\n",
       "      <td>0.090</td>\n",
       "      <td>32.0</td>\n",
       "      <td>44.0</td>\n",
       "      <td>0.99490</td>\n",
       "      <td>3.45</td>\n",
       "      <td>0.58</td>\n",
       "      <td>10.5</td>\n",
       "      <td>5</td>\n",
       "    </tr>\n",
       "    <tr>\n",
       "      <th>1595</th>\n",
       "      <td>5.9</td>\n",
       "      <td>0.550</td>\n",
       "      <td>0.10</td>\n",
       "      <td>2.2</td>\n",
       "      <td>0.062</td>\n",
       "      <td>39.0</td>\n",
       "      <td>51.0</td>\n",
       "      <td>0.99512</td>\n",
       "      <td>3.52</td>\n",
       "      <td>0.76</td>\n",
       "      <td>11.2</td>\n",
       "      <td>6</td>\n",
       "    </tr>\n",
       "    <tr>\n",
       "      <th>1596</th>\n",
       "      <td>6.3</td>\n",
       "      <td>0.510</td>\n",
       "      <td>0.13</td>\n",
       "      <td>2.3</td>\n",
       "      <td>0.076</td>\n",
       "      <td>29.0</td>\n",
       "      <td>40.0</td>\n",
       "      <td>0.99574</td>\n",
       "      <td>3.42</td>\n",
       "      <td>0.75</td>\n",
       "      <td>11.0</td>\n",
       "      <td>6</td>\n",
       "    </tr>\n",
       "    <tr>\n",
       "      <th>1597</th>\n",
       "      <td>5.9</td>\n",
       "      <td>0.645</td>\n",
       "      <td>0.12</td>\n",
       "      <td>2.0</td>\n",
       "      <td>0.075</td>\n",
       "      <td>32.0</td>\n",
       "      <td>44.0</td>\n",
       "      <td>0.99547</td>\n",
       "      <td>3.57</td>\n",
       "      <td>0.71</td>\n",
       "      <td>10.2</td>\n",
       "      <td>5</td>\n",
       "    </tr>\n",
       "    <tr>\n",
       "      <th>1598</th>\n",
       "      <td>6.0</td>\n",
       "      <td>0.310</td>\n",
       "      <td>0.47</td>\n",
       "      <td>3.6</td>\n",
       "      <td>0.067</td>\n",
       "      <td>18.0</td>\n",
       "      <td>42.0</td>\n",
       "      <td>0.99549</td>\n",
       "      <td>3.39</td>\n",
       "      <td>0.66</td>\n",
       "      <td>11.0</td>\n",
       "      <td>6</td>\n",
       "    </tr>\n",
       "  </tbody>\n",
       "</table>\n",
       "<p>1599 rows × 12 columns</p>\n",
       "</div>"
      ],
      "text/plain": [
       "      fixed acidity  volatile acidity  citric acid  residual sugar  chlorides  \\\n",
       "0               7.4             0.700         0.00             1.9      0.076   \n",
       "1               7.8             0.880         0.00             2.6      0.098   \n",
       "2               7.8             0.760         0.04             2.3      0.092   \n",
       "3              11.2             0.280         0.56             1.9      0.075   \n",
       "4               7.4             0.700         0.00             1.9      0.076   \n",
       "...             ...               ...          ...             ...        ...   \n",
       "1594            6.2             0.600         0.08             2.0      0.090   \n",
       "1595            5.9             0.550         0.10             2.2      0.062   \n",
       "1596            6.3             0.510         0.13             2.3      0.076   \n",
       "1597            5.9             0.645         0.12             2.0      0.075   \n",
       "1598            6.0             0.310         0.47             3.6      0.067   \n",
       "\n",
       "      free sulfur dioxide  total sulfur dioxide  density    pH  sulphates  \\\n",
       "0                    11.0                  34.0  0.99780  3.51       0.56   \n",
       "1                    25.0                  67.0  0.99680  3.20       0.68   \n",
       "2                    15.0                  54.0  0.99700  3.26       0.65   \n",
       "3                    17.0                  60.0  0.99800  3.16       0.58   \n",
       "4                    11.0                  34.0  0.99780  3.51       0.56   \n",
       "...                   ...                   ...      ...   ...        ...   \n",
       "1594                 32.0                  44.0  0.99490  3.45       0.58   \n",
       "1595                 39.0                  51.0  0.99512  3.52       0.76   \n",
       "1596                 29.0                  40.0  0.99574  3.42       0.75   \n",
       "1597                 32.0                  44.0  0.99547  3.57       0.71   \n",
       "1598                 18.0                  42.0  0.99549  3.39       0.66   \n",
       "\n",
       "      alcohol  quality  \n",
       "0         9.4        5  \n",
       "1         9.8        5  \n",
       "2         9.8        5  \n",
       "3         9.8        6  \n",
       "4         9.4        5  \n",
       "...       ...      ...  \n",
       "1594     10.5        5  \n",
       "1595     11.2        6  \n",
       "1596     11.0        6  \n",
       "1597     10.2        5  \n",
       "1598     11.0        6  \n",
       "\n",
       "[1599 rows x 12 columns]"
      ]
     },
     "execution_count": 2,
     "metadata": {},
     "output_type": "execute_result"
    }
   ],
   "source": [
    "# Load Dataset\n",
    "data = pd.read_csv('winequality-red.csv')\n",
    "\n",
    "# Duplicate Dataset\n",
    "data_ori = data.copy()\n",
    "data"
   ]
  },
  {
   "cell_type": "markdown",
   "metadata": {},
   "source": [
    "Dari data diketahui memiliki 12 fitur dan targetnya adalah pada kolom 'quality' "
   ]
  },
  {
   "cell_type": "code",
   "execution_count": 3,
   "metadata": {},
   "outputs": [
    {
     "data": {
      "text/plain": [
       "fixed acidity           0.0\n",
       "volatile acidity        0.0\n",
       "citric acid             0.0\n",
       "residual sugar          0.0\n",
       "chlorides               0.0\n",
       "free sulfur dioxide     0.0\n",
       "total sulfur dioxide    0.0\n",
       "density                 0.0\n",
       "pH                      0.0\n",
       "sulphates               0.0\n",
       "alcohol                 0.0\n",
       "quality                 0.0\n",
       "dtype: float64"
      ]
     },
     "execution_count": 3,
     "metadata": {},
     "output_type": "execute_result"
    }
   ],
   "source": [
    "# Presentase Missing Value\n",
    "(data.isnull().sum()/len(data))*100"
   ]
  },
  {
   "cell_type": "markdown",
   "metadata": {},
   "source": [
    "Terlihat dataset bersih tanpa adanya Missing Values."
   ]
  },
  {
   "cell_type": "markdown",
   "metadata": {
    "id": "vEmuzc9JNZeJ"
   },
   "source": [
    "# 4 - Exploratory Dataset\n",
    "Bagian ini berisi eksplorasi data pada dataset diatas dengan menggunakan query, grouping, visualisasi sederhana, dan lain sebagainya.\n"
   ]
  },
  {
   "cell_type": "code",
   "execution_count": 4,
   "metadata": {},
   "outputs": [
    {
     "data": {
      "text/html": [
       "<div>\n",
       "<style scoped>\n",
       "    .dataframe tbody tr th:only-of-type {\n",
       "        vertical-align: middle;\n",
       "    }\n",
       "\n",
       "    .dataframe tbody tr th {\n",
       "        vertical-align: top;\n",
       "    }\n",
       "\n",
       "    .dataframe thead th {\n",
       "        text-align: right;\n",
       "    }\n",
       "</style>\n",
       "<table border=\"1\" class=\"dataframe\">\n",
       "  <thead>\n",
       "    <tr style=\"text-align: right;\">\n",
       "      <th></th>\n",
       "      <th>count</th>\n",
       "      <th>mean</th>\n",
       "      <th>std</th>\n",
       "      <th>min</th>\n",
       "      <th>25%</th>\n",
       "      <th>50%</th>\n",
       "      <th>75%</th>\n",
       "      <th>max</th>\n",
       "    </tr>\n",
       "  </thead>\n",
       "  <tbody>\n",
       "    <tr>\n",
       "      <th>fixed acidity</th>\n",
       "      <td>1599.0</td>\n",
       "      <td>8.319637</td>\n",
       "      <td>1.741096</td>\n",
       "      <td>4.60000</td>\n",
       "      <td>7.1000</td>\n",
       "      <td>7.90000</td>\n",
       "      <td>9.200000</td>\n",
       "      <td>15.90000</td>\n",
       "    </tr>\n",
       "    <tr>\n",
       "      <th>volatile acidity</th>\n",
       "      <td>1599.0</td>\n",
       "      <td>0.527821</td>\n",
       "      <td>0.179060</td>\n",
       "      <td>0.12000</td>\n",
       "      <td>0.3900</td>\n",
       "      <td>0.52000</td>\n",
       "      <td>0.640000</td>\n",
       "      <td>1.58000</td>\n",
       "    </tr>\n",
       "    <tr>\n",
       "      <th>citric acid</th>\n",
       "      <td>1599.0</td>\n",
       "      <td>0.270976</td>\n",
       "      <td>0.194801</td>\n",
       "      <td>0.00000</td>\n",
       "      <td>0.0900</td>\n",
       "      <td>0.26000</td>\n",
       "      <td>0.420000</td>\n",
       "      <td>1.00000</td>\n",
       "    </tr>\n",
       "    <tr>\n",
       "      <th>residual sugar</th>\n",
       "      <td>1599.0</td>\n",
       "      <td>2.538806</td>\n",
       "      <td>1.409928</td>\n",
       "      <td>0.90000</td>\n",
       "      <td>1.9000</td>\n",
       "      <td>2.20000</td>\n",
       "      <td>2.600000</td>\n",
       "      <td>15.50000</td>\n",
       "    </tr>\n",
       "    <tr>\n",
       "      <th>chlorides</th>\n",
       "      <td>1599.0</td>\n",
       "      <td>0.087467</td>\n",
       "      <td>0.047065</td>\n",
       "      <td>0.01200</td>\n",
       "      <td>0.0700</td>\n",
       "      <td>0.07900</td>\n",
       "      <td>0.090000</td>\n",
       "      <td>0.61100</td>\n",
       "    </tr>\n",
       "    <tr>\n",
       "      <th>free sulfur dioxide</th>\n",
       "      <td>1599.0</td>\n",
       "      <td>15.874922</td>\n",
       "      <td>10.460157</td>\n",
       "      <td>1.00000</td>\n",
       "      <td>7.0000</td>\n",
       "      <td>14.00000</td>\n",
       "      <td>21.000000</td>\n",
       "      <td>72.00000</td>\n",
       "    </tr>\n",
       "    <tr>\n",
       "      <th>total sulfur dioxide</th>\n",
       "      <td>1599.0</td>\n",
       "      <td>46.467792</td>\n",
       "      <td>32.895324</td>\n",
       "      <td>6.00000</td>\n",
       "      <td>22.0000</td>\n",
       "      <td>38.00000</td>\n",
       "      <td>62.000000</td>\n",
       "      <td>289.00000</td>\n",
       "    </tr>\n",
       "    <tr>\n",
       "      <th>density</th>\n",
       "      <td>1599.0</td>\n",
       "      <td>0.996747</td>\n",
       "      <td>0.001887</td>\n",
       "      <td>0.99007</td>\n",
       "      <td>0.9956</td>\n",
       "      <td>0.99675</td>\n",
       "      <td>0.997835</td>\n",
       "      <td>1.00369</td>\n",
       "    </tr>\n",
       "    <tr>\n",
       "      <th>pH</th>\n",
       "      <td>1599.0</td>\n",
       "      <td>3.311113</td>\n",
       "      <td>0.154386</td>\n",
       "      <td>2.74000</td>\n",
       "      <td>3.2100</td>\n",
       "      <td>3.31000</td>\n",
       "      <td>3.400000</td>\n",
       "      <td>4.01000</td>\n",
       "    </tr>\n",
       "    <tr>\n",
       "      <th>sulphates</th>\n",
       "      <td>1599.0</td>\n",
       "      <td>0.658149</td>\n",
       "      <td>0.169507</td>\n",
       "      <td>0.33000</td>\n",
       "      <td>0.5500</td>\n",
       "      <td>0.62000</td>\n",
       "      <td>0.730000</td>\n",
       "      <td>2.00000</td>\n",
       "    </tr>\n",
       "    <tr>\n",
       "      <th>alcohol</th>\n",
       "      <td>1599.0</td>\n",
       "      <td>10.422983</td>\n",
       "      <td>1.065668</td>\n",
       "      <td>8.40000</td>\n",
       "      <td>9.5000</td>\n",
       "      <td>10.20000</td>\n",
       "      <td>11.100000</td>\n",
       "      <td>14.90000</td>\n",
       "    </tr>\n",
       "    <tr>\n",
       "      <th>quality</th>\n",
       "      <td>1599.0</td>\n",
       "      <td>5.636023</td>\n",
       "      <td>0.807569</td>\n",
       "      <td>3.00000</td>\n",
       "      <td>5.0000</td>\n",
       "      <td>6.00000</td>\n",
       "      <td>6.000000</td>\n",
       "      <td>8.00000</td>\n",
       "    </tr>\n",
       "  </tbody>\n",
       "</table>\n",
       "</div>"
      ],
      "text/plain": [
       "                       count       mean        std      min      25%  \\\n",
       "fixed acidity         1599.0   8.319637   1.741096  4.60000   7.1000   \n",
       "volatile acidity      1599.0   0.527821   0.179060  0.12000   0.3900   \n",
       "citric acid           1599.0   0.270976   0.194801  0.00000   0.0900   \n",
       "residual sugar        1599.0   2.538806   1.409928  0.90000   1.9000   \n",
       "chlorides             1599.0   0.087467   0.047065  0.01200   0.0700   \n",
       "free sulfur dioxide   1599.0  15.874922  10.460157  1.00000   7.0000   \n",
       "total sulfur dioxide  1599.0  46.467792  32.895324  6.00000  22.0000   \n",
       "density               1599.0   0.996747   0.001887  0.99007   0.9956   \n",
       "pH                    1599.0   3.311113   0.154386  2.74000   3.2100   \n",
       "sulphates             1599.0   0.658149   0.169507  0.33000   0.5500   \n",
       "alcohol               1599.0  10.422983   1.065668  8.40000   9.5000   \n",
       "quality               1599.0   5.636023   0.807569  3.00000   5.0000   \n",
       "\n",
       "                           50%        75%        max  \n",
       "fixed acidity          7.90000   9.200000   15.90000  \n",
       "volatile acidity       0.52000   0.640000    1.58000  \n",
       "citric acid            0.26000   0.420000    1.00000  \n",
       "residual sugar         2.20000   2.600000   15.50000  \n",
       "chlorides              0.07900   0.090000    0.61100  \n",
       "free sulfur dioxide   14.00000  21.000000   72.00000  \n",
       "total sulfur dioxide  38.00000  62.000000  289.00000  \n",
       "density                0.99675   0.997835    1.00369  \n",
       "pH                     3.31000   3.400000    4.01000  \n",
       "sulphates              0.62000   0.730000    2.00000  \n",
       "alcohol               10.20000  11.100000   14.90000  \n",
       "quality                6.00000   6.000000    8.00000  "
      ]
     },
     "execution_count": 4,
     "metadata": {},
     "output_type": "execute_result"
    }
   ],
   "source": [
    "data.describe().T"
   ]
  },
  {
   "cell_type": "markdown",
   "metadata": {},
   "source": [
    "Dari data describe diketahui nilai dengan jenis data numerik dari setiap kolomnya, disini saya melihat anomali pada kolom 'citric acid', 'residual sugar', 'chlorides', 'free sulfur dioxide', 'total sulfur dioxide', 'pH', 'sulphates', 'alcohol' melihat dari nilai maksimal dan rata-ratanya memiliki perbedaan yang jauh, kemungkinan terdapat outliers pada data dan pada nilai density juga terlihat adanya keberagaman data jadi bisa di drop."
   ]
  },
  {
   "cell_type": "markdown",
   "metadata": {},
   "source": [
    "## Visualisasi Dataset"
   ]
  },
  {
   "cell_type": "markdown",
   "metadata": {},
   "source": [
    "Melakukan visualisasi dari dataset yang ada sehingga interpretasi terhadap data akan lebih mudah."
   ]
  },
  {
   "cell_type": "code",
   "execution_count": 5,
   "metadata": {},
   "outputs": [
    {
     "data": {
      "image/png": "[encoded data removed]",
      "text/plain": [
       "<Figure size 1080x2160 with 18 Axes>"
      ]
     },
     "metadata": {
      "needs_background": "light"
     },
     "output_type": "display_data"
    }
   ],
   "source": [
    "# Memvisualisasikan data numerik per kolomnya\n",
    "num_cols = data.select_dtypes(exclude=['object']).columns.tolist()\n",
    "data[num_cols].hist(bins=15, figsize=(15, 30), layout=(6, 3));"
   ]
  },
  {
   "cell_type": "markdown",
   "metadata": {},
   "source": [
    "Dari histogram diatas diketahui bahwa dari keseluruhan data wine rata-rata memiliki data berupa skewed positive. Ada persebaran yang cukup menarik pada 'residual sugar' dan 'chlorides' karena terlihat tidak memiliki variasi nilai yang banyak, bisa disimpulkan dari hasil visualisasi kedua data ini tidak terlalu mempengaruhi hasil."
   ]
  },
  {
   "cell_type": "code",
   "execution_count": 232,
   "metadata": {},
   "outputs": [
    {
     "data": {
      "text/plain": [
       "<AxesSubplot:xlabel='quality', ylabel='count'>"
      ]
     },
     "execution_count": 232,
     "metadata": {},
     "output_type": "execute_result"
    },
    {
     "data": {
      "image/png": "[encoded data removed]",
      "text/plain": [
       "<Figure size 432x288 with 1 Axes>"
      ]
     },
     "metadata": {
      "needs_background": "light"
     },
     "output_type": "display_data"
    }
   ],
   "source": [
    "sns.countplot('quality', data=data)"
   ]
  },
  {
   "cell_type": "markdown",
   "metadata": {},
   "source": [
    "Terlihat bahwa data didominasi oleh wine dengan kualitas 5 dan 6"
   ]
  },
  {
   "cell_type": "code",
   "execution_count": 6,
   "metadata": {},
   "outputs": [
    {
     "data": {
      "text/plain": [
       "<AxesSubplot:>"
      ]
     },
     "execution_count": 6,
     "metadata": {},
     "output_type": "execute_result"
    },
    {
     "data": {
      "image/png": "[encoded data removed]",
      "text/plain": [
       "<Figure size 720x720 with 2 Axes>"
      ]
     },
     "metadata": {
      "needs_background": "light"
     },
     "output_type": "display_data"
    }
   ],
   "source": [
    "# Plotting heatmap\n",
    "plt.figure(figsize=(10,10))\n",
    "sns.heatmap(data.corr(),annot=True, mask=np.triu(data.corr()))"
   ]
  },
  {
   "cell_type": "markdown",
   "metadata": {},
   "source": [
    "Berdasarkan korelasi heatmap, 'quality' sangat dipengaruhi oleh kadar alkohol dan beberapa penunjangnya adalah 'volatile acidity', 'citric acid', 'sulphates', 'pH', 'density', 'chloride'"
   ]
  },
  {
   "cell_type": "code",
   "execution_count": 234,
   "metadata": {},
   "outputs": [
    {
     "data": {
      "text/plain": [
       "<AxesSubplot:xlabel='quality', ylabel='alcohol'>"
      ]
     },
     "execution_count": 234,
     "metadata": {},
     "output_type": "execute_result"
    },
    {
     "data": {
      "image/png": "[encoded data removed]",
      "text/plain": [
       "<Figure size 432x288 with 1 Axes>"
      ]
     },
     "metadata": {
      "needs_background": "light"
     },
     "output_type": "display_data"
    }
   ],
   "source": [
    "sns.barplot(x='quality', y='alcohol', data=data)"
   ]
  },
  {
   "cell_type": "code",
   "execution_count": 236,
   "metadata": {},
   "outputs": [
    {
     "data": {
      "text/plain": [
       "<AxesSubplot:xlabel='quality', ylabel='volatile acidity'>"
      ]
     },
     "execution_count": 236,
     "metadata": {},
     "output_type": "execute_result"
    },
    {
     "data": {
      "image/png": "[encoded data removed]",
      "text/plain": [
       "<Figure size 432x288 with 1 Axes>"
      ]
     },
     "metadata": {
      "needs_background": "light"
     },
     "output_type": "display_data"
    }
   ],
   "source": [
    "sns.barplot(x='quality', y='volatile acidity', data=data)"
   ]
  },
  {
   "cell_type": "code",
   "execution_count": 243,
   "metadata": {},
   "outputs": [
    {
     "data": {
      "text/plain": [
       "<AxesSubplot:xlabel='quality', ylabel='density'>"
      ]
     },
     "execution_count": 243,
     "metadata": {},
     "output_type": "execute_result"
    },
    {
     "data": {
      "image/png": "[encoded data removed]",
      "text/plain": [
       "<Figure size 432x288 with 1 Axes>"
      ]
     },
     "metadata": {
      "needs_background": "light"
     },
     "output_type": "display_data"
    }
   ],
   "source": [
    "sns.barplot(x='quality', y='density', data=data)"
   ]
  },
  {
   "cell_type": "code",
   "execution_count": 242,
   "metadata": {},
   "outputs": [
    {
     "data": {
      "text/plain": [
       "<AxesSubplot:xlabel='quality', ylabel='pH'>"
      ]
     },
     "execution_count": 242,
     "metadata": {},
     "output_type": "execute_result"
    },
    {
     "data": {
      "image/png": "[encoded data removed]",
      "text/plain": [
       "<Figure size 432x288 with 1 Axes>"
      ]
     },
     "metadata": {
      "needs_background": "light"
     },
     "output_type": "display_data"
    }
   ],
   "source": [
    "sns.barplot(x='quality', y='pH', data=data)"
   ]
  },
  {
   "cell_type": "code",
   "execution_count": 241,
   "metadata": {},
   "outputs": [
    {
     "data": {
      "text/plain": [
       "<AxesSubplot:xlabel='quality', ylabel='sulphates'>"
      ]
     },
     "execution_count": 241,
     "metadata": {},
     "output_type": "execute_result"
    },
    {
     "data": {
      "image/png": "[encoded data removed]",
      "text/plain": [
       "<Figure size 432x288 with 1 Axes>"
      ]
     },
     "metadata": {
      "needs_background": "light"
     },
     "output_type": "display_data"
    }
   ],
   "source": [
    "sns.barplot(x='quality', y='sulphates', data=data)"
   ]
  },
  {
   "cell_type": "code",
   "execution_count": 239,
   "metadata": {},
   "outputs": [
    {
     "data": {
      "text/plain": [
       "<AxesSubplot:xlabel='quality', ylabel='chlorides'>"
      ]
     },
     "execution_count": 239,
     "metadata": {},
     "output_type": "execute_result"
    },
    {
     "data": {
      "image/png": "[encoded data removed]",
      "text/plain": [
       "<Figure size 432x288 with 1 Axes>"
      ]
     },
     "metadata": {
      "needs_background": "light"
     },
     "output_type": "display_data"
    }
   ],
   "source": [
    "sns.barplot(x='quality', y='chlorides', data=data)"
   ]
  },
  {
   "cell_type": "code",
   "execution_count": 237,
   "metadata": {},
   "outputs": [
    {
     "data": {
      "text/plain": [
       "<AxesSubplot:xlabel='quality', ylabel='citric acid'>"
      ]
     },
     "execution_count": 237,
     "metadata": {},
     "output_type": "execute_result"
    },
    {
     "data": {
      "image/png": "[encoded data removed]",
      "text/plain": [
       "<Figure size 432x288 with 1 Axes>"
      ]
     },
     "metadata": {
      "needs_background": "light"
     },
     "output_type": "display_data"
    }
   ],
   "source": [
    "sns.barplot(x='quality', y='citric acid', data=data)"
   ]
  },
  {
   "cell_type": "markdown",
   "metadata": {},
   "source": [
    "Setelah dilakukan visualisasi, 'quality' ternyata dipengaruhi oleh fitur dari kadar 'alcohol', 'volatile acidity', 'citric acid', 'sulphates', 'chloride' tapi pH dan density terlihat tidak ada perbedaan signifikan, tapi mendasari bahwa kadar pH dalam kandungan air memiliki pengaruh terhadap kualitas minuman, saya akan keep fitur pH."
   ]
  },
  {
   "cell_type": "markdown",
   "metadata": {
    "id": "MXgHnxJ5O6Ny"
   },
   "source": [
    "# 5 - Data Preprocessing"
   ]
  },
  {
   "cell_type": "markdown",
   "metadata": {},
   "source": [
    "Bagian ini berisi proses penyiapan data untuk proses pelatihan model, seperti pembagian data menjadi train-dev-test, transformasi data (normalisasi, encoding, dll.), dan proses-proses lain yang dibutuhkan."
   ]
  },
  {
   "cell_type": "markdown",
   "metadata": {
    "id": "hxU6eanKU0pd"
   },
   "source": [
    "## Handling Outlier"
   ]
  },
  {
   "cell_type": "code",
   "execution_count": 4,
   "metadata": {},
   "outputs": [],
   "source": [
    "# Membuat definisi untuk Histogram dan boxplot\n",
    "def diagnostic_plots(df, variable):\n",
    "    # Define figure size\n",
    "    plt.figure(figsize=(16, 4))\n",
    "\n",
    "    # Histogram\n",
    "    plt.subplot(1, 2, 1)\n",
    "    sns.histplot(df[variable], bins=30)\n",
    "    plt.title('Histogram')\n",
    "\n",
    "    # Boxplot\n",
    "    plt.subplot(1, 2, 2)\n",
    "    sns.boxplot(y=df[variable])\n",
    "    plt.title('Boxplot')\n",
    "\n",
    "    plt.show()"
   ]
  },
  {
   "cell_type": "code",
   "execution_count": 5,
   "metadata": {},
   "outputs": [
    {
     "data": {
      "image/png": "[encoded data removed]",
      "text/plain": [
       "<Figure size 1152x288 with 2 Axes>"
      ]
     },
     "metadata": {
      "needs_background": "light"
     },
     "output_type": "display_data"
    },
    {
     "name": "stdout",
     "output_type": "stream",
     "text": [
      "\n",
      "Skewness Value :  0.9827514413284587\n",
      "\n"
     ]
    },
    {
     "data": {
      "image/png": "[encoded data removed]",
      "text/plain": [
       "<Figure size 1152x288 with 2 Axes>"
      ]
     },
     "metadata": {
      "needs_background": "light"
     },
     "output_type": "display_data"
    },
    {
     "name": "stdout",
     "output_type": "stream",
     "text": [
      "\n",
      "Skewness Value :  0.6715925723840199\n",
      "\n"
     ]
    },
    {
     "data": {
      "image/png": "[encoded data removed]",
      "text/plain": [
       "<Figure size 1152x288 with 2 Axes>"
      ]
     },
     "metadata": {
      "needs_background": "light"
     },
     "output_type": "display_data"
    },
    {
     "name": "stdout",
     "output_type": "stream",
     "text": [
      "\n",
      "Skewness Value :  0.3183372952546368\n",
      "\n"
     ]
    },
    {
     "data": {
      "image/png": "[encoded data removed]",
      "text/plain": [
       "<Figure size 1152x288 with 2 Axes>"
      ]
     },
     "metadata": {
      "needs_background": "light"
     },
     "output_type": "display_data"
    },
    {
     "name": "stdout",
     "output_type": "stream",
     "text": [
      "\n",
      "Skewness Value :  4.54065542590319\n",
      "\n"
     ]
    },
    {
     "data": {
      "image/png": "[encoded data removed]",
      "text/plain": [
       "<Figure size 1152x288 with 2 Axes>"
      ]
     },
     "metadata": {
      "needs_background": "light"
     },
     "output_type": "display_data"
    },
    {
     "name": "stdout",
     "output_type": "stream",
     "text": [
      "\n",
      "Skewness Value :  5.680346571971722\n",
      "\n"
     ]
    },
    {
     "data": {
      "image/png": "[encoded data removed]",
      "text/plain": [
       "<Figure size 1152x288 with 2 Axes>"
      ]
     },
     "metadata": {
      "needs_background": "light"
     },
     "output_type": "display_data"
    },
    {
     "name": "stdout",
     "output_type": "stream",
     "text": [
      "\n",
      "Skewness Value :  1.250567293314441\n",
      "\n"
     ]
    },
    {
     "data": {
      "image/png": "[encoded data removed]",
      "text/plain": [
       "<Figure size 1152x288 with 2 Axes>"
      ]
     },
     "metadata": {
      "needs_background": "light"
     },
     "output_type": "display_data"
    },
    {
     "name": "stdout",
     "output_type": "stream",
     "text": [
      "\n",
      "Skewness Value :  1.515531257594554\n",
      "\n"
     ]
    },
    {
     "data": {
      "image/png": "[encoded data removed]",
      "text/plain": [
       "<Figure size 1152x288 with 2 Axes>"
      ]
     },
     "metadata": {
      "needs_background": "light"
     },
     "output_type": "display_data"
    },
    {
     "name": "stdout",
     "output_type": "stream",
     "text": [
      "\n",
      "Skewness Value :  0.07128766294927483\n",
      "\n"
     ]
    },
    {
     "data": {
      "image/png": "[encoded data removed]",
      "text/plain": [
       "<Figure size 1152x288 with 2 Axes>"
      ]
     },
     "metadata": {
      "needs_background": "light"
     },
     "output_type": "display_data"
    },
    {
     "name": "stdout",
     "output_type": "stream",
     "text": [
      "\n",
      "Skewness Value :  0.19368349811284427\n",
      "\n"
     ]
    },
    {
     "data": {
      "image/png": "[encoded data removed]",
      "text/plain": [
       "<Figure size 1152x288 with 2 Axes>"
      ]
     },
     "metadata": {
      "needs_background": "light"
     },
     "output_type": "display_data"
    },
    {
     "name": "stdout",
     "output_type": "stream",
     "text": [
      "\n",
      "Skewness Value :  2.4286723536602945\n",
      "\n"
     ]
    },
    {
     "data": {
      "image/png": "[encoded data removed]",
      "text/plain": [
       "<Figure size 1152x288 with 2 Axes>"
      ]
     },
     "metadata": {
      "needs_background": "light"
     },
     "output_type": "display_data"
    },
    {
     "name": "stdout",
     "output_type": "stream",
     "text": [
      "\n",
      "Skewness Value :  0.8608288068888538\n",
      "\n"
     ]
    },
    {
     "data": {
      "image/png": "[encoded data removed]",
      "text/plain": [
       "<Figure size 1152x288 with 2 Axes>"
      ]
     },
     "metadata": {
      "needs_background": "light"
     },
     "output_type": "display_data"
    },
    {
     "name": "stdout",
     "output_type": "stream",
     "text": [
      "\n",
      "Skewness Value :  0.21780157547366327\n",
      "\n"
     ]
    }
   ],
   "source": [
    "kolom = data.columns\n",
    "\n",
    "for i in kolom:\n",
    "    diagnostic_plots(data, i)\n",
    "    print('\\nSkewness Value : ', data[i].skew())\n",
    "    print('')"
   ]
  },
  {
   "cell_type": "markdown",
   "metadata": {},
   "source": [
    "Terlihat semua skewed kanan, maka dilakukan metode IQR 1.5"
   ]
  },
  {
   "cell_type": "code",
   "execution_count": 6,
   "metadata": {},
   "outputs": [],
   "source": [
    "# Definisi menggunakan metode IQR\n",
    "def find_skewed_boundaries(df, variable, distance):\n",
    "    IQR = df[variable].quantile(0.75) - df[variable].quantile(0.25)\n",
    "\n",
    "    lower_boundary = df[variable].quantile(0.25) - (IQR * distance)\n",
    "    upper_boundary = df[variable].quantile(0.75) + (IQR * distance)\n",
    "\n",
    "    return upper_boundary, lower_boundary"
   ]
  },
  {
   "cell_type": "code",
   "execution_count": 7,
   "metadata": {},
   "outputs": [
    {
     "name": "stdout",
     "output_type": "stream",
     "text": [
      "fixed acidity - upper limit :  12.349999999999998\n",
      "fixed acidity - lower limit :  3.95 \n",
      "\n",
      "volatile acidity - upper limit :  1.0150000000000001\n",
      "volatile acidity - lower limit :  0.015000000000000013 \n",
      "\n",
      "citric acid - upper limit :  0.9149999999999999\n",
      "citric acid - lower limit :  -0.4049999999999999 \n",
      "\n",
      "residual sugar - upper limit :  3.6500000000000004\n",
      "residual sugar - lower limit :  0.8499999999999996 \n",
      "\n",
      "chlorides - upper limit :  0.11999999999999998\n",
      "chlorides - lower limit :  0.04000000000000002 \n",
      "\n",
      "free sulfur dioxide - upper limit :  42.0\n",
      "free sulfur dioxide - lower limit :  -14.0 \n",
      "\n",
      "total sulfur dioxide - upper limit :  122.0\n",
      "total sulfur dioxide - lower limit :  -38.0 \n",
      "\n",
      "density - upper limit :  1.0011875\n",
      "density - lower limit :  0.9922475000000001 \n",
      "\n",
      "pH - upper limit :  3.6849999999999996\n",
      "pH - lower limit :  2.925 \n",
      "\n",
      "sulphates - upper limit :  0.9999999999999999\n",
      "sulphates - lower limit :  0.28000000000000014 \n",
      "\n",
      "alcohol - upper limit :  13.5\n",
      "alcohol - lower limit :  7.1000000000000005 \n",
      "\n",
      "quality - upper limit :  7.5\n",
      "quality - lower limit :  3.5 \n",
      "\n"
     ]
    }
   ],
   "source": [
    "# menggunakan metode IQR 1.5\n",
    "\n",
    "for i in kolom:\n",
    "    upper_boundary, lower_boundary = find_skewed_boundaries(data, i, 1.5)\n",
    "\n",
    "    print(i,'- upper limit : ', upper_boundary)\n",
    "    print(i,'- lower limit : ', lower_boundary, '\\n')"
   ]
  },
  {
   "cell_type": "code",
   "execution_count": 8,
   "metadata": {},
   "outputs": [
    {
     "name": "stdout",
     "output_type": "stream",
     "text": [
      "Total data : 1599\n",
      "Total Outlier fixed acidity : 49\n",
      "Presentase : 3.0644152595372107\n",
      "\n",
      "Total data : 1599\n",
      "Total Outlier volatile acidity : 19\n",
      "Presentase : 1.188242651657286\n",
      "\n",
      "Total data : 1599\n",
      "Total Outlier citric acid : 1\n",
      "Presentase : 0.06253908692933083\n",
      "\n",
      "Total data : 1599\n",
      "Total Outlier residual sugar : 155\n",
      "Presentase : 9.693558474046279\n",
      "\n",
      "Total data : 1599\n",
      "Total Outlier chlorides : 103\n",
      "Presentase : 6.441525953721075\n",
      "\n",
      "Total data : 1599\n",
      "Total Outlier free sulfur dioxide : 30\n",
      "Presentase : 1.876172607879925\n",
      "\n",
      "Total data : 1599\n",
      "Total Outlier total sulfur dioxide : 55\n",
      "Presentase : 3.4396497811131956\n",
      "\n",
      "Total data : 1599\n",
      "Total Outlier density : 24\n",
      "Presentase : 1.5009380863039399\n",
      "\n",
      "Total data : 1599\n",
      "Total Outlier pH : 21\n",
      "Presentase : 1.3133208255159476\n",
      "\n",
      "Total data : 1599\n",
      "Total Outlier sulphates : 59\n",
      "Presentase : 3.6898061288305186\n",
      "\n",
      "Total data : 1599\n",
      "Total Outlier alcohol : 13\n",
      "Presentase : 0.8130081300813009\n",
      "\n",
      "Total data : 1599\n",
      "Total Outlier quality : 18\n",
      "Presentase : 1.125703564727955\n",
      "\n"
     ]
    }
   ],
   "source": [
    "# Menampilkan presentase outliers\n",
    "for i in kolom:\n",
    "    upper_boundary, lower_boundary = find_skewed_boundaries(data, i, 1.5)\n",
    "    print('Total data : {}'.format(len(data)))\n",
    "    print('Total Outlier',i, ': {}'.format(len(data[data[i] > upper_boundary])))\n",
    "    print('Presentase : {}'.format(len(data[data[i] > upper_boundary])/len(data) * 100))\n",
    "    print('')"
   ]
  },
  {
   "cell_type": "markdown",
   "metadata": {},
   "source": [
    "Menghilangkan Outliers pada 'fixed acidity','volatile acidity','citric acid','free sulfur dioxide','total sulfur dioxide','density','pH','sulphates','alcohol', karena memiliki presentase kurang dari 5% dari data jadi sekiranya aman untuk di handling "
   ]
  },
  {
   "cell_type": "code",
   "execution_count": 9,
   "metadata": {},
   "outputs": [
    {
     "name": "stdout",
     "output_type": "stream",
     "text": [
      "Size dataset - Before trimming :  (1599, 12)\n",
      "Size dataset - After trimming  :  (1360, 12)\n"
     ]
    }
   ],
   "source": [
    "upper_boundary1, lower_boundary1 = find_skewed_boundaries(data, 'fixed acidity', 1.5)\n",
    "upper_boundary2, lower_boundary2 = find_skewed_boundaries(data, 'volatile acidity', 1.5)\n",
    "upper_boundary3, lower_boundary3 = find_skewed_boundaries(data, 'citric acid', 1.5)\n",
    "upper_boundary4, lower_boundary4 = find_skewed_boundaries(data, 'free sulfur dioxide', 1.5)\n",
    "upper_boundary5, lower_boundary5 = find_skewed_boundaries(data, 'total sulfur dioxide', 1.5)\n",
    "upper_boundary6, lower_boundary6 = find_skewed_boundaries(data, 'density', 1.5)\n",
    "upper_boundary7, lower_boundary7 = find_skewed_boundaries(data, 'pH', 1.5)\n",
    "upper_boundary8, lower_boundary8 = find_skewed_boundaries(data, 'sulphates', 1.5)\n",
    "upper_boundary9, lower_boundary9 = find_skewed_boundaries(data, 'alcohol', 1.5)\n",
    "\n",
    "outliers1 = np.where(data['fixed acidity'] > upper_boundary1, True,\n",
    "            np.where(data['fixed acidity'] < lower_boundary1, True, False))\n",
    "outliers2 = np.where(data['volatile acidity'] > upper_boundary2, True,\n",
    "            np.where(data['volatile acidity'] < lower_boundary2, True, False))\n",
    "outliers3 = np.where(data['citric acid'] > upper_boundary3, True,\n",
    "            np.where(data['citric acid'] < lower_boundary3, True, False))\n",
    "outliers4 = np.where(data['free sulfur dioxide'] > upper_boundary4, True,\n",
    "            np.where(data['free sulfur dioxide'] < lower_boundary4, True, False))\n",
    "outliers5 = np.where(data['total sulfur dioxide'] > upper_boundary5, True,\n",
    "            np.where(data['total sulfur dioxide'] < lower_boundary5, True, False))\n",
    "outliers6 = np.where(data['density'] > upper_boundary6, True,\n",
    "            np.where(data['density'] < lower_boundary6, True, False))\n",
    "outliers7 = np.where(data['pH'] > upper_boundary7, True,\n",
    "            np.where(data['pH'] < lower_boundary7, True, False))\n",
    "outliers8 = np.where(data['sulphates'] > upper_boundary8, True,\n",
    "            np.where(data['sulphates'] < lower_boundary8, True, False))\n",
    "outliers9 = np.where(data['alcohol'] > upper_boundary9, True,\n",
    "            np.where(data['alcohol'] < lower_boundary9, True, False))\n",
    "\n",
    "df_trim = data.loc[~(outliers1 + outliers2 + outliers3 + outliers4 + outliers5 + outliers6 + outliers7 + outliers8 + outliers9)]\n",
    "print('Size dataset - Before trimming : ', data.shape)\n",
    "print('Size dataset - After trimming  : ', df_trim.shape)"
   ]
  },
  {
   "cell_type": "markdown",
   "metadata": {},
   "source": [
    "## Handling Missing Values\n"
   ]
  },
  {
   "cell_type": "code",
   "execution_count": 10,
   "metadata": {
    "colab": {
     "base_uri": "https://localhost:8080/"
    },
    "id": "s3X2d9BZTpcw",
    "outputId": "a1ccb33b-1c1c-44d3-81f5-1d45f26b1fdc"
   },
   "outputs": [
    {
     "data": {
      "text/plain": [
       "fixed acidity           0\n",
       "volatile acidity        0\n",
       "citric acid             0\n",
       "residual sugar          0\n",
       "chlorides               0\n",
       "free sulfur dioxide     0\n",
       "total sulfur dioxide    0\n",
       "density                 0\n",
       "pH                      0\n",
       "sulphates               0\n",
       "alcohol                 0\n",
       "quality                 0\n",
       "dtype: int64"
      ]
     },
     "execution_count": 10,
     "metadata": {},
     "output_type": "execute_result"
    }
   ],
   "source": [
    "# Check missing value\n",
    "df_trim.isnull().sum()"
   ]
  },
  {
   "cell_type": "markdown",
   "metadata": {},
   "source": [
    "Tidak ada missing value"
   ]
  },
  {
   "cell_type": "code",
   "execution_count": 11,
   "metadata": {},
   "outputs": [
    {
     "data": {
      "text/html": [
       "<div>\n",
       "<style scoped>\n",
       "    .dataframe tbody tr th:only-of-type {\n",
       "        vertical-align: middle;\n",
       "    }\n",
       "\n",
       "    .dataframe tbody tr th {\n",
       "        vertical-align: top;\n",
       "    }\n",
       "\n",
       "    .dataframe thead th {\n",
       "        text-align: right;\n",
       "    }\n",
       "</style>\n",
       "<table border=\"1\" class=\"dataframe\">\n",
       "  <thead>\n",
       "    <tr style=\"text-align: right;\">\n",
       "      <th></th>\n",
       "      <th>fixed acidity</th>\n",
       "      <th>volatile acidity</th>\n",
       "      <th>citric acid</th>\n",
       "      <th>residual sugar</th>\n",
       "      <th>chlorides</th>\n",
       "      <th>free sulfur dioxide</th>\n",
       "      <th>total sulfur dioxide</th>\n",
       "      <th>density</th>\n",
       "      <th>pH</th>\n",
       "      <th>sulphates</th>\n",
       "      <th>alcohol</th>\n",
       "      <th>quality</th>\n",
       "    </tr>\n",
       "  </thead>\n",
       "  <tbody>\n",
       "    <tr>\n",
       "      <th>0</th>\n",
       "      <td>7.4</td>\n",
       "      <td>0.700</td>\n",
       "      <td>0.00</td>\n",
       "      <td>1.9</td>\n",
       "      <td>0.076</td>\n",
       "      <td>11.0</td>\n",
       "      <td>34.0</td>\n",
       "      <td>0.99780</td>\n",
       "      <td>3.51</td>\n",
       "      <td>0.56</td>\n",
       "      <td>9.4</td>\n",
       "      <td>5</td>\n",
       "    </tr>\n",
       "    <tr>\n",
       "      <th>1</th>\n",
       "      <td>7.8</td>\n",
       "      <td>0.880</td>\n",
       "      <td>0.00</td>\n",
       "      <td>2.6</td>\n",
       "      <td>0.098</td>\n",
       "      <td>25.0</td>\n",
       "      <td>67.0</td>\n",
       "      <td>0.99680</td>\n",
       "      <td>3.20</td>\n",
       "      <td>0.68</td>\n",
       "      <td>9.8</td>\n",
       "      <td>5</td>\n",
       "    </tr>\n",
       "    <tr>\n",
       "      <th>2</th>\n",
       "      <td>7.8</td>\n",
       "      <td>0.760</td>\n",
       "      <td>0.04</td>\n",
       "      <td>2.3</td>\n",
       "      <td>0.092</td>\n",
       "      <td>15.0</td>\n",
       "      <td>54.0</td>\n",
       "      <td>0.99700</td>\n",
       "      <td>3.26</td>\n",
       "      <td>0.65</td>\n",
       "      <td>9.8</td>\n",
       "      <td>5</td>\n",
       "    </tr>\n",
       "    <tr>\n",
       "      <th>3</th>\n",
       "      <td>11.2</td>\n",
       "      <td>0.280</td>\n",
       "      <td>0.56</td>\n",
       "      <td>1.9</td>\n",
       "      <td>0.075</td>\n",
       "      <td>17.0</td>\n",
       "      <td>60.0</td>\n",
       "      <td>0.99800</td>\n",
       "      <td>3.16</td>\n",
       "      <td>0.58</td>\n",
       "      <td>9.8</td>\n",
       "      <td>6</td>\n",
       "    </tr>\n",
       "    <tr>\n",
       "      <th>4</th>\n",
       "      <td>7.4</td>\n",
       "      <td>0.700</td>\n",
       "      <td>0.00</td>\n",
       "      <td>1.9</td>\n",
       "      <td>0.076</td>\n",
       "      <td>11.0</td>\n",
       "      <td>34.0</td>\n",
       "      <td>0.99780</td>\n",
       "      <td>3.51</td>\n",
       "      <td>0.56</td>\n",
       "      <td>9.4</td>\n",
       "      <td>5</td>\n",
       "    </tr>\n",
       "    <tr>\n",
       "      <th>...</th>\n",
       "      <td>...</td>\n",
       "      <td>...</td>\n",
       "      <td>...</td>\n",
       "      <td>...</td>\n",
       "      <td>...</td>\n",
       "      <td>...</td>\n",
       "      <td>...</td>\n",
       "      <td>...</td>\n",
       "      <td>...</td>\n",
       "      <td>...</td>\n",
       "      <td>...</td>\n",
       "      <td>...</td>\n",
       "    </tr>\n",
       "    <tr>\n",
       "      <th>1594</th>\n",
       "      <td>6.2</td>\n",
       "      <td>0.600</td>\n",
       "      <td>0.08</td>\n",
       "      <td>2.0</td>\n",
       "      <td>0.090</td>\n",
       "      <td>32.0</td>\n",
       "      <td>44.0</td>\n",
       "      <td>0.99490</td>\n",
       "      <td>3.45</td>\n",
       "      <td>0.58</td>\n",
       "      <td>10.5</td>\n",
       "      <td>5</td>\n",
       "    </tr>\n",
       "    <tr>\n",
       "      <th>1595</th>\n",
       "      <td>5.9</td>\n",
       "      <td>0.550</td>\n",
       "      <td>0.10</td>\n",
       "      <td>2.2</td>\n",
       "      <td>0.062</td>\n",
       "      <td>39.0</td>\n",
       "      <td>51.0</td>\n",
       "      <td>0.99512</td>\n",
       "      <td>3.52</td>\n",
       "      <td>0.76</td>\n",
       "      <td>11.2</td>\n",
       "      <td>6</td>\n",
       "    </tr>\n",
       "    <tr>\n",
       "      <th>1596</th>\n",
       "      <td>6.3</td>\n",
       "      <td>0.510</td>\n",
       "      <td>0.13</td>\n",
       "      <td>2.3</td>\n",
       "      <td>0.076</td>\n",
       "      <td>29.0</td>\n",
       "      <td>40.0</td>\n",
       "      <td>0.99574</td>\n",
       "      <td>3.42</td>\n",
       "      <td>0.75</td>\n",
       "      <td>11.0</td>\n",
       "      <td>6</td>\n",
       "    </tr>\n",
       "    <tr>\n",
       "      <th>1597</th>\n",
       "      <td>5.9</td>\n",
       "      <td>0.645</td>\n",
       "      <td>0.12</td>\n",
       "      <td>2.0</td>\n",
       "      <td>0.075</td>\n",
       "      <td>32.0</td>\n",
       "      <td>44.0</td>\n",
       "      <td>0.99547</td>\n",
       "      <td>3.57</td>\n",
       "      <td>0.71</td>\n",
       "      <td>10.2</td>\n",
       "      <td>5</td>\n",
       "    </tr>\n",
       "    <tr>\n",
       "      <th>1598</th>\n",
       "      <td>6.0</td>\n",
       "      <td>0.310</td>\n",
       "      <td>0.47</td>\n",
       "      <td>3.6</td>\n",
       "      <td>0.067</td>\n",
       "      <td>18.0</td>\n",
       "      <td>42.0</td>\n",
       "      <td>0.99549</td>\n",
       "      <td>3.39</td>\n",
       "      <td>0.66</td>\n",
       "      <td>11.0</td>\n",
       "      <td>6</td>\n",
       "    </tr>\n",
       "  </tbody>\n",
       "</table>\n",
       "<p>1360 rows × 12 columns</p>\n",
       "</div>"
      ],
      "text/plain": [
       "      fixed acidity  volatile acidity  citric acid  residual sugar  chlorides  \\\n",
       "0               7.4             0.700         0.00             1.9      0.076   \n",
       "1               7.8             0.880         0.00             2.6      0.098   \n",
       "2               7.8             0.760         0.04             2.3      0.092   \n",
       "3              11.2             0.280         0.56             1.9      0.075   \n",
       "4               7.4             0.700         0.00             1.9      0.076   \n",
       "...             ...               ...          ...             ...        ...   \n",
       "1594            6.2             0.600         0.08             2.0      0.090   \n",
       "1595            5.9             0.550         0.10             2.2      0.062   \n",
       "1596            6.3             0.510         0.13             2.3      0.076   \n",
       "1597            5.9             0.645         0.12             2.0      0.075   \n",
       "1598            6.0             0.310         0.47             3.6      0.067   \n",
       "\n",
       "      free sulfur dioxide  total sulfur dioxide  density    pH  sulphates  \\\n",
       "0                    11.0                  34.0  0.99780  3.51       0.56   \n",
       "1                    25.0                  67.0  0.99680  3.20       0.68   \n",
       "2                    15.0                  54.0  0.99700  3.26       0.65   \n",
       "3                    17.0                  60.0  0.99800  3.16       0.58   \n",
       "4                    11.0                  34.0  0.99780  3.51       0.56   \n",
       "...                   ...                   ...      ...   ...        ...   \n",
       "1594                 32.0                  44.0  0.99490  3.45       0.58   \n",
       "1595                 39.0                  51.0  0.99512  3.52       0.76   \n",
       "1596                 29.0                  40.0  0.99574  3.42       0.75   \n",
       "1597                 32.0                  44.0  0.99547  3.57       0.71   \n",
       "1598                 18.0                  42.0  0.99549  3.39       0.66   \n",
       "\n",
       "      alcohol  quality  \n",
       "0         9.4        5  \n",
       "1         9.8        5  \n",
       "2         9.8        5  \n",
       "3         9.8        6  \n",
       "4         9.4        5  \n",
       "...       ...      ...  \n",
       "1594     10.5        5  \n",
       "1595     11.2        6  \n",
       "1596     11.0        6  \n",
       "1597     10.2        5  \n",
       "1598     11.0        6  \n",
       "\n",
       "[1360 rows x 12 columns]"
      ]
     },
     "execution_count": 11,
     "metadata": {},
     "output_type": "execute_result"
    }
   ],
   "source": [
    "df_trim"
   ]
  },
  {
   "cell_type": "markdown",
   "metadata": {},
   "source": [
    "## VIF"
   ]
  },
  {
   "cell_type": "code",
   "execution_count": 12,
   "metadata": {},
   "outputs": [
    {
     "data": {
      "text/html": [
       "<div>\n",
       "<style scoped>\n",
       "    .dataframe tbody tr th:only-of-type {\n",
       "        vertical-align: middle;\n",
       "    }\n",
       "\n",
       "    .dataframe tbody tr th {\n",
       "        vertical-align: top;\n",
       "    }\n",
       "\n",
       "    .dataframe thead th {\n",
       "        text-align: right;\n",
       "    }\n",
       "</style>\n",
       "<table border=\"1\" class=\"dataframe\">\n",
       "  <thead>\n",
       "    <tr style=\"text-align: right;\">\n",
       "      <th></th>\n",
       "      <th>fitur</th>\n",
       "      <th>VIF</th>\n",
       "    </tr>\n",
       "  </thead>\n",
       "  <tbody>\n",
       "    <tr>\n",
       "      <th>0</th>\n",
       "      <td>fixed acidity</td>\n",
       "      <td>96.161219</td>\n",
       "    </tr>\n",
       "    <tr>\n",
       "      <th>1</th>\n",
       "      <td>volatile acidity</td>\n",
       "      <td>21.202251</td>\n",
       "    </tr>\n",
       "    <tr>\n",
       "      <th>2</th>\n",
       "      <td>citric acid</td>\n",
       "      <td>8.989014</td>\n",
       "    </tr>\n",
       "    <tr>\n",
       "      <th>3</th>\n",
       "      <td>residual sugar</td>\n",
       "      <td>6.390664</td>\n",
       "    </tr>\n",
       "    <tr>\n",
       "      <th>4</th>\n",
       "      <td>chlorides</td>\n",
       "      <td>11.357548</td>\n",
       "    </tr>\n",
       "    <tr>\n",
       "      <th>5</th>\n",
       "      <td>free sulfur dioxide</td>\n",
       "      <td>6.954765</td>\n",
       "    </tr>\n",
       "    <tr>\n",
       "      <th>6</th>\n",
       "      <td>total sulfur dioxide</td>\n",
       "      <td>7.282139</td>\n",
       "    </tr>\n",
       "    <tr>\n",
       "      <th>7</th>\n",
       "      <td>density</td>\n",
       "      <td>1880.932232</td>\n",
       "    </tr>\n",
       "    <tr>\n",
       "      <th>8</th>\n",
       "      <td>pH</td>\n",
       "      <td>1350.178216</td>\n",
       "    </tr>\n",
       "    <tr>\n",
       "      <th>9</th>\n",
       "      <td>sulphates</td>\n",
       "      <td>39.631484</td>\n",
       "    </tr>\n",
       "    <tr>\n",
       "      <th>10</th>\n",
       "      <td>alcohol</td>\n",
       "      <td>170.456731</td>\n",
       "    </tr>\n",
       "    <tr>\n",
       "      <th>11</th>\n",
       "      <td>quality</td>\n",
       "      <td>83.043999</td>\n",
       "    </tr>\n",
       "  </tbody>\n",
       "</table>\n",
       "</div>"
      ],
      "text/plain": [
       "                   fitur          VIF\n",
       "0          fixed acidity    96.161219\n",
       "1       volatile acidity    21.202251\n",
       "2            citric acid     8.989014\n",
       "3         residual sugar     6.390664\n",
       "4              chlorides    11.357548\n",
       "5    free sulfur dioxide     6.954765\n",
       "6   total sulfur dioxide     7.282139\n",
       "7                density  1880.932232\n",
       "8                     pH  1350.178216\n",
       "9              sulphates    39.631484\n",
       "10               alcohol   170.456731\n",
       "11               quality    83.043999"
      ]
     },
     "execution_count": 12,
     "metadata": {},
     "output_type": "execute_result"
    }
   ],
   "source": [
    "#Cek Multicollinearity\n",
    "from statsmodels.stats.outliers_influence import variance_inflation_factor\n",
    "\n",
    "vif_data = pd.DataFrame()\n",
    "vif_data['fitur'] = df_trim.columns\n",
    "  \n",
    "# Melakukan kalkulasi VIF pada setiap fitur\n",
    "vif_data[\"VIF\"] = [variance_inflation_factor(df_trim.values, i) for i in range(len(df_trim.columns))]\n",
    "\n",
    "vif_data"
   ]
  },
  {
   "cell_type": "code",
   "execution_count": 13,
   "metadata": {},
   "outputs": [
    {
     "data": {
      "text/html": [
       "<div>\n",
       "<style scoped>\n",
       "    .dataframe tbody tr th:only-of-type {\n",
       "        vertical-align: middle;\n",
       "    }\n",
       "\n",
       "    .dataframe tbody tr th {\n",
       "        vertical-align: top;\n",
       "    }\n",
       "\n",
       "    .dataframe thead th {\n",
       "        text-align: right;\n",
       "    }\n",
       "</style>\n",
       "<table border=\"1\" class=\"dataframe\">\n",
       "  <thead>\n",
       "    <tr style=\"text-align: right;\">\n",
       "      <th></th>\n",
       "      <th>fitur</th>\n",
       "      <th>VIF</th>\n",
       "    </tr>\n",
       "  </thead>\n",
       "  <tbody>\n",
       "    <tr>\n",
       "      <th>0</th>\n",
       "      <td>volatile acidity</td>\n",
       "      <td>7.574948</td>\n",
       "    </tr>\n",
       "    <tr>\n",
       "      <th>1</th>\n",
       "      <td>citric acid</td>\n",
       "      <td>2.885373</td>\n",
       "    </tr>\n",
       "    <tr>\n",
       "      <th>2</th>\n",
       "      <td>chlorides</td>\n",
       "      <td>9.214012</td>\n",
       "    </tr>\n",
       "    <tr>\n",
       "      <th>3</th>\n",
       "      <td>free sulfur dioxide</td>\n",
       "      <td>5.907156</td>\n",
       "    </tr>\n",
       "    <tr>\n",
       "      <th>4</th>\n",
       "      <td>total sulfur dioxide</td>\n",
       "      <td>6.148861</td>\n",
       "    </tr>\n",
       "  </tbody>\n",
       "</table>\n",
       "</div>"
      ],
      "text/plain": [
       "                  fitur       VIF\n",
       "0      volatile acidity  7.574948\n",
       "1           citric acid  2.885373\n",
       "2             chlorides  9.214012\n",
       "3   free sulfur dioxide  5.907156\n",
       "4  total sulfur dioxide  6.148861"
      ]
     },
     "execution_count": 13,
     "metadata": {},
     "output_type": "execute_result"
    }
   ],
   "source": [
    "#Cek Multicollinearity\n",
    "df=df_trim.drop(['quality','density','pH','alcohol','fixed acidity','residual sugar','sulphates'], axis=1)\n",
    "vif_data = pd.DataFrame()\n",
    "vif_data['fitur'] = df.columns\n",
    "  \n",
    "# Melakukan kalkulasi VIF pada setiap fitur\n",
    "vif_data[\"VIF\"] = [variance_inflation_factor(df.values, i) for i in range(len(df.columns))]\n",
    "\n",
    "vif_data"
   ]
  },
  {
   "cell_type": "markdown",
   "metadata": {},
   "source": [
    "Setelah dilakukan VIF ternyata didapatkan fitur penunjang dengan skor di atas 10 yaitu 'density', 'pH', 'fixed acidity', 'alcohol', 'sulphates', dan 'residual sugar'. Dari gabungan hasil interpretasi diatas, saya akan melakukan model dengan menggunakan fitur yaitu 'volatile acidity', 'citric acid', 'chlorides', 'pH', 'fixed acidity', 'sulphates', 'alcohol'"
   ]
  },
  {
   "cell_type": "code",
   "execution_count": 17,
   "metadata": {},
   "outputs": [
    {
     "data": {
      "text/plain": [
       "(1360, 8)"
      ]
     },
     "execution_count": 17,
     "metadata": {},
     "output_type": "execute_result"
    }
   ],
   "source": [
    "# Melakukan drop fitur yang tidak dipakai\n",
    "df=df_trim.drop(df_trim.columns.difference(['quality','volatile acidity', 'citric acid', 'chlorides', 'pH', 'fixed acidity', 'sulphates', 'alcohol']), axis=1)\n",
    "df.shape"
   ]
  },
  {
   "cell_type": "markdown",
   "metadata": {},
   "source": [
    "Diketahui bahwa kualitas memiliki skor 3-8, akan saya definisikan dengan skor diatas 7 adalah nilai dengan kualitas wine yang baik dan skor dibawah 7 adalah kualitas wine kurang baik"
   ]
  },
  {
   "cell_type": "code",
   "execution_count": 18,
   "metadata": {},
   "outputs": [
    {
     "data": {
      "text/plain": [
       "(1360, 7)"
      ]
     },
     "execution_count": 18,
     "metadata": {},
     "output_type": "execute_result"
    }
   ],
   "source": [
    "kualitas = df['quality'].apply(lambda y_value: 1 if y_value >=7 else 0)\n",
    "df=df.drop('quality', axis=1)\n",
    "df.shape"
   ]
  },
  {
   "cell_type": "code",
   "execution_count": 19,
   "metadata": {},
   "outputs": [
    {
     "data": {
      "text/html": [
       "<div>\n",
       "<style scoped>\n",
       "    .dataframe tbody tr th:only-of-type {\n",
       "        vertical-align: middle;\n",
       "    }\n",
       "\n",
       "    .dataframe tbody tr th {\n",
       "        vertical-align: top;\n",
       "    }\n",
       "\n",
       "    .dataframe thead th {\n",
       "        text-align: right;\n",
       "    }\n",
       "</style>\n",
       "<table border=\"1\" class=\"dataframe\">\n",
       "  <thead>\n",
       "    <tr style=\"text-align: right;\">\n",
       "      <th></th>\n",
       "      <th>fixed acidity</th>\n",
       "      <th>volatile acidity</th>\n",
       "      <th>citric acid</th>\n",
       "      <th>chlorides</th>\n",
       "      <th>pH</th>\n",
       "      <th>sulphates</th>\n",
       "      <th>alcohol</th>\n",
       "      <th>quality</th>\n",
       "    </tr>\n",
       "  </thead>\n",
       "  <tbody>\n",
       "    <tr>\n",
       "      <th>0</th>\n",
       "      <td>7.4</td>\n",
       "      <td>0.700</td>\n",
       "      <td>0.00</td>\n",
       "      <td>0.076</td>\n",
       "      <td>3.51</td>\n",
       "      <td>0.56</td>\n",
       "      <td>9.4</td>\n",
       "      <td>0</td>\n",
       "    </tr>\n",
       "    <tr>\n",
       "      <th>1</th>\n",
       "      <td>7.8</td>\n",
       "      <td>0.880</td>\n",
       "      <td>0.00</td>\n",
       "      <td>0.098</td>\n",
       "      <td>3.20</td>\n",
       "      <td>0.68</td>\n",
       "      <td>9.8</td>\n",
       "      <td>0</td>\n",
       "    </tr>\n",
       "    <tr>\n",
       "      <th>2</th>\n",
       "      <td>7.8</td>\n",
       "      <td>0.760</td>\n",
       "      <td>0.04</td>\n",
       "      <td>0.092</td>\n",
       "      <td>3.26</td>\n",
       "      <td>0.65</td>\n",
       "      <td>9.8</td>\n",
       "      <td>0</td>\n",
       "    </tr>\n",
       "    <tr>\n",
       "      <th>3</th>\n",
       "      <td>11.2</td>\n",
       "      <td>0.280</td>\n",
       "      <td>0.56</td>\n",
       "      <td>0.075</td>\n",
       "      <td>3.16</td>\n",
       "      <td>0.58</td>\n",
       "      <td>9.8</td>\n",
       "      <td>0</td>\n",
       "    </tr>\n",
       "    <tr>\n",
       "      <th>4</th>\n",
       "      <td>7.4</td>\n",
       "      <td>0.700</td>\n",
       "      <td>0.00</td>\n",
       "      <td>0.076</td>\n",
       "      <td>3.51</td>\n",
       "      <td>0.56</td>\n",
       "      <td>9.4</td>\n",
       "      <td>0</td>\n",
       "    </tr>\n",
       "    <tr>\n",
       "      <th>...</th>\n",
       "      <td>...</td>\n",
       "      <td>...</td>\n",
       "      <td>...</td>\n",
       "      <td>...</td>\n",
       "      <td>...</td>\n",
       "      <td>...</td>\n",
       "      <td>...</td>\n",
       "      <td>...</td>\n",
       "    </tr>\n",
       "    <tr>\n",
       "      <th>1594</th>\n",
       "      <td>6.2</td>\n",
       "      <td>0.600</td>\n",
       "      <td>0.08</td>\n",
       "      <td>0.090</td>\n",
       "      <td>3.45</td>\n",
       "      <td>0.58</td>\n",
       "      <td>10.5</td>\n",
       "      <td>0</td>\n",
       "    </tr>\n",
       "    <tr>\n",
       "      <th>1595</th>\n",
       "      <td>5.9</td>\n",
       "      <td>0.550</td>\n",
       "      <td>0.10</td>\n",
       "      <td>0.062</td>\n",
       "      <td>3.52</td>\n",
       "      <td>0.76</td>\n",
       "      <td>11.2</td>\n",
       "      <td>0</td>\n",
       "    </tr>\n",
       "    <tr>\n",
       "      <th>1596</th>\n",
       "      <td>6.3</td>\n",
       "      <td>0.510</td>\n",
       "      <td>0.13</td>\n",
       "      <td>0.076</td>\n",
       "      <td>3.42</td>\n",
       "      <td>0.75</td>\n",
       "      <td>11.0</td>\n",
       "      <td>0</td>\n",
       "    </tr>\n",
       "    <tr>\n",
       "      <th>1597</th>\n",
       "      <td>5.9</td>\n",
       "      <td>0.645</td>\n",
       "      <td>0.12</td>\n",
       "      <td>0.075</td>\n",
       "      <td>3.57</td>\n",
       "      <td>0.71</td>\n",
       "      <td>10.2</td>\n",
       "      <td>0</td>\n",
       "    </tr>\n",
       "    <tr>\n",
       "      <th>1598</th>\n",
       "      <td>6.0</td>\n",
       "      <td>0.310</td>\n",
       "      <td>0.47</td>\n",
       "      <td>0.067</td>\n",
       "      <td>3.39</td>\n",
       "      <td>0.66</td>\n",
       "      <td>11.0</td>\n",
       "      <td>0</td>\n",
       "    </tr>\n",
       "  </tbody>\n",
       "</table>\n",
       "<p>1360 rows × 8 columns</p>\n",
       "</div>"
      ],
      "text/plain": [
       "      fixed acidity  volatile acidity  citric acid  chlorides    pH  \\\n",
       "0               7.4             0.700         0.00      0.076  3.51   \n",
       "1               7.8             0.880         0.00      0.098  3.20   \n",
       "2               7.8             0.760         0.04      0.092  3.26   \n",
       "3              11.2             0.280         0.56      0.075  3.16   \n",
       "4               7.4             0.700         0.00      0.076  3.51   \n",
       "...             ...               ...          ...        ...   ...   \n",
       "1594            6.2             0.600         0.08      0.090  3.45   \n",
       "1595            5.9             0.550         0.10      0.062  3.52   \n",
       "1596            6.3             0.510         0.13      0.076  3.42   \n",
       "1597            5.9             0.645         0.12      0.075  3.57   \n",
       "1598            6.0             0.310         0.47      0.067  3.39   \n",
       "\n",
       "      sulphates  alcohol  quality  \n",
       "0          0.56      9.4        0  \n",
       "1          0.68      9.8        0  \n",
       "2          0.65      9.8        0  \n",
       "3          0.58      9.8        0  \n",
       "4          0.56      9.4        0  \n",
       "...         ...      ...      ...  \n",
       "1594       0.58     10.5        0  \n",
       "1595       0.76     11.2        0  \n",
       "1596       0.75     11.0        0  \n",
       "1597       0.71     10.2        0  \n",
       "1598       0.66     11.0        0  \n",
       "\n",
       "[1360 rows x 8 columns]"
      ]
     },
     "execution_count": 19,
     "metadata": {},
     "output_type": "execute_result"
    }
   ],
   "source": [
    "df['quality'] = kualitas\n",
    "df"
   ]
  },
  {
   "cell_type": "code",
   "execution_count": 20,
   "metadata": {},
   "outputs": [
    {
     "data": {
      "text/plain": [
       "<AxesSubplot:xlabel='quality', ylabel='count'>"
      ]
     },
     "execution_count": 20,
     "metadata": {},
     "output_type": "execute_result"
    },
    {
     "data": {
      "image/png": "[encoded data removed]",
      "text/plain": [
       "<Figure size 432x288 with 1 Axes>"
      ]
     },
     "metadata": {
      "needs_background": "light"
     },
     "output_type": "display_data"
    }
   ],
   "source": [
    "sns.countplot(data=df, x='quality')"
   ]
  },
  {
   "cell_type": "markdown",
   "metadata": {},
   "source": [
    "Terlihat ternyata data imbalance"
   ]
  },
  {
   "cell_type": "markdown",
   "metadata": {},
   "source": [
    "## Data Inference"
   ]
  },
  {
   "cell_type": "code",
   "execution_count": 170,
   "metadata": {},
   "outputs": [
    {
     "data": {
      "text/html": [
       "<div>\n",
       "<style scoped>\n",
       "    .dataframe tbody tr th:only-of-type {\n",
       "        vertical-align: middle;\n",
       "    }\n",
       "\n",
       "    .dataframe tbody tr th {\n",
       "        vertical-align: top;\n",
       "    }\n",
       "\n",
       "    .dataframe thead th {\n",
       "        text-align: right;\n",
       "    }\n",
       "</style>\n",
       "<table border=\"1\" class=\"dataframe\">\n",
       "  <thead>\n",
       "    <tr style=\"text-align: right;\">\n",
       "      <th></th>\n",
       "      <th>fixed acidity</th>\n",
       "      <th>volatile acidity</th>\n",
       "      <th>citric acid</th>\n",
       "      <th>chlorides</th>\n",
       "      <th>pH</th>\n",
       "      <th>sulphates</th>\n",
       "      <th>alcohol</th>\n",
       "      <th>quality</th>\n",
       "    </tr>\n",
       "  </thead>\n",
       "  <tbody>\n",
       "    <tr>\n",
       "      <th>537</th>\n",
       "      <td>8.1</td>\n",
       "      <td>0.825</td>\n",
       "      <td>0.24</td>\n",
       "      <td>0.084</td>\n",
       "      <td>3.37</td>\n",
       "      <td>0.77</td>\n",
       "      <td>10.700000</td>\n",
       "      <td>0</td>\n",
       "    </tr>\n",
       "    <tr>\n",
       "      <th>1057</th>\n",
       "      <td>7.6</td>\n",
       "      <td>0.420</td>\n",
       "      <td>0.25</td>\n",
       "      <td>0.104</td>\n",
       "      <td>3.15</td>\n",
       "      <td>0.57</td>\n",
       "      <td>9.100000</td>\n",
       "      <td>0</td>\n",
       "    </tr>\n",
       "    <tr>\n",
       "      <th>1362</th>\n",
       "      <td>11.6</td>\n",
       "      <td>0.475</td>\n",
       "      <td>0.40</td>\n",
       "      <td>0.091</td>\n",
       "      <td>3.07</td>\n",
       "      <td>0.65</td>\n",
       "      <td>10.033333</td>\n",
       "      <td>0</td>\n",
       "    </tr>\n",
       "    <tr>\n",
       "      <th>132</th>\n",
       "      <td>5.6</td>\n",
       "      <td>0.500</td>\n",
       "      <td>0.09</td>\n",
       "      <td>0.049</td>\n",
       "      <td>3.63</td>\n",
       "      <td>0.63</td>\n",
       "      <td>13.000000</td>\n",
       "      <td>0</td>\n",
       "    </tr>\n",
       "    <tr>\n",
       "      <th>654</th>\n",
       "      <td>8.6</td>\n",
       "      <td>0.470</td>\n",
       "      <td>0.47</td>\n",
       "      <td>0.074</td>\n",
       "      <td>3.08</td>\n",
       "      <td>0.46</td>\n",
       "      <td>9.500000</td>\n",
       "      <td>0</td>\n",
       "    </tr>\n",
       "    <tr>\n",
       "      <th>128</th>\n",
       "      <td>8.0</td>\n",
       "      <td>0.590</td>\n",
       "      <td>0.16</td>\n",
       "      <td>0.065</td>\n",
       "      <td>3.42</td>\n",
       "      <td>0.92</td>\n",
       "      <td>10.500000</td>\n",
       "      <td>1</td>\n",
       "    </tr>\n",
       "    <tr>\n",
       "      <th>1499</th>\n",
       "      <td>6.9</td>\n",
       "      <td>0.740</td>\n",
       "      <td>0.03</td>\n",
       "      <td>0.054</td>\n",
       "      <td>3.45</td>\n",
       "      <td>0.63</td>\n",
       "      <td>11.500000</td>\n",
       "      <td>0</td>\n",
       "    </tr>\n",
       "    <tr>\n",
       "      <th>1012</th>\n",
       "      <td>7.7</td>\n",
       "      <td>1.005</td>\n",
       "      <td>0.15</td>\n",
       "      <td>0.102</td>\n",
       "      <td>3.23</td>\n",
       "      <td>0.48</td>\n",
       "      <td>10.000000</td>\n",
       "      <td>0</td>\n",
       "    </tr>\n",
       "    <tr>\n",
       "      <th>444</th>\n",
       "      <td>5.3</td>\n",
       "      <td>0.570</td>\n",
       "      <td>0.01</td>\n",
       "      <td>0.054</td>\n",
       "      <td>3.57</td>\n",
       "      <td>0.84</td>\n",
       "      <td>12.500000</td>\n",
       "      <td>1</td>\n",
       "    </tr>\n",
       "    <tr>\n",
       "      <th>940</th>\n",
       "      <td>9.6</td>\n",
       "      <td>0.330</td>\n",
       "      <td>0.52</td>\n",
       "      <td>0.074</td>\n",
       "      <td>3.36</td>\n",
       "      <td>0.76</td>\n",
       "      <td>12.400000</td>\n",
       "      <td>1</td>\n",
       "    </tr>\n",
       "  </tbody>\n",
       "</table>\n",
       "</div>"
      ],
      "text/plain": [
       "      fixed acidity  volatile acidity  citric acid  chlorides    pH  \\\n",
       "537             8.1             0.825         0.24      0.084  3.37   \n",
       "1057            7.6             0.420         0.25      0.104  3.15   \n",
       "1362           11.6             0.475         0.40      0.091  3.07   \n",
       "132             5.6             0.500         0.09      0.049  3.63   \n",
       "654             8.6             0.470         0.47      0.074  3.08   \n",
       "128             8.0             0.590         0.16      0.065  3.42   \n",
       "1499            6.9             0.740         0.03      0.054  3.45   \n",
       "1012            7.7             1.005         0.15      0.102  3.23   \n",
       "444             5.3             0.570         0.01      0.054  3.57   \n",
       "940             9.6             0.330         0.52      0.074  3.36   \n",
       "\n",
       "      sulphates    alcohol  quality  \n",
       "537        0.77  10.700000        0  \n",
       "1057       0.57   9.100000        0  \n",
       "1362       0.65  10.033333        0  \n",
       "132        0.63  13.000000        0  \n",
       "654        0.46   9.500000        0  \n",
       "128        0.92  10.500000        1  \n",
       "1499       0.63  11.500000        0  \n",
       "1012       0.48  10.000000        0  \n",
       "444        0.84  12.500000        1  \n",
       "940        0.76  12.400000        1  "
      ]
     },
     "execution_count": 170,
     "metadata": {},
     "output_type": "execute_result"
    }
   ],
   "source": [
    "# Membuat data inference\n",
    "df_inf = df.sample(10, random_state=17)\n",
    "df_inf"
   ]
  },
  {
   "cell_type": "code",
   "execution_count": 171,
   "metadata": {},
   "outputs": [],
   "source": [
    "# Remove Inference-Set from Dataset\n",
    "df_train_test = df.drop(df_inf.index)"
   ]
  },
  {
   "cell_type": "code",
   "execution_count": 172,
   "metadata": {},
   "outputs": [
    {
     "data": {
      "text/html": [
       "<div>\n",
       "<style scoped>\n",
       "    .dataframe tbody tr th:only-of-type {\n",
       "        vertical-align: middle;\n",
       "    }\n",
       "\n",
       "    .dataframe tbody tr th {\n",
       "        vertical-align: top;\n",
       "    }\n",
       "\n",
       "    .dataframe thead th {\n",
       "        text-align: right;\n",
       "    }\n",
       "</style>\n",
       "<table border=\"1\" class=\"dataframe\">\n",
       "  <thead>\n",
       "    <tr style=\"text-align: right;\">\n",
       "      <th></th>\n",
       "      <th>fixed acidity</th>\n",
       "      <th>volatile acidity</th>\n",
       "      <th>citric acid</th>\n",
       "      <th>chlorides</th>\n",
       "      <th>pH</th>\n",
       "      <th>sulphates</th>\n",
       "      <th>alcohol</th>\n",
       "      <th>quality</th>\n",
       "    </tr>\n",
       "  </thead>\n",
       "  <tbody>\n",
       "    <tr>\n",
       "      <th>0</th>\n",
       "      <td>7.4</td>\n",
       "      <td>0.700</td>\n",
       "      <td>0.00</td>\n",
       "      <td>0.076</td>\n",
       "      <td>3.51</td>\n",
       "      <td>0.56</td>\n",
       "      <td>9.4</td>\n",
       "      <td>0</td>\n",
       "    </tr>\n",
       "    <tr>\n",
       "      <th>1</th>\n",
       "      <td>7.8</td>\n",
       "      <td>0.880</td>\n",
       "      <td>0.00</td>\n",
       "      <td>0.098</td>\n",
       "      <td>3.20</td>\n",
       "      <td>0.68</td>\n",
       "      <td>9.8</td>\n",
       "      <td>0</td>\n",
       "    </tr>\n",
       "    <tr>\n",
       "      <th>2</th>\n",
       "      <td>7.8</td>\n",
       "      <td>0.760</td>\n",
       "      <td>0.04</td>\n",
       "      <td>0.092</td>\n",
       "      <td>3.26</td>\n",
       "      <td>0.65</td>\n",
       "      <td>9.8</td>\n",
       "      <td>0</td>\n",
       "    </tr>\n",
       "    <tr>\n",
       "      <th>3</th>\n",
       "      <td>11.2</td>\n",
       "      <td>0.280</td>\n",
       "      <td>0.56</td>\n",
       "      <td>0.075</td>\n",
       "      <td>3.16</td>\n",
       "      <td>0.58</td>\n",
       "      <td>9.8</td>\n",
       "      <td>0</td>\n",
       "    </tr>\n",
       "    <tr>\n",
       "      <th>4</th>\n",
       "      <td>7.4</td>\n",
       "      <td>0.700</td>\n",
       "      <td>0.00</td>\n",
       "      <td>0.076</td>\n",
       "      <td>3.51</td>\n",
       "      <td>0.56</td>\n",
       "      <td>9.4</td>\n",
       "      <td>0</td>\n",
       "    </tr>\n",
       "    <tr>\n",
       "      <th>...</th>\n",
       "      <td>...</td>\n",
       "      <td>...</td>\n",
       "      <td>...</td>\n",
       "      <td>...</td>\n",
       "      <td>...</td>\n",
       "      <td>...</td>\n",
       "      <td>...</td>\n",
       "      <td>...</td>\n",
       "    </tr>\n",
       "    <tr>\n",
       "      <th>1345</th>\n",
       "      <td>6.2</td>\n",
       "      <td>0.600</td>\n",
       "      <td>0.08</td>\n",
       "      <td>0.090</td>\n",
       "      <td>3.45</td>\n",
       "      <td>0.58</td>\n",
       "      <td>10.5</td>\n",
       "      <td>0</td>\n",
       "    </tr>\n",
       "    <tr>\n",
       "      <th>1346</th>\n",
       "      <td>5.9</td>\n",
       "      <td>0.550</td>\n",
       "      <td>0.10</td>\n",
       "      <td>0.062</td>\n",
       "      <td>3.52</td>\n",
       "      <td>0.76</td>\n",
       "      <td>11.2</td>\n",
       "      <td>0</td>\n",
       "    </tr>\n",
       "    <tr>\n",
       "      <th>1347</th>\n",
       "      <td>6.3</td>\n",
       "      <td>0.510</td>\n",
       "      <td>0.13</td>\n",
       "      <td>0.076</td>\n",
       "      <td>3.42</td>\n",
       "      <td>0.75</td>\n",
       "      <td>11.0</td>\n",
       "      <td>0</td>\n",
       "    </tr>\n",
       "    <tr>\n",
       "      <th>1348</th>\n",
       "      <td>5.9</td>\n",
       "      <td>0.645</td>\n",
       "      <td>0.12</td>\n",
       "      <td>0.075</td>\n",
       "      <td>3.57</td>\n",
       "      <td>0.71</td>\n",
       "      <td>10.2</td>\n",
       "      <td>0</td>\n",
       "    </tr>\n",
       "    <tr>\n",
       "      <th>1349</th>\n",
       "      <td>6.0</td>\n",
       "      <td>0.310</td>\n",
       "      <td>0.47</td>\n",
       "      <td>0.067</td>\n",
       "      <td>3.39</td>\n",
       "      <td>0.66</td>\n",
       "      <td>11.0</td>\n",
       "      <td>0</td>\n",
       "    </tr>\n",
       "  </tbody>\n",
       "</table>\n",
       "<p>1350 rows × 8 columns</p>\n",
       "</div>"
      ],
      "text/plain": [
       "      fixed acidity  volatile acidity  citric acid  chlorides    pH  \\\n",
       "0               7.4             0.700         0.00      0.076  3.51   \n",
       "1               7.8             0.880         0.00      0.098  3.20   \n",
       "2               7.8             0.760         0.04      0.092  3.26   \n",
       "3              11.2             0.280         0.56      0.075  3.16   \n",
       "4               7.4             0.700         0.00      0.076  3.51   \n",
       "...             ...               ...          ...        ...   ...   \n",
       "1345            6.2             0.600         0.08      0.090  3.45   \n",
       "1346            5.9             0.550         0.10      0.062  3.52   \n",
       "1347            6.3             0.510         0.13      0.076  3.42   \n",
       "1348            5.9             0.645         0.12      0.075  3.57   \n",
       "1349            6.0             0.310         0.47      0.067  3.39   \n",
       "\n",
       "      sulphates  alcohol  quality  \n",
       "0          0.56      9.4        0  \n",
       "1          0.68      9.8        0  \n",
       "2          0.65      9.8        0  \n",
       "3          0.58      9.8        0  \n",
       "4          0.56      9.4        0  \n",
       "...         ...      ...      ...  \n",
       "1345       0.58     10.5        0  \n",
       "1346       0.76     11.2        0  \n",
       "1347       0.75     11.0        0  \n",
       "1348       0.71     10.2        0  \n",
       "1349       0.66     11.0        0  \n",
       "\n",
       "[1350 rows x 8 columns]"
      ]
     },
     "execution_count": 172,
     "metadata": {},
     "output_type": "execute_result"
    }
   ],
   "source": [
    "# Reset Index\n",
    "df_train_test.reset_index(drop=True, inplace=True)\n",
    "df_inf.reset_index(drop=True, inplace=True)\n",
    "df_train_test"
   ]
  },
  {
   "cell_type": "code",
   "execution_count": 173,
   "metadata": {
    "colab": {
     "base_uri": "https://localhost:8080/",
     "height": 540
    },
    "id": "teFa8hRLSNso",
    "outputId": "1d0471b7-6e67-4959-da23-b9cdf20d51cf"
   },
   "outputs": [
    {
     "data": {
      "text/html": [
       "<div>\n",
       "<style scoped>\n",
       "    .dataframe tbody tr th:only-of-type {\n",
       "        vertical-align: middle;\n",
       "    }\n",
       "\n",
       "    .dataframe tbody tr th {\n",
       "        vertical-align: top;\n",
       "    }\n",
       "\n",
       "    .dataframe thead th {\n",
       "        text-align: right;\n",
       "    }\n",
       "</style>\n",
       "<table border=\"1\" class=\"dataframe\">\n",
       "  <thead>\n",
       "    <tr style=\"text-align: right;\">\n",
       "      <th></th>\n",
       "      <th>fixed acidity</th>\n",
       "      <th>volatile acidity</th>\n",
       "      <th>citric acid</th>\n",
       "      <th>chlorides</th>\n",
       "      <th>pH</th>\n",
       "      <th>sulphates</th>\n",
       "      <th>alcohol</th>\n",
       "    </tr>\n",
       "  </thead>\n",
       "  <tbody>\n",
       "    <tr>\n",
       "      <th>0</th>\n",
       "      <td>7.4</td>\n",
       "      <td>0.700</td>\n",
       "      <td>0.00</td>\n",
       "      <td>0.076</td>\n",
       "      <td>3.51</td>\n",
       "      <td>0.56</td>\n",
       "      <td>9.4</td>\n",
       "    </tr>\n",
       "    <tr>\n",
       "      <th>1</th>\n",
       "      <td>7.8</td>\n",
       "      <td>0.880</td>\n",
       "      <td>0.00</td>\n",
       "      <td>0.098</td>\n",
       "      <td>3.20</td>\n",
       "      <td>0.68</td>\n",
       "      <td>9.8</td>\n",
       "    </tr>\n",
       "    <tr>\n",
       "      <th>2</th>\n",
       "      <td>7.8</td>\n",
       "      <td>0.760</td>\n",
       "      <td>0.04</td>\n",
       "      <td>0.092</td>\n",
       "      <td>3.26</td>\n",
       "      <td>0.65</td>\n",
       "      <td>9.8</td>\n",
       "    </tr>\n",
       "    <tr>\n",
       "      <th>3</th>\n",
       "      <td>11.2</td>\n",
       "      <td>0.280</td>\n",
       "      <td>0.56</td>\n",
       "      <td>0.075</td>\n",
       "      <td>3.16</td>\n",
       "      <td>0.58</td>\n",
       "      <td>9.8</td>\n",
       "    </tr>\n",
       "    <tr>\n",
       "      <th>4</th>\n",
       "      <td>7.4</td>\n",
       "      <td>0.700</td>\n",
       "      <td>0.00</td>\n",
       "      <td>0.076</td>\n",
       "      <td>3.51</td>\n",
       "      <td>0.56</td>\n",
       "      <td>9.4</td>\n",
       "    </tr>\n",
       "    <tr>\n",
       "      <th>...</th>\n",
       "      <td>...</td>\n",
       "      <td>...</td>\n",
       "      <td>...</td>\n",
       "      <td>...</td>\n",
       "      <td>...</td>\n",
       "      <td>...</td>\n",
       "      <td>...</td>\n",
       "    </tr>\n",
       "    <tr>\n",
       "      <th>1345</th>\n",
       "      <td>6.2</td>\n",
       "      <td>0.600</td>\n",
       "      <td>0.08</td>\n",
       "      <td>0.090</td>\n",
       "      <td>3.45</td>\n",
       "      <td>0.58</td>\n",
       "      <td>10.5</td>\n",
       "    </tr>\n",
       "    <tr>\n",
       "      <th>1346</th>\n",
       "      <td>5.9</td>\n",
       "      <td>0.550</td>\n",
       "      <td>0.10</td>\n",
       "      <td>0.062</td>\n",
       "      <td>3.52</td>\n",
       "      <td>0.76</td>\n",
       "      <td>11.2</td>\n",
       "    </tr>\n",
       "    <tr>\n",
       "      <th>1347</th>\n",
       "      <td>6.3</td>\n",
       "      <td>0.510</td>\n",
       "      <td>0.13</td>\n",
       "      <td>0.076</td>\n",
       "      <td>3.42</td>\n",
       "      <td>0.75</td>\n",
       "      <td>11.0</td>\n",
       "    </tr>\n",
       "    <tr>\n",
       "      <th>1348</th>\n",
       "      <td>5.9</td>\n",
       "      <td>0.645</td>\n",
       "      <td>0.12</td>\n",
       "      <td>0.075</td>\n",
       "      <td>3.57</td>\n",
       "      <td>0.71</td>\n",
       "      <td>10.2</td>\n",
       "    </tr>\n",
       "    <tr>\n",
       "      <th>1349</th>\n",
       "      <td>6.0</td>\n",
       "      <td>0.310</td>\n",
       "      <td>0.47</td>\n",
       "      <td>0.067</td>\n",
       "      <td>3.39</td>\n",
       "      <td>0.66</td>\n",
       "      <td>11.0</td>\n",
       "    </tr>\n",
       "  </tbody>\n",
       "</table>\n",
       "<p>1350 rows × 7 columns</p>\n",
       "</div>"
      ],
      "text/plain": [
       "      fixed acidity  volatile acidity  citric acid  chlorides    pH  \\\n",
       "0               7.4             0.700         0.00      0.076  3.51   \n",
       "1               7.8             0.880         0.00      0.098  3.20   \n",
       "2               7.8             0.760         0.04      0.092  3.26   \n",
       "3              11.2             0.280         0.56      0.075  3.16   \n",
       "4               7.4             0.700         0.00      0.076  3.51   \n",
       "...             ...               ...          ...        ...   ...   \n",
       "1345            6.2             0.600         0.08      0.090  3.45   \n",
       "1346            5.9             0.550         0.10      0.062  3.52   \n",
       "1347            6.3             0.510         0.13      0.076  3.42   \n",
       "1348            5.9             0.645         0.12      0.075  3.57   \n",
       "1349            6.0             0.310         0.47      0.067  3.39   \n",
       "\n",
       "      sulphates  alcohol  \n",
       "0          0.56      9.4  \n",
       "1          0.68      9.8  \n",
       "2          0.65      9.8  \n",
       "3          0.58      9.8  \n",
       "4          0.56      9.4  \n",
       "...         ...      ...  \n",
       "1345       0.58     10.5  \n",
       "1346       0.76     11.2  \n",
       "1347       0.75     11.0  \n",
       "1348       0.71     10.2  \n",
       "1349       0.66     11.0  \n",
       "\n",
       "[1350 rows x 7 columns]"
      ]
     },
     "execution_count": 173,
     "metadata": {},
     "output_type": "execute_result"
    }
   ],
   "source": [
    "# Split between train-set and test-set\n",
    "X = df_train_test.drop('quality', axis=1)\n",
    "y = df_train_test['quality']\n",
    "X"
   ]
  },
  {
   "cell_type": "code",
   "execution_count": 174,
   "metadata": {
    "colab": {
     "base_uri": "https://localhost:8080/"
    },
    "id": "3JRWgKV2Sk4O",
    "outputId": "cbf9054d-b544-41c7-a043-4c82703a53bf"
   },
   "outputs": [
    {
     "name": "stdout",
     "output_type": "stream",
     "text": [
      "Train Size:  (945, 7)\n",
      "Test Size:  (405, 7)\n"
     ]
    }
   ],
   "source": [
    "# Split between train-set and test-set imbalance dataset\n",
    "from sklearn.model_selection import train_test_split\n",
    "\n",
    "X_train_imbalanced, X_test, y_train_imbalanced, y_test = train_test_split(X, y, test_size=0.3, stratify=y, random_state=17)\n",
    "print('Train Size: ', X_train_imbalanced.shape)\n",
    "print('Test Size: ',X_test.shape)"
   ]
  },
  {
   "cell_type": "markdown",
   "metadata": {
    "id": "dKedUJ6oZYj4"
   },
   "source": [
    "## Feature Scalling"
   ]
  },
  {
   "cell_type": "code",
   "execution_count": 175,
   "metadata": {
    "colab": {
     "base_uri": "https://localhost:8080/"
    },
    "id": "t8a_nLS_ZXfz",
    "outputId": "a236a493-b675-4068-bb69-8a2808042d93"
   },
   "outputs": [
    {
     "data": {
      "text/plain": [
       "array([[0.375     , 0.35955056, 0.35897436, ..., 0.37837838, 0.51515152,\n",
       "        0.2       ],\n",
       "       [0.61111111, 0.30337079, 0.52564103, ..., 0.47297297, 0.72727273,\n",
       "        0.5       ],\n",
       "       [0.36111111, 0.49438202, 0.1025641 , ..., 0.40540541, 0.5       ,\n",
       "        0.24      ],\n",
       "       ...,\n",
       "       [0.30555556, 0.2752809 , 0.62820513, ..., 0.56756757, 0.68181818,\n",
       "        0.52      ],\n",
       "       [0.45833333, 0.49438202, 0.1025641 , ..., 0.25675676, 0.28787879,\n",
       "        0.52      ],\n",
       "       [0.27777778, 0.24719101, 0.35897436, ..., 0.68918919, 0.22727273,\n",
       "        0.2       ]])"
      ]
     },
     "execution_count": 175,
     "metadata": {},
     "output_type": "execute_result"
    }
   ],
   "source": [
    "# Feature Scaling \n",
    "\n",
    "scaler = MinMaxScaler()\n",
    "scaler.fit(X_train_imbalanced)\n",
    "\n",
    "X_train_scaled = scaler.transform(X_train_imbalanced)\n",
    "X_test_scaled = scaler.transform(X_test)\n",
    "\n",
    "X_train_scaled"
   ]
  },
  {
   "cell_type": "code",
   "execution_count": 176,
   "metadata": {},
   "outputs": [
    {
     "data": {
      "text/html": [
       "<div>\n",
       "<style scoped>\n",
       "    .dataframe tbody tr th:only-of-type {\n",
       "        vertical-align: middle;\n",
       "    }\n",
       "\n",
       "    .dataframe tbody tr th {\n",
       "        vertical-align: top;\n",
       "    }\n",
       "\n",
       "    .dataframe thead th {\n",
       "        text-align: right;\n",
       "    }\n",
       "</style>\n",
       "<table border=\"1\" class=\"dataframe\">\n",
       "  <thead>\n",
       "    <tr style=\"text-align: right;\">\n",
       "      <th></th>\n",
       "      <th>fixed acidity</th>\n",
       "      <th>volatile acidity</th>\n",
       "      <th>citric acid</th>\n",
       "      <th>chlorides</th>\n",
       "      <th>pH</th>\n",
       "      <th>sulphates</th>\n",
       "      <th>alcohol</th>\n",
       "    </tr>\n",
       "  </thead>\n",
       "  <tbody>\n",
       "    <tr>\n",
       "      <th>0</th>\n",
       "      <td>0.375000</td>\n",
       "      <td>0.359551</td>\n",
       "      <td>0.358974</td>\n",
       "      <td>0.200658</td>\n",
       "      <td>0.378378</td>\n",
       "      <td>0.515152</td>\n",
       "      <td>0.20</td>\n",
       "    </tr>\n",
       "    <tr>\n",
       "      <th>1</th>\n",
       "      <td>0.611111</td>\n",
       "      <td>0.303371</td>\n",
       "      <td>0.525641</td>\n",
       "      <td>0.098684</td>\n",
       "      <td>0.472973</td>\n",
       "      <td>0.727273</td>\n",
       "      <td>0.50</td>\n",
       "    </tr>\n",
       "    <tr>\n",
       "      <th>2</th>\n",
       "      <td>0.361111</td>\n",
       "      <td>0.494382</td>\n",
       "      <td>0.102564</td>\n",
       "      <td>0.246711</td>\n",
       "      <td>0.405405</td>\n",
       "      <td>0.500000</td>\n",
       "      <td>0.24</td>\n",
       "    </tr>\n",
       "    <tr>\n",
       "      <th>3</th>\n",
       "      <td>0.666667</td>\n",
       "      <td>0.528090</td>\n",
       "      <td>0.089744</td>\n",
       "      <td>0.207237</td>\n",
       "      <td>0.500000</td>\n",
       "      <td>0.575758</td>\n",
       "      <td>0.28</td>\n",
       "    </tr>\n",
       "    <tr>\n",
       "      <th>4</th>\n",
       "      <td>0.583333</td>\n",
       "      <td>0.601124</td>\n",
       "      <td>0.333333</td>\n",
       "      <td>0.187500</td>\n",
       "      <td>0.418919</td>\n",
       "      <td>0.136364</td>\n",
       "      <td>0.24</td>\n",
       "    </tr>\n",
       "    <tr>\n",
       "      <th>...</th>\n",
       "      <td>...</td>\n",
       "      <td>...</td>\n",
       "      <td>...</td>\n",
       "      <td>...</td>\n",
       "      <td>...</td>\n",
       "      <td>...</td>\n",
       "      <td>...</td>\n",
       "    </tr>\n",
       "    <tr>\n",
       "      <th>940</th>\n",
       "      <td>1.000000</td>\n",
       "      <td>0.303371</td>\n",
       "      <td>0.807692</td>\n",
       "      <td>0.171053</td>\n",
       "      <td>0.297297</td>\n",
       "      <td>0.242424</td>\n",
       "      <td>0.22</td>\n",
       "    </tr>\n",
       "    <tr>\n",
       "      <th>941</th>\n",
       "      <td>0.305556</td>\n",
       "      <td>0.404494</td>\n",
       "      <td>0.410256</td>\n",
       "      <td>0.075658</td>\n",
       "      <td>0.486486</td>\n",
       "      <td>0.484848</td>\n",
       "      <td>0.32</td>\n",
       "    </tr>\n",
       "    <tr>\n",
       "      <th>942</th>\n",
       "      <td>0.305556</td>\n",
       "      <td>0.275281</td>\n",
       "      <td>0.628205</td>\n",
       "      <td>0.161184</td>\n",
       "      <td>0.567568</td>\n",
       "      <td>0.681818</td>\n",
       "      <td>0.52</td>\n",
       "    </tr>\n",
       "    <tr>\n",
       "      <th>943</th>\n",
       "      <td>0.458333</td>\n",
       "      <td>0.494382</td>\n",
       "      <td>0.102564</td>\n",
       "      <td>0.217105</td>\n",
       "      <td>0.256757</td>\n",
       "      <td>0.287879</td>\n",
       "      <td>0.52</td>\n",
       "    </tr>\n",
       "    <tr>\n",
       "      <th>944</th>\n",
       "      <td>0.277778</td>\n",
       "      <td>0.247191</td>\n",
       "      <td>0.358974</td>\n",
       "      <td>0.141447</td>\n",
       "      <td>0.689189</td>\n",
       "      <td>0.227273</td>\n",
       "      <td>0.20</td>\n",
       "    </tr>\n",
       "  </tbody>\n",
       "</table>\n",
       "<p>945 rows × 7 columns</p>\n",
       "</div>"
      ],
      "text/plain": [
       "     fixed acidity  volatile acidity  citric acid  chlorides        pH  \\\n",
       "0         0.375000          0.359551     0.358974   0.200658  0.378378   \n",
       "1         0.611111          0.303371     0.525641   0.098684  0.472973   \n",
       "2         0.361111          0.494382     0.102564   0.246711  0.405405   \n",
       "3         0.666667          0.528090     0.089744   0.207237  0.500000   \n",
       "4         0.583333          0.601124     0.333333   0.187500  0.418919   \n",
       "..             ...               ...          ...        ...       ...   \n",
       "940       1.000000          0.303371     0.807692   0.171053  0.297297   \n",
       "941       0.305556          0.404494     0.410256   0.075658  0.486486   \n",
       "942       0.305556          0.275281     0.628205   0.161184  0.567568   \n",
       "943       0.458333          0.494382     0.102564   0.217105  0.256757   \n",
       "944       0.277778          0.247191     0.358974   0.141447  0.689189   \n",
       "\n",
       "     sulphates  alcohol  \n",
       "0     0.515152     0.20  \n",
       "1     0.727273     0.50  \n",
       "2     0.500000     0.24  \n",
       "3     0.575758     0.28  \n",
       "4     0.136364     0.24  \n",
       "..         ...      ...  \n",
       "940   0.242424     0.22  \n",
       "941   0.484848     0.32  \n",
       "942   0.681818     0.52  \n",
       "943   0.287879     0.52  \n",
       "944   0.227273     0.20  \n",
       "\n",
       "[945 rows x 7 columns]"
      ]
     },
     "execution_count": 176,
     "metadata": {},
     "output_type": "execute_result"
    }
   ],
   "source": [
    "# Display as DataFrame\n",
    "\n",
    "X_train_final_df = pd.DataFrame(X_train_scaled, columns=df_train_test.drop('quality', axis=1).columns)\n",
    "X_train_final_df"
   ]
  },
  {
   "cell_type": "markdown",
   "metadata": {
    "id": "op3t3PpufCnm"
   },
   "source": [
    "# 6 - Model Definition\n",
    "Bagian ini berisi cell untuk mendefinisikan model. Jelaskan alasan menggunakan suatu algoritma/model, hyperparameter yang dipakai, jenis penggunaan metrics yang dipakai, dan hal lain yang terkait dengan model."
   ]
  },
  {
   "cell_type": "code",
   "execution_count": 177,
   "metadata": {
    "id": "r8piyPXafJyn"
   },
   "outputs": [],
   "source": [
    "# Training menggunakan Logistic Regression\n",
    "model_log = LogisticRegression(random_state=17)\n",
    "\n",
    "# Training menggunakan SVM\n",
    "model_svm = SVC(random_state=88)\n",
    "\n",
    "# Training menggunakan Decision Tree\n",
    "model_dc = DecisionTreeClassifier(random_state=17)\n",
    "\n",
    "# Training menggunakan Random Forest\n",
    "model_rf = RandomForestClassifier(random_state=17)\n",
    "\n",
    "# Training menggunakan KNN\n",
    "model_knn = KNeighborsClassifier()\n",
    "\n",
    "# Training menggunakan Naive Bayes\n",
    "model_nb = GaussianNB()\n",
    "\n",
    "# Training menggunakan Bagging Classifier\n",
    "model_bc = BaggingClassifier(random_state=17)\n",
    "\n",
    "# Training menggunakan Adaboost Classifier\n",
    "model_ac = AdaBoostClassifier(random_state=17)\n"
   ]
  },
  {
   "cell_type": "markdown",
   "metadata": {
    "id": "sSWKITRMfhYd"
   },
   "source": [
    "# 7 - Model Training\n",
    "Cell pada bagian ini hanya berisi code untuk melatih model dan output yang dihasilkan. Lakukan beberapa kali proses training dengan hyperparameter yang berbeda untuk melihat hasil yang didapatkan. Analisis dan narasikan hasil ini pada bagian Model Evaluation."
   ]
  },
  {
   "cell_type": "code",
   "execution_count": 178,
   "metadata": {
    "colab": {
     "base_uri": "https://localhost:8080/"
    },
    "id": "udEK05jzfVW4",
    "outputId": "35873c61-fc07-49aa-cf8d-b4857e48c341"
   },
   "outputs": [
    {
     "data": {
      "text/plain": [
       "AdaBoostClassifier(random_state=17)"
      ]
     },
     "execution_count": 178,
     "metadata": {},
     "output_type": "execute_result"
    }
   ],
   "source": [
    "# Train the Model\n",
    "\n",
    "model_log.fit(X_train_scaled, y_train_imbalanced)\n",
    "model_svm.fit(X_train_scaled, y_train_imbalanced)\n",
    "model_dc.fit(X_train_scaled, y_train_imbalanced)\n",
    "model_rf.fit(X_train_scaled, y_train_imbalanced)\n",
    "model_knn.fit(X_train_scaled, y_train_imbalanced)\n",
    "model_nb.fit(X_train_scaled, y_train_imbalanced)\n",
    "model_bc.fit(X_train_scaled, y_train_imbalanced)\n",
    "model_ac.fit(X_train_scaled, y_train_imbalanced)"
   ]
  },
  {
   "cell_type": "markdown",
   "metadata": {
    "id": "h6pzrp50f1lz"
   },
   "source": [
    "# 8 - Model Evaluation\n",
    "Pada bagian ini, dilakukan evaluasi model yang harus menunjukkan bagaimana performa model berdasarkan metrics yang dipilih. Hal ini harus dibuktikan dengan visualisasi tren performa dan/atau tingkat kesalahan model."
   ]
  },
  {
   "cell_type": "markdown",
   "metadata": {},
   "source": [
    "## Logistic Regression"
   ]
  },
  {
   "cell_type": "code",
   "execution_count": 179,
   "metadata": {},
   "outputs": [
    {
     "name": "stdout",
     "output_type": "stream",
     "text": [
      "Accuracy - Train Set  :  0.8888888888888888 \n",
      "\n",
      "Accuracy - Test Set  :  0.8888888888888888 \n",
      "\n",
      "Classification Report - Train Set : \n",
      "               precision    recall  f1-score   support\n",
      "\n",
      "           0       0.89      0.99      0.94       823\n",
      "           1       0.74      0.21      0.33       122\n",
      "\n",
      "    accuracy                           0.89       945\n",
      "   macro avg       0.82      0.60      0.64       945\n",
      "weighted avg       0.87      0.89      0.86       945\n",
      " \n",
      "\n",
      "Classification Report - Test Set : \n",
      "               precision    recall  f1-score   support\n",
      "\n",
      "           0       0.90      0.99      0.94       352\n",
      "           1       0.72      0.25      0.37        53\n",
      "\n",
      "    accuracy                           0.89       405\n",
      "   macro avg       0.81      0.62      0.65       405\n",
      "weighted avg       0.87      0.89      0.86       405\n",
      "\n"
     ]
    }
   ],
   "source": [
    "# Cek Performa model Logistic Regression terhadap Train-Set dan Test-Set\n",
    "\n",
    "y_pred_train_log = model_log.predict(X_train_scaled)\n",
    "y_pred_test_log = model_log.predict(X_test_scaled)\n",
    "\n",
    "print('Accuracy - Train Set  : ', accuracy_score(y_train_imbalanced, y_pred_train_log), '\\n')\n",
    "print('Accuracy - Test Set  : ', accuracy_score(y_test, y_pred_test_log), '\\n')\n",
    "print('Classification Report - Train Set : \\n', classification_report(y_train_imbalanced, y_pred_train_log), '\\n')\n",
    "print('Classification Report - Test Set : \\n', classification_report(y_test, y_pred_test_log))"
   ]
  },
  {
   "cell_type": "markdown",
   "metadata": {},
   "source": [
    "## SVM"
   ]
  },
  {
   "cell_type": "code",
   "execution_count": 180,
   "metadata": {},
   "outputs": [
    {
     "name": "stdout",
     "output_type": "stream",
     "text": [
      "Accuracy - Train Set  :  0.8920634920634921 \n",
      "\n",
      "Accuracy - Test Set  :  0.8814814814814815 \n",
      "\n",
      "Classification Report - Train Set : \n",
      "               precision    recall  f1-score   support\n",
      "\n",
      "           0       0.90      0.99      0.94       823\n",
      "           1       0.79      0.22      0.35       122\n",
      "\n",
      "    accuracy                           0.89       945\n",
      "   macro avg       0.84      0.61      0.64       945\n",
      "weighted avg       0.88      0.89      0.86       945\n",
      " \n",
      "\n",
      "Classification Report - Test Set : \n",
      "               precision    recall  f1-score   support\n",
      "\n",
      "           0       0.89      0.99      0.94       352\n",
      "           1       0.67      0.19      0.29        53\n",
      "\n",
      "    accuracy                           0.88       405\n",
      "   macro avg       0.78      0.59      0.61       405\n",
      "weighted avg       0.86      0.88      0.85       405\n",
      "\n"
     ]
    }
   ],
   "source": [
    "# Cek Performa model SVM terhadap Train-Set dan Test-Set\n",
    "\n",
    "y_pred_train_svm = model_svm.predict(X_train_scaled)\n",
    "y_pred_test_svm = model_svm.predict(X_test_scaled)\n",
    "\n",
    "print('Accuracy - Train Set  : ', accuracy_score(y_train_imbalanced, y_pred_train_svm), '\\n')\n",
    "print('Accuracy - Test Set  : ', accuracy_score(y_test, y_pred_test_svm), '\\n')\n",
    "print('Classification Report - Train Set : \\n', classification_report(y_train_imbalanced, y_pred_train_svm), '\\n')\n",
    "print('Classification Report - Test Set : \\n', classification_report(y_test, y_pred_test_svm))"
   ]
  },
  {
   "cell_type": "markdown",
   "metadata": {},
   "source": [
    "## Decision Tree"
   ]
  },
  {
   "cell_type": "code",
   "execution_count": 181,
   "metadata": {},
   "outputs": [
    {
     "name": "stdout",
     "output_type": "stream",
     "text": [
      "Accuracy - Train Set  :  1.0 \n",
      "\n",
      "Accuracy - Test Set  :  0.8592592592592593 \n",
      "\n",
      "Classification Report - Train Set : \n",
      "               precision    recall  f1-score   support\n",
      "\n",
      "           0       1.00      1.00      1.00       823\n",
      "           1       1.00      1.00      1.00       122\n",
      "\n",
      "    accuracy                           1.00       945\n",
      "   macro avg       1.00      1.00      1.00       945\n",
      "weighted avg       1.00      1.00      1.00       945\n",
      " \n",
      "\n",
      "Classification Report - Test Set : \n",
      "               precision    recall  f1-score   support\n",
      "\n",
      "           0       0.94      0.90      0.92       352\n",
      "           1       0.47      0.60      0.53        53\n",
      "\n",
      "    accuracy                           0.86       405\n",
      "   macro avg       0.70      0.75      0.72       405\n",
      "weighted avg       0.88      0.86      0.87       405\n",
      "\n"
     ]
    }
   ],
   "source": [
    "# Cek Performa model Decision Tree terhadap Train-Set dan Test-Set\n",
    "\n",
    "y_pred_train_dc = model_dc.predict(X_train_scaled)\n",
    "y_pred_test_dc = model_dc.predict(X_test_scaled)\n",
    "\n",
    "print('Accuracy - Train Set  : ', accuracy_score(y_train_imbalanced, y_pred_train_dc), '\\n')\n",
    "print('Accuracy - Test Set  : ', accuracy_score(y_test, y_pred_test_dc), '\\n')\n",
    "print('Classification Report - Train Set : \\n', classification_report(y_train_imbalanced, y_pred_train_dc), '\\n')\n",
    "print('Classification Report - Test Set : \\n', classification_report(y_test, y_pred_test_dc))"
   ]
  },
  {
   "cell_type": "markdown",
   "metadata": {},
   "source": [
    "## Random Forest"
   ]
  },
  {
   "cell_type": "code",
   "execution_count": 182,
   "metadata": {},
   "outputs": [
    {
     "name": "stdout",
     "output_type": "stream",
     "text": [
      "Accuracy - Train Set  :  1.0 \n",
      "\n",
      "Accuracy - Test Set  :  0.9209876543209876 \n",
      "\n",
      "Classification Report - Train Set : \n",
      "               precision    recall  f1-score   support\n",
      "\n",
      "           0       1.00      1.00      1.00       823\n",
      "           1       1.00      1.00      1.00       122\n",
      "\n",
      "    accuracy                           1.00       945\n",
      "   macro avg       1.00      1.00      1.00       945\n",
      "weighted avg       1.00      1.00      1.00       945\n",
      " \n",
      "\n",
      "Classification Report - Test Set : \n",
      "               precision    recall  f1-score   support\n",
      "\n",
      "           0       0.94      0.97      0.96       352\n",
      "           1       0.77      0.57      0.65        53\n",
      "\n",
      "    accuracy                           0.92       405\n",
      "   macro avg       0.85      0.77      0.80       405\n",
      "weighted avg       0.92      0.92      0.92       405\n",
      "\n"
     ]
    }
   ],
   "source": [
    "# Cek Performa model Random Forest terhadap Train-Set dan Test-Set\n",
    "\n",
    "y_pred_train_rf = model_rf.predict(X_train_scaled)\n",
    "y_pred_test_rf = model_rf.predict(X_test_scaled)\n",
    "\n",
    "print('Accuracy - Train Set  : ', accuracy_score(y_train_imbalanced, y_pred_train_rf), '\\n')\n",
    "print('Accuracy - Test Set  : ', accuracy_score(y_test, y_pred_test_rf), '\\n')\n",
    "print('Classification Report - Train Set : \\n', classification_report(y_train_imbalanced, y_pred_train_rf), '\\n')\n",
    "print('Classification Report - Test Set : \\n', classification_report(y_test, y_pred_test_rf))"
   ]
  },
  {
   "cell_type": "markdown",
   "metadata": {},
   "source": [
    "## KNN"
   ]
  },
  {
   "cell_type": "code",
   "execution_count": 183,
   "metadata": {},
   "outputs": [
    {
     "name": "stdout",
     "output_type": "stream",
     "text": [
      "Accuracy - Train Set  :  0.91005291005291 \n",
      "\n",
      "Accuracy - Test Set  :  0.8765432098765432 \n",
      "\n",
      "Classification Report - Train Set : \n",
      "               precision    recall  f1-score   support\n",
      "\n",
      "           0       0.93      0.97      0.95       823\n",
      "           1       0.71      0.51      0.59       122\n",
      "\n",
      "    accuracy                           0.91       945\n",
      "   macro avg       0.82      0.74      0.77       945\n",
      "weighted avg       0.90      0.91      0.90       945\n",
      " \n",
      "\n",
      "Classification Report - Test Set : \n",
      "               precision    recall  f1-score   support\n",
      "\n",
      "           0       0.91      0.95      0.93       352\n",
      "           1       0.54      0.38      0.44        53\n",
      "\n",
      "    accuracy                           0.88       405\n",
      "   macro avg       0.73      0.66      0.69       405\n",
      "weighted avg       0.86      0.88      0.87       405\n",
      "\n"
     ]
    }
   ],
   "source": [
    "# Cek Performa model KNN terhadap Train-Set dan Test-Set\n",
    "\n",
    "y_pred_train_knn = model_knn.predict(X_train_scaled)\n",
    "y_pred_test_knn = model_knn.predict(X_test_scaled)\n",
    "\n",
    "print('Accuracy - Train Set  : ', accuracy_score(y_train_imbalanced, y_pred_train_knn), '\\n')\n",
    "print('Accuracy - Test Set  : ', accuracy_score(y_test, y_pred_test_knn), '\\n')\n",
    "print('Classification Report - Train Set : \\n', classification_report(y_train_imbalanced, y_pred_train_knn), '\\n')\n",
    "print('Classification Report - Test Set : \\n', classification_report(y_test, y_pred_test_knn))"
   ]
  },
  {
   "cell_type": "markdown",
   "metadata": {},
   "source": [
    "## Naive Bayes"
   ]
  },
  {
   "cell_type": "code",
   "execution_count": 184,
   "metadata": {},
   "outputs": [
    {
     "name": "stdout",
     "output_type": "stream",
     "text": [
      "Accuracy - Train Set  :  0.8656084656084656 \n",
      "\n",
      "Accuracy - Test Set  :  0.8592592592592593 \n",
      "\n",
      "Classification Report - Train Set : \n",
      "               precision    recall  f1-score   support\n",
      "\n",
      "           0       0.95      0.89      0.92       823\n",
      "           1       0.49      0.68      0.57       122\n",
      "\n",
      "    accuracy                           0.87       945\n",
      "   macro avg       0.72      0.79      0.74       945\n",
      "weighted avg       0.89      0.87      0.87       945\n",
      " \n",
      "\n",
      "Classification Report - Test Set : \n",
      "               precision    recall  f1-score   support\n",
      "\n",
      "           0       0.94      0.89      0.92       352\n",
      "           1       0.47      0.62      0.54        53\n",
      "\n",
      "    accuracy                           0.86       405\n",
      "   macro avg       0.71      0.76      0.73       405\n",
      "weighted avg       0.88      0.86      0.87       405\n",
      "\n"
     ]
    }
   ],
   "source": [
    "# Cek Performa model Naive Bayes terhadap Train-Set dan Test-Set\n",
    "\n",
    "y_pred_train_nb = model_nb.predict(X_train_scaled)\n",
    "y_pred_test_nb = model_nb.predict(X_test_scaled)\n",
    "\n",
    "print('Accuracy - Train Set  : ', accuracy_score(y_train_imbalanced, y_pred_train_nb), '\\n')\n",
    "print('Accuracy - Test Set  : ', accuracy_score(y_test, y_pred_test_nb), '\\n')\n",
    "print('Classification Report - Train Set : \\n', classification_report(y_train_imbalanced, y_pred_train_nb), '\\n')\n",
    "print('Classification Report - Test Set : \\n', classification_report(y_test, y_pred_test_nb))"
   ]
  },
  {
   "cell_type": "markdown",
   "metadata": {},
   "source": [
    "## Bagging Classifier"
   ]
  },
  {
   "cell_type": "code",
   "execution_count": 185,
   "metadata": {},
   "outputs": [
    {
     "name": "stdout",
     "output_type": "stream",
     "text": [
      "Accuracy - Train Set  :  0.9915343915343915 \n",
      "\n",
      "Accuracy - Test Set  :  0.8839506172839506 \n",
      "\n",
      "Classification Report - Train Set : \n",
      "               precision    recall  f1-score   support\n",
      "\n",
      "           0       0.99      1.00      1.00       823\n",
      "           1       0.98      0.95      0.97       122\n",
      "\n",
      "    accuracy                           0.99       945\n",
      "   macro avg       0.99      0.97      0.98       945\n",
      "weighted avg       0.99      0.99      0.99       945\n",
      " \n",
      "\n",
      "Classification Report - Test Set : \n",
      "               precision    recall  f1-score   support\n",
      "\n",
      "           0       0.92      0.94      0.93       352\n",
      "           1       0.57      0.49      0.53        53\n",
      "\n",
      "    accuracy                           0.88       405\n",
      "   macro avg       0.75      0.72      0.73       405\n",
      "weighted avg       0.88      0.88      0.88       405\n",
      "\n"
     ]
    }
   ],
   "source": [
    "# Cek Performa model Bagging Classifier terhadap Train-Set dan Test-Set\n",
    "\n",
    "y_pred_train_bc = model_bc.predict(X_train_scaled)\n",
    "y_pred_test_bc = model_bc.predict(X_test_scaled)\n",
    "\n",
    "print('Accuracy - Train Set  : ', accuracy_score(y_train_imbalanced, y_pred_train_bc), '\\n')\n",
    "print('Accuracy - Test Set  : ', accuracy_score(y_test, y_pred_test_bc), '\\n')\n",
    "print('Classification Report - Train Set : \\n', classification_report(y_train_imbalanced, y_pred_train_bc), '\\n')\n",
    "print('Classification Report - Test Set : \\n', classification_report(y_test, y_pred_test_bc))"
   ]
  },
  {
   "cell_type": "markdown",
   "metadata": {},
   "source": [
    "## Adaboost Classifier"
   ]
  },
  {
   "cell_type": "code",
   "execution_count": 186,
   "metadata": {},
   "outputs": [
    {
     "name": "stdout",
     "output_type": "stream",
     "text": [
      "Accuracy - Train Set  :  0.9227513227513228 \n",
      "\n",
      "Accuracy - Test Set  :  0.8765432098765432 \n",
      "\n",
      "Classification Report - Train Set : \n",
      "               precision    recall  f1-score   support\n",
      "\n",
      "           0       0.94      0.98      0.96       823\n",
      "           1       0.80      0.54      0.64       122\n",
      "\n",
      "    accuracy                           0.92       945\n",
      "   macro avg       0.87      0.76      0.80       945\n",
      "weighted avg       0.92      0.92      0.92       945\n",
      " \n",
      "\n",
      "Classification Report - Test Set : \n",
      "               precision    recall  f1-score   support\n",
      "\n",
      "           0       0.91      0.95      0.93       352\n",
      "           1       0.54      0.42      0.47        53\n",
      "\n",
      "    accuracy                           0.88       405\n",
      "   macro avg       0.73      0.68      0.70       405\n",
      "weighted avg       0.87      0.88      0.87       405\n",
      "\n"
     ]
    }
   ],
   "source": [
    "# Cek Performa model Adaboost Classifier terhadap Train-Set dan Test-Set\n",
    "\n",
    "y_pred_train_ac = model_ac.predict(X_train_scaled)\n",
    "y_pred_test_ac = model_ac.predict(X_test_scaled)\n",
    "\n",
    "print('Accuracy - Train Set  : ', accuracy_score(y_train_imbalanced, y_pred_train_ac), '\\n')\n",
    "print('Accuracy - Test Set  : ', accuracy_score(y_test, y_pred_test_ac), '\\n')\n",
    "print('Classification Report - Train Set : \\n', classification_report(y_train_imbalanced, y_pred_train_ac), '\\n')\n",
    "print('Classification Report - Test Set : \\n', classification_report(y_test, y_pred_test_ac))"
   ]
  },
  {
   "cell_type": "code",
   "execution_count": 187,
   "metadata": {},
   "outputs": [
    {
     "name": "stdout",
     "output_type": "stream",
     "text": [
      "Accuracy - Train Set SVM :  0.8920634920634921\n",
      "Accuracy - Test Set SVM :  0.8814814814814815 \n",
      "\n",
      "Accuracy - Train Set Decision Tree :  1.0\n",
      "Accuracy - Test Set Decision Tree :  0.8592592592592593 \n",
      "\n",
      "Accuracy - Train Set Bagging Classifier :  0.9915343915343915\n",
      "Accuracy - Test Set Bagging Classifier :  0.8839506172839506 \n",
      "\n",
      "Accuracy - Train Set Random Forest :  1.0\n",
      "Accuracy - Test Set Random Forest :  0.9209876543209876 \n",
      "\n",
      "Accuracy - Train Set KNN :  0.91005291005291\n",
      "Accuracy - Test Set KNN :  0.8765432098765432 \n",
      "\n",
      "Accuracy - Train Set Naive Bayes :  0.8656084656084656\n",
      "Accuracy - Test Set Naive Bayes :  0.8592592592592593 \n",
      "\n",
      "Accuracy - Train Set Adaboost :  0.9227513227513228\n",
      "Accuracy - Test Set Adaboost :  0.8765432098765432 \n",
      "\n",
      "Accuracy - Train Set Logistic Regression :  0.8888888888888888\n",
      "Accuracy - Test Set Logistic Regression :  0.8888888888888888\n"
     ]
    }
   ],
   "source": [
    "# Menampilkan hasil Akurasi \n",
    "print('Accuracy - Train Set SVM : ', accuracy_score(y_train_imbalanced, y_pred_train_svm))\n",
    "print('Accuracy - Test Set SVM : ', accuracy_score(y_test, y_pred_test_svm), '\\n')\n",
    "print('Accuracy - Train Set Decision Tree : ', accuracy_score(y_train_imbalanced, y_pred_train_dc))\n",
    "print('Accuracy - Test Set Decision Tree : ', accuracy_score(y_test, y_pred_test_dc), '\\n')\n",
    "print('Accuracy - Train Set Bagging Classifier : ', accuracy_score(y_train_imbalanced, y_pred_train_bc))\n",
    "print('Accuracy - Test Set Bagging Classifier : ', accuracy_score(y_test, y_pred_test_bc), '\\n')\n",
    "print('Accuracy - Train Set Random Forest : ', accuracy_score(y_train_imbalanced, y_pred_train_rf))\n",
    "print('Accuracy - Test Set Random Forest : ', accuracy_score(y_test, y_pred_test_rf), '\\n')\n",
    "print('Accuracy - Train Set KNN : ', accuracy_score(y_train_imbalanced, y_pred_train_knn))\n",
    "print('Accuracy - Test Set KNN : ', accuracy_score(y_test, y_pred_test_knn), '\\n')\n",
    "print('Accuracy - Train Set Naive Bayes : ', accuracy_score(y_train_imbalanced, y_pred_train_nb))\n",
    "print('Accuracy - Test Set Naive Bayes : ', accuracy_score(y_test, y_pred_test_nb), '\\n')\n",
    "print('Accuracy - Train Set Adaboost : ', accuracy_score(y_train_imbalanced, y_pred_train_ac))\n",
    "print('Accuracy - Test Set Adaboost : ', accuracy_score(y_test, y_pred_test_ac), '\\n')\n",
    "print('Accuracy - Train Set Logistic Regression : ', accuracy_score(y_train_imbalanced, y_pred_train_log))\n",
    "print('Accuracy - Test Set Logistic Regression : ', accuracy_score(y_test, y_pred_test_log))"
   ]
  },
  {
   "cell_type": "markdown",
   "metadata": {},
   "source": [
    "Terlihat bahwa dari Accuracy Score model Random Forest memiliki nilai test score terbaik sebesar 0.92"
   ]
  },
  {
   "cell_type": "markdown",
   "metadata": {},
   "source": [
    "Cross Validation"
   ]
  },
  {
   "cell_type": "code",
   "execution_count": 188,
   "metadata": {},
   "outputs": [
    {
     "name": "stdout",
     "output_type": "stream",
     "text": [
      "Logistic Regression\n",
      "Accuracy - All - Cross Validation  :  [0.88571429 0.88571429 0.87936508]\n",
      "Accuracy - Mean - Cross Validation :  0.8835978835978836\n",
      "Accuracy - Std - Cross Validation  :  0.0029930445764509844\n",
      "Accuracy - Range of Test-Set       :  0.8806048390214326 - 0.8865909281743346 \n",
      "\n",
      "SVM \n",
      "Accuracy - All - Cross Validation  :  [0.88253968 0.88253968 0.87936508]\n",
      "Accuracy - Mean - Cross Validation :  0.8814814814814814\n",
      "Accuracy - Std - Cross Validation  :  0.001496522288225492\n",
      "Accuracy - Range of Test-Set       :  0.8799849591932559 - 0.8829780037697069 \n",
      "\n",
      "Decision Tree\n",
      "Accuracy - All - Cross Validation  :  [0.84761905 0.85079365 0.8031746 ]\n",
      "Accuracy - Mean - Cross Validation :  0.8338624338624339\n",
      "Accuracy - Std - Cross Validation  :  0.021738241888014934\n",
      "Accuracy - Range of Test-Set       :  0.8121241919744189 - 0.8556006757504488 \n",
      "\n",
      "Random Forest\n",
      "Accuracy - All - Cross Validation  :  [0.88888889 0.87936508 0.88253968]\n",
      "Accuracy - Mean - Cross Validation :  0.8835978835978836\n",
      "Accuracy - Std - Cross Validation  :  0.003959425806109977\n",
      "Accuracy - Range of Test-Set       :  0.8796384577917736 - 0.8875573094039936 \n",
      "\n",
      "KNN\n",
      "Accuracy - All - Cross Validation  :  [0.86984127 0.86031746 0.84761905]\n",
      "Accuracy - Mean - Cross Validation :  0.8592592592592593\n",
      "Accuracy - Std - Cross Validation  :  0.009102989700574222\n",
      "Accuracy - Range of Test-Set       :  0.8501562695586851 - 0.8683622489598335 \n",
      "\n",
      "Naive Bayes\n",
      "Accuracy - All - Cross Validation  :  [0.89206349 0.84761905 0.84444444]\n",
      "Accuracy - Mean - Cross Validation :  0.8613756613756615\n",
      "Accuracy - Std - Cross Validation  :  0.021738241888014986\n",
      "Accuracy - Range of Test-Set       :  0.8396374194876465 - 0.8831139032636764 \n",
      "\n",
      "Bagging Classifier\n",
      "Accuracy - All - Cross Validation  :  [0.87301587 0.88571429 0.85714286]\n",
      "Accuracy - Mean - Cross Validation :  0.8719576719576719\n",
      "Accuracy - Std - Cross Validation  :  0.011688212716600282\n",
      "Accuracy - Range of Test-Set       :  0.8602694592410717 - 0.8836458846742722 \n",
      "\n",
      "Adaboost Classifier\n",
      "Accuracy - All - Cross Validation  :  [0.87936508 0.87301587 0.86349206]\n",
      "Accuracy - Mean - Cross Validation :  0.8719576719576719\n",
      "Accuracy - Std - Cross Validation  :  0.006523189421131169\n",
      "Accuracy - Range of Test-Set       :  0.8654344825365408 - 0.8784808613788031\n"
     ]
    }
   ],
   "source": [
    "# Cross Validation using `cross_val_score`\n",
    "\n",
    "def cross(x):\n",
    "    cv=cross_val_score(x, X_train_scaled, y_train_imbalanced, cv=3, scoring=\"accuracy\")\n",
    "    return cv\n",
    "\n",
    "print('Logistic Regression')\n",
    "print('Accuracy - All - Cross Validation  : ', cross(model_log))\n",
    "print('Accuracy - Mean - Cross Validation : ', cross(model_log).mean())\n",
    "print('Accuracy - Std - Cross Validation  : ', cross(model_log).std())\n",
    "print('Accuracy - Range of Test-Set       : ', (cross(model_log).mean()-cross(model_log).std()) , '-', (cross(model_log).mean()+cross(model_log).std()),'\\n')\n",
    "print('SVM ')\n",
    "print('Accuracy - All - Cross Validation  : ', cross(model_svm))\n",
    "print('Accuracy - Mean - Cross Validation : ', cross(model_svm).mean())\n",
    "print('Accuracy - Std - Cross Validation  : ', cross(model_svm).std())\n",
    "print('Accuracy - Range of Test-Set       : ', (cross(model_svm).mean()-cross(model_svm).std()) , '-', (cross(model_svm).mean()+cross(model_svm).std()),'\\n')\n",
    "print('Decision Tree')\n",
    "print('Accuracy - All - Cross Validation  : ', cross(model_dc))\n",
    "print('Accuracy - Mean - Cross Validation : ', cross(model_dc).mean())\n",
    "print('Accuracy - Std - Cross Validation  : ', cross(model_dc).std())\n",
    "print('Accuracy - Range of Test-Set       : ', (cross(model_dc).mean()-cross(model_dc).std()) , '-', (cross(model_dc).mean()+cross(model_dc).std()),'\\n')\n",
    "print('Random Forest')\n",
    "print('Accuracy - All - Cross Validation  : ', cross(model_rf))\n",
    "print('Accuracy - Mean - Cross Validation : ', cross(model_rf).mean())\n",
    "print('Accuracy - Std - Cross Validation  : ', cross(model_rf).std())\n",
    "print('Accuracy - Range of Test-Set       : ', (cross(model_rf).mean()-cross(model_rf).std()) , '-', (cross(model_rf).mean()+cross(model_rf).std()),'\\n')\n",
    "print('KNN')\n",
    "print('Accuracy - All - Cross Validation  : ', cross(model_knn))\n",
    "print('Accuracy - Mean - Cross Validation : ', cross(model_knn).mean())\n",
    "print('Accuracy - Std - Cross Validation  : ', cross(model_knn).std())\n",
    "print('Accuracy - Range of Test-Set       : ', (cross(model_knn).mean()-cross(model_knn).std()) , '-', (cross(model_knn).mean()+cross(model_knn).std()),'\\n')\n",
    "print('Naive Bayes')\n",
    "print('Accuracy - All - Cross Validation  : ', cross(model_nb))\n",
    "print('Accuracy - Mean - Cross Validation : ', cross(model_nb).mean())\n",
    "print('Accuracy - Std - Cross Validation  : ', cross(model_nb).std())\n",
    "print('Accuracy - Range of Test-Set       : ', (cross(model_nb).mean()-cross(model_nb).std()) , '-', (cross(model_nb).mean()+cross(model_nb).std()),'\\n')\n",
    "print('Bagging Classifier')\n",
    "print('Accuracy - All - Cross Validation  : ', cross(model_bc))\n",
    "print('Accuracy - Mean - Cross Validation : ', cross(model_bc).mean())\n",
    "print('Accuracy - Std - Cross Validation  : ', cross(model_bc).std())\n",
    "print('Accuracy - Range of Test-Set       : ', (cross(model_bc).mean()-cross(model_bc).std()) , '-', (cross(model_bc).mean()+cross(model_bc).std()),'\\n')\n",
    "print('Adaboost Classifier')\n",
    "print('Accuracy - All - Cross Validation  : ', cross(model_ac))\n",
    "print('Accuracy - Mean - Cross Validation : ', cross(model_ac).mean())\n",
    "print('Accuracy - Std - Cross Validation  : ', cross(model_ac).std())\n",
    "print('Accuracy - Range of Test-Set       : ', (cross(model_ac).mean()-cross(model_ac).std()) , '-', (cross(model_ac).mean()+cross(model_ac).std()))\n"
   ]
  },
  {
   "cell_type": "markdown",
   "metadata": {},
   "source": [
    "Dari seluruh perbandingan dengan model diatas, saya memilih model Random Forest karena memiliki akurasi yang cukup bagus dan tidak overfitting dengan nilai cross validation 0.879-0.887. Saya akan membandingkan model dengan Random Forest dengan data yang sudah di balancing"
   ]
  },
  {
   "cell_type": "markdown",
   "metadata": {},
   "source": [
    "## Handling Imbalance Data"
   ]
  },
  {
   "cell_type": "code",
   "execution_count": 189,
   "metadata": {},
   "outputs": [
    {
     "data": {
      "text/plain": [
       "0    823\n",
       "1    823\n",
       "Name: quality, dtype: int64"
      ]
     },
     "execution_count": 189,
     "metadata": {},
     "output_type": "execute_result"
    }
   ],
   "source": [
    "# Split between train-set and test-set balance dataset\n",
    "smote = SMOTE(k_neighbors=5, sampling_strategy='minority', random_state=17)\n",
    "X_train_balanced, y_train_balanced = smote.fit_resample(X_train_scaled, y_train_imbalanced)\n",
    "y_train_balanced.value_counts()"
   ]
  },
  {
   "cell_type": "code",
   "execution_count": 190,
   "metadata": {},
   "outputs": [],
   "source": [
    "# Cek Performa model Random Forest terhadap Train-Set dan Test-Set\n",
    "rf1 = model_rf.fit(X_train_scaled, y_train_imbalanced)\n",
    "rf2 = model_rf.fit(X_train_balanced, y_train_balanced)\n"
   ]
  },
  {
   "cell_type": "code",
   "execution_count": 191,
   "metadata": {},
   "outputs": [
    {
     "name": "stdout",
     "output_type": "stream",
     "text": [
      "              precision    recall  f1-score   support\n",
      "\n",
      "           0       1.00      1.00      1.00       823\n",
      "           1       1.00      1.00      1.00       122\n",
      "\n",
      "    accuracy                           1.00       945\n",
      "   macro avg       1.00      1.00      1.00       945\n",
      "weighted avg       1.00      1.00      1.00       945\n",
      "\n",
      "              precision    recall  f1-score   support\n",
      "\n",
      "           0       1.00      1.00      1.00       823\n",
      "           1       1.00      1.00      1.00       823\n",
      "\n",
      "    accuracy                           1.00      1646\n",
      "   macro avg       1.00      1.00      1.00      1646\n",
      "weighted avg       1.00      1.00      1.00      1646\n",
      "\n"
     ]
    }
   ],
   "source": [
    "# Check Train Results\n",
    "\n",
    "print(classification_report(y_train_imbalanced, rf1.predict(X_train_scaled)))\n",
    "print(classification_report(y_train_balanced, rf2.predict(X_train_balanced)))"
   ]
  },
  {
   "cell_type": "code",
   "execution_count": 192,
   "metadata": {},
   "outputs": [
    {
     "name": "stdout",
     "output_type": "stream",
     "text": [
      "              precision    recall  f1-score   support\n",
      "\n",
      "           0       0.95      0.91      0.93       352\n",
      "           1       0.53      0.66      0.59        53\n",
      "\n",
      "    accuracy                           0.88       405\n",
      "   macro avg       0.74      0.79      0.76       405\n",
      "weighted avg       0.89      0.88      0.88       405\n",
      "\n",
      "              precision    recall  f1-score   support\n",
      "\n",
      "           0       0.95      0.91      0.93       352\n",
      "           1       0.53      0.66      0.59        53\n",
      "\n",
      "    accuracy                           0.88       405\n",
      "   macro avg       0.74      0.79      0.76       405\n",
      "weighted avg       0.89      0.88      0.88       405\n",
      "\n"
     ]
    }
   ],
   "source": [
    "# Check Test Results\n",
    "\n",
    "print(classification_report(y_test, rf1.predict(X_test_scaled)))\n",
    "print(classification_report(y_test, rf2.predict(X_test_scaled)))"
   ]
  },
  {
   "cell_type": "markdown",
   "metadata": {},
   "source": [
    "Ternyata tidak ada perbedaan dari hasil classification report dari data imbalance maupun data yang sudah di balancing"
   ]
  },
  {
   "cell_type": "markdown",
   "metadata": {},
   "source": [
    "## Hyperparamater Tuning"
   ]
  },
  {
   "cell_type": "markdown",
   "metadata": {},
   "source": [
    "Melakukan Hyperparamater Tuning pada model terpilih yang memiliki akurasi terbaik, disini saya menggunakan Random Forest dan GridSearch untuk menemukan paramater terbaik untuk digunakan"
   ]
  },
  {
   "cell_type": "code",
   "execution_count": 168,
   "metadata": {},
   "outputs": [
    {
     "name": "stdout",
     "output_type": "stream",
     "text": [
      "Best: 0.892063 using {'criterion': 'gini', 'max_features': 'auto', 'min_samples_leaf': 1, 'min_samples_split': 5, 'n_estimators': 1400}\n",
      "0.888889 (0.011298) with: {'criterion': 'gini', 'max_features': 'auto', 'min_samples_leaf': 1, 'min_samples_split': 2, 'n_estimators': 100}\n",
      "0.889947 (0.007919) with: {'criterion': 'gini', 'max_features': 'auto', 'min_samples_leaf': 1, 'min_samples_split': 2, 'n_estimators': 200}\n",
      "0.887831 (0.007919) with: {'criterion': 'gini', 'max_features': 'auto', 'min_samples_leaf': 1, 'min_samples_split': 2, 'n_estimators': 400}\n",
      "0.885714 (0.006858) with: {'criterion': 'gini', 'max_features': 'auto', 'min_samples_leaf': 1, 'min_samples_split': 2, 'n_estimators': 600}\n",
      "0.891005 (0.007483) with: {'criterion': 'gini', 'max_features': 'auto', 'min_samples_leaf': 1, 'min_samples_split': 2, 'n_estimators': 800}\n",
      "0.891005 (0.007483) with: {'criterion': 'gini', 'max_features': 'auto', 'min_samples_leaf': 1, 'min_samples_split': 2, 'n_estimators': 1000}\n",
      "0.885714 (0.008979) with: {'criterion': 'gini', 'max_features': 'auto', 'min_samples_leaf': 1, 'min_samples_split': 2, 'n_estimators': 1200}\n",
      "0.887831 (0.009813) with: {'criterion': 'gini', 'max_features': 'auto', 'min_samples_leaf': 1, 'min_samples_split': 2, 'n_estimators': 1400}\n",
      "0.886772 (0.008332) with: {'criterion': 'gini', 'max_features': 'auto', 'min_samples_leaf': 1, 'min_samples_split': 2, 'n_estimators': 1600}\n",
      "0.885714 (0.009346) with: {'criterion': 'gini', 'max_features': 'auto', 'min_samples_leaf': 1, 'min_samples_split': 2, 'n_estimators': 1800}\n",
      "0.885714 (0.009346) with: {'criterion': 'gini', 'max_features': 'auto', 'min_samples_leaf': 1, 'min_samples_split': 2, 'n_estimators': 2000}\n",
      "0.887831 (0.013046) with: {'criterion': 'gini', 'max_features': 'auto', 'min_samples_leaf': 1, 'min_samples_split': 5, 'n_estimators': 100}\n",
      "0.889947 (0.006523) with: {'criterion': 'gini', 'max_features': 'auto', 'min_samples_leaf': 1, 'min_samples_split': 5, 'n_estimators': 200}\n",
      "0.888889 (0.005184) with: {'criterion': 'gini', 'max_features': 'auto', 'min_samples_leaf': 1, 'min_samples_split': 5, 'n_estimators': 400}\n",
      "0.887831 (0.005396) with: {'criterion': 'gini', 'max_features': 'auto', 'min_samples_leaf': 1, 'min_samples_split': 5, 'n_estimators': 600}\n",
      "0.889947 (0.008332) with: {'criterion': 'gini', 'max_features': 'auto', 'min_samples_leaf': 1, 'min_samples_split': 5, 'n_estimators': 800}\n",
      "0.891005 (0.009813) with: {'criterion': 'gini', 'max_features': 'auto', 'min_samples_leaf': 1, 'min_samples_split': 5, 'n_estimators': 1000}\n",
      "0.891005 (0.009813) with: {'criterion': 'gini', 'max_features': 'auto', 'min_samples_leaf': 1, 'min_samples_split': 5, 'n_estimators': 1200}\n",
      "0.892063 (0.011298) with: {'criterion': 'gini', 'max_features': 'auto', 'min_samples_leaf': 1, 'min_samples_split': 5, 'n_estimators': 1400}\n",
      "0.891005 (0.009813) with: {'criterion': 'gini', 'max_features': 'auto', 'min_samples_leaf': 1, 'min_samples_split': 5, 'n_estimators': 1600}\n",
      "0.891005 (0.009813) with: {'criterion': 'gini', 'max_features': 'auto', 'min_samples_leaf': 1, 'min_samples_split': 5, 'n_estimators': 1800}\n",
      "0.891005 (0.009813) with: {'criterion': 'gini', 'max_features': 'auto', 'min_samples_leaf': 1, 'min_samples_split': 5, 'n_estimators': 2000}\n",
      "0.888889 (0.013716) with: {'criterion': 'gini', 'max_features': 'auto', 'min_samples_leaf': 2, 'min_samples_split': 2, 'n_estimators': 100}\n",
      "0.887831 (0.010476) with: {'criterion': 'gini', 'max_features': 'auto', 'min_samples_leaf': 2, 'min_samples_split': 2, 'n_estimators': 200}\n",
      "0.889947 (0.010792) with: {'criterion': 'gini', 'max_features': 'auto', 'min_samples_leaf': 2, 'min_samples_split': 2, 'n_estimators': 400}\n",
      "0.887831 (0.010476) with: {'criterion': 'gini', 'max_features': 'auto', 'min_samples_leaf': 2, 'min_samples_split': 2, 'n_estimators': 600}\n",
      "0.886772 (0.010792) with: {'criterion': 'gini', 'max_features': 'auto', 'min_samples_leaf': 2, 'min_samples_split': 2, 'n_estimators': 800}\n",
      "0.888889 (0.011878) with: {'criterion': 'gini', 'max_features': 'auto', 'min_samples_leaf': 2, 'min_samples_split': 2, 'n_estimators': 1000}\n",
      "0.888889 (0.010368) with: {'criterion': 'gini', 'max_features': 'auto', 'min_samples_leaf': 2, 'min_samples_split': 2, 'n_estimators': 1200}\n",
      "0.887831 (0.010476) with: {'criterion': 'gini', 'max_features': 'auto', 'min_samples_leaf': 2, 'min_samples_split': 2, 'n_estimators': 1400}\n",
      "0.888889 (0.011878) with: {'criterion': 'gini', 'max_features': 'auto', 'min_samples_leaf': 2, 'min_samples_split': 2, 'n_estimators': 1600}\n",
      "0.887831 (0.012250) with: {'criterion': 'gini', 'max_features': 'auto', 'min_samples_leaf': 2, 'min_samples_split': 2, 'n_estimators': 1800}\n",
      "0.887831 (0.010476) with: {'criterion': 'gini', 'max_features': 'auto', 'min_samples_leaf': 2, 'min_samples_split': 2, 'n_estimators': 2000}\n",
      "0.885714 (0.011878) with: {'criterion': 'gini', 'max_features': 'auto', 'min_samples_leaf': 2, 'min_samples_split': 5, 'n_estimators': 100}\n",
      "0.887831 (0.014739) with: {'criterion': 'gini', 'max_features': 'auto', 'min_samples_leaf': 2, 'min_samples_split': 5, 'n_estimators': 200}\n",
      "0.889947 (0.015838) with: {'criterion': 'gini', 'max_features': 'auto', 'min_samples_leaf': 2, 'min_samples_split': 5, 'n_estimators': 400}\n",
      "0.888889 (0.012960) with: {'criterion': 'gini', 'max_features': 'auto', 'min_samples_leaf': 2, 'min_samples_split': 5, 'n_estimators': 600}\n",
      "0.886772 (0.014276) with: {'criterion': 'gini', 'max_features': 'auto', 'min_samples_leaf': 2, 'min_samples_split': 5, 'n_estimators': 800}\n",
      "0.886772 (0.011688) with: {'criterion': 'gini', 'max_features': 'auto', 'min_samples_leaf': 2, 'min_samples_split': 5, 'n_estimators': 1000}\n",
      "0.885714 (0.011878) with: {'criterion': 'gini', 'max_features': 'auto', 'min_samples_leaf': 2, 'min_samples_split': 5, 'n_estimators': 1200}\n",
      "0.885714 (0.011878) with: {'criterion': 'gini', 'max_features': 'auto', 'min_samples_leaf': 2, 'min_samples_split': 5, 'n_estimators': 1400}\n",
      "0.886772 (0.013301) with: {'criterion': 'gini', 'max_features': 'auto', 'min_samples_leaf': 2, 'min_samples_split': 5, 'n_estimators': 1600}\n",
      "0.885714 (0.012960) with: {'criterion': 'gini', 'max_features': 'auto', 'min_samples_leaf': 2, 'min_samples_split': 5, 'n_estimators': 1800}\n",
      "0.886772 (0.013046) with: {'criterion': 'gini', 'max_features': 'auto', 'min_samples_leaf': 2, 'min_samples_split': 5, 'n_estimators': 2000}\n",
      "0.888889 (0.011298) with: {'criterion': 'gini', 'max_features': 'sqrt', 'min_samples_leaf': 1, 'min_samples_split': 2, 'n_estimators': 100}\n",
      "0.889947 (0.007919) with: {'criterion': 'gini', 'max_features': 'sqrt', 'min_samples_leaf': 1, 'min_samples_split': 2, 'n_estimators': 200}\n",
      "0.887831 (0.007919) with: {'criterion': 'gini', 'max_features': 'sqrt', 'min_samples_leaf': 1, 'min_samples_split': 2, 'n_estimators': 400}\n",
      "0.885714 (0.006858) with: {'criterion': 'gini', 'max_features': 'sqrt', 'min_samples_leaf': 1, 'min_samples_split': 2, 'n_estimators': 600}\n",
      "0.891005 (0.007483) with: {'criterion': 'gini', 'max_features': 'sqrt', 'min_samples_leaf': 1, 'min_samples_split': 2, 'n_estimators': 800}\n",
      "0.891005 (0.007483) with: {'criterion': 'gini', 'max_features': 'sqrt', 'min_samples_leaf': 1, 'min_samples_split': 2, 'n_estimators': 1000}\n",
      "0.885714 (0.008979) with: {'criterion': 'gini', 'max_features': 'sqrt', 'min_samples_leaf': 1, 'min_samples_split': 2, 'n_estimators': 1200}\n",
      "0.887831 (0.009813) with: {'criterion': 'gini', 'max_features': 'sqrt', 'min_samples_leaf': 1, 'min_samples_split': 2, 'n_estimators': 1400}\n",
      "0.886772 (0.008332) with: {'criterion': 'gini', 'max_features': 'sqrt', 'min_samples_leaf': 1, 'min_samples_split': 2, 'n_estimators': 1600}\n",
      "0.885714 (0.009346) with: {'criterion': 'gini', 'max_features': 'sqrt', 'min_samples_leaf': 1, 'min_samples_split': 2, 'n_estimators': 1800}\n",
      "0.885714 (0.009346) with: {'criterion': 'gini', 'max_features': 'sqrt', 'min_samples_leaf': 1, 'min_samples_split': 2, 'n_estimators': 2000}\n",
      "0.887831 (0.013046) with: {'criterion': 'gini', 'max_features': 'sqrt', 'min_samples_leaf': 1, 'min_samples_split': 5, 'n_estimators': 100}\n",
      "0.889947 (0.006523) with: {'criterion': 'gini', 'max_features': 'sqrt', 'min_samples_leaf': 1, 'min_samples_split': 5, 'n_estimators': 200}\n",
      "0.888889 (0.005184) with: {'criterion': 'gini', 'max_features': 'sqrt', 'min_samples_leaf': 1, 'min_samples_split': 5, 'n_estimators': 400}\n",
      "0.887831 (0.005396) with: {'criterion': 'gini', 'max_features': 'sqrt', 'min_samples_leaf': 1, 'min_samples_split': 5, 'n_estimators': 600}\n",
      "0.889947 (0.008332) with: {'criterion': 'gini', 'max_features': 'sqrt', 'min_samples_leaf': 1, 'min_samples_split': 5, 'n_estimators': 800}\n",
      "0.891005 (0.009813) with: {'criterion': 'gini', 'max_features': 'sqrt', 'min_samples_leaf': 1, 'min_samples_split': 5, 'n_estimators': 1000}\n",
      "0.891005 (0.009813) with: {'criterion': 'gini', 'max_features': 'sqrt', 'min_samples_leaf': 1, 'min_samples_split': 5, 'n_estimators': 1200}\n",
      "0.892063 (0.011298) with: {'criterion': 'gini', 'max_features': 'sqrt', 'min_samples_leaf': 1, 'min_samples_split': 5, 'n_estimators': 1400}\n",
      "0.891005 (0.009813) with: {'criterion': 'gini', 'max_features': 'sqrt', 'min_samples_leaf': 1, 'min_samples_split': 5, 'n_estimators': 1600}\n",
      "0.891005 (0.009813) with: {'criterion': 'gini', 'max_features': 'sqrt', 'min_samples_leaf': 1, 'min_samples_split': 5, 'n_estimators': 1800}\n",
      "0.891005 (0.009813) with: {'criterion': 'gini', 'max_features': 'sqrt', 'min_samples_leaf': 1, 'min_samples_split': 5, 'n_estimators': 2000}\n",
      "0.888889 (0.013716) with: {'criterion': 'gini', 'max_features': 'sqrt', 'min_samples_leaf': 2, 'min_samples_split': 2, 'n_estimators': 100}\n",
      "0.887831 (0.010476) with: {'criterion': 'gini', 'max_features': 'sqrt', 'min_samples_leaf': 2, 'min_samples_split': 2, 'n_estimators': 200}\n",
      "0.889947 (0.010792) with: {'criterion': 'gini', 'max_features': 'sqrt', 'min_samples_leaf': 2, 'min_samples_split': 2, 'n_estimators': 400}\n",
      "0.887831 (0.010476) with: {'criterion': 'gini', 'max_features': 'sqrt', 'min_samples_leaf': 2, 'min_samples_split': 2, 'n_estimators': 600}\n",
      "0.886772 (0.010792) with: {'criterion': 'gini', 'max_features': 'sqrt', 'min_samples_leaf': 2, 'min_samples_split': 2, 'n_estimators': 800}\n",
      "0.888889 (0.011878) with: {'criterion': 'gini', 'max_features': 'sqrt', 'min_samples_leaf': 2, 'min_samples_split': 2, 'n_estimators': 1000}\n",
      "0.888889 (0.010368) with: {'criterion': 'gini', 'max_features': 'sqrt', 'min_samples_leaf': 2, 'min_samples_split': 2, 'n_estimators': 1200}\n",
      "0.887831 (0.010476) with: {'criterion': 'gini', 'max_features': 'sqrt', 'min_samples_leaf': 2, 'min_samples_split': 2, 'n_estimators': 1400}\n",
      "0.888889 (0.011878) with: {'criterion': 'gini', 'max_features': 'sqrt', 'min_samples_leaf': 2, 'min_samples_split': 2, 'n_estimators': 1600}\n",
      "0.887831 (0.012250) with: {'criterion': 'gini', 'max_features': 'sqrt', 'min_samples_leaf': 2, 'min_samples_split': 2, 'n_estimators': 1800}\n",
      "0.887831 (0.010476) with: {'criterion': 'gini', 'max_features': 'sqrt', 'min_samples_leaf': 2, 'min_samples_split': 2, 'n_estimators': 2000}\n",
      "0.885714 (0.011878) with: {'criterion': 'gini', 'max_features': 'sqrt', 'min_samples_leaf': 2, 'min_samples_split': 5, 'n_estimators': 100}\n",
      "0.887831 (0.014739) with: {'criterion': 'gini', 'max_features': 'sqrt', 'min_samples_leaf': 2, 'min_samples_split': 5, 'n_estimators': 200}\n",
      "0.889947 (0.015838) with: {'criterion': 'gini', 'max_features': 'sqrt', 'min_samples_leaf': 2, 'min_samples_split': 5, 'n_estimators': 400}\n",
      "0.888889 (0.012960) with: {'criterion': 'gini', 'max_features': 'sqrt', 'min_samples_leaf': 2, 'min_samples_split': 5, 'n_estimators': 600}\n",
      "0.886772 (0.014276) with: {'criterion': 'gini', 'max_features': 'sqrt', 'min_samples_leaf': 2, 'min_samples_split': 5, 'n_estimators': 800}\n",
      "0.886772 (0.011688) with: {'criterion': 'gini', 'max_features': 'sqrt', 'min_samples_leaf': 2, 'min_samples_split': 5, 'n_estimators': 1000}\n",
      "0.885714 (0.011878) with: {'criterion': 'gini', 'max_features': 'sqrt', 'min_samples_leaf': 2, 'min_samples_split': 5, 'n_estimators': 1200}\n",
      "0.885714 (0.011878) with: {'criterion': 'gini', 'max_features': 'sqrt', 'min_samples_leaf': 2, 'min_samples_split': 5, 'n_estimators': 1400}\n",
      "0.886772 (0.013301) with: {'criterion': 'gini', 'max_features': 'sqrt', 'min_samples_leaf': 2, 'min_samples_split': 5, 'n_estimators': 1600}\n",
      "0.885714 (0.012960) with: {'criterion': 'gini', 'max_features': 'sqrt', 'min_samples_leaf': 2, 'min_samples_split': 5, 'n_estimators': 1800}\n",
      "0.886772 (0.013046) with: {'criterion': 'gini', 'max_features': 'sqrt', 'min_samples_leaf': 2, 'min_samples_split': 5, 'n_estimators': 2000}\n",
      "0.888889 (0.011298) with: {'criterion': 'gini', 'max_features': 'log2', 'min_samples_leaf': 1, 'min_samples_split': 2, 'n_estimators': 100}\n",
      "0.889947 (0.007919) with: {'criterion': 'gini', 'max_features': 'log2', 'min_samples_leaf': 1, 'min_samples_split': 2, 'n_estimators': 200}\n",
      "0.887831 (0.007919) with: {'criterion': 'gini', 'max_features': 'log2', 'min_samples_leaf': 1, 'min_samples_split': 2, 'n_estimators': 400}\n",
      "0.885714 (0.006858) with: {'criterion': 'gini', 'max_features': 'log2', 'min_samples_leaf': 1, 'min_samples_split': 2, 'n_estimators': 600}\n",
      "0.891005 (0.007483) with: {'criterion': 'gini', 'max_features': 'log2', 'min_samples_leaf': 1, 'min_samples_split': 2, 'n_estimators': 800}\n",
      "0.891005 (0.007483) with: {'criterion': 'gini', 'max_features': 'log2', 'min_samples_leaf': 1, 'min_samples_split': 2, 'n_estimators': 1000}\n",
      "0.885714 (0.008979) with: {'criterion': 'gini', 'max_features': 'log2', 'min_samples_leaf': 1, 'min_samples_split': 2, 'n_estimators': 1200}\n",
      "0.887831 (0.009813) with: {'criterion': 'gini', 'max_features': 'log2', 'min_samples_leaf': 1, 'min_samples_split': 2, 'n_estimators': 1400}\n",
      "0.886772 (0.008332) with: {'criterion': 'gini', 'max_features': 'log2', 'min_samples_leaf': 1, 'min_samples_split': 2, 'n_estimators': 1600}\n",
      "0.885714 (0.009346) with: {'criterion': 'gini', 'max_features': 'log2', 'min_samples_leaf': 1, 'min_samples_split': 2, 'n_estimators': 1800}\n",
      "0.885714 (0.009346) with: {'criterion': 'gini', 'max_features': 'log2', 'min_samples_leaf': 1, 'min_samples_split': 2, 'n_estimators': 2000}\n",
      "0.887831 (0.013046) with: {'criterion': 'gini', 'max_features': 'log2', 'min_samples_leaf': 1, 'min_samples_split': 5, 'n_estimators': 100}\n",
      "0.889947 (0.006523) with: {'criterion': 'gini', 'max_features': 'log2', 'min_samples_leaf': 1, 'min_samples_split': 5, 'n_estimators': 200}\n",
      "0.888889 (0.005184) with: {'criterion': 'gini', 'max_features': 'log2', 'min_samples_leaf': 1, 'min_samples_split': 5, 'n_estimators': 400}\n",
      "0.887831 (0.005396) with: {'criterion': 'gini', 'max_features': 'log2', 'min_samples_leaf': 1, 'min_samples_split': 5, 'n_estimators': 600}\n",
      "0.889947 (0.008332) with: {'criterion': 'gini', 'max_features': 'log2', 'min_samples_leaf': 1, 'min_samples_split': 5, 'n_estimators': 800}\n",
      "0.891005 (0.009813) with: {'criterion': 'gini', 'max_features': 'log2', 'min_samples_leaf': 1, 'min_samples_split': 5, 'n_estimators': 1000}\n",
      "0.891005 (0.009813) with: {'criterion': 'gini', 'max_features': 'log2', 'min_samples_leaf': 1, 'min_samples_split': 5, 'n_estimators': 1200}\n",
      "0.892063 (0.011298) with: {'criterion': 'gini', 'max_features': 'log2', 'min_samples_leaf': 1, 'min_samples_split': 5, 'n_estimators': 1400}\n",
      "0.891005 (0.009813) with: {'criterion': 'gini', 'max_features': 'log2', 'min_samples_leaf': 1, 'min_samples_split': 5, 'n_estimators': 1600}\n",
      "0.891005 (0.009813) with: {'criterion': 'gini', 'max_features': 'log2', 'min_samples_leaf': 1, 'min_samples_split': 5, 'n_estimators': 1800}\n",
      "0.891005 (0.009813) with: {'criterion': 'gini', 'max_features': 'log2', 'min_samples_leaf': 1, 'min_samples_split': 5, 'n_estimators': 2000}\n",
      "0.888889 (0.013716) with: {'criterion': 'gini', 'max_features': 'log2', 'min_samples_leaf': 2, 'min_samples_split': 2, 'n_estimators': 100}\n",
      "0.887831 (0.010476) with: {'criterion': 'gini', 'max_features': 'log2', 'min_samples_leaf': 2, 'min_samples_split': 2, 'n_estimators': 200}\n",
      "0.889947 (0.010792) with: {'criterion': 'gini', 'max_features': 'log2', 'min_samples_leaf': 2, 'min_samples_split': 2, 'n_estimators': 400}\n",
      "0.887831 (0.010476) with: {'criterion': 'gini', 'max_features': 'log2', 'min_samples_leaf': 2, 'min_samples_split': 2, 'n_estimators': 600}\n",
      "0.886772 (0.010792) with: {'criterion': 'gini', 'max_features': 'log2', 'min_samples_leaf': 2, 'min_samples_split': 2, 'n_estimators': 800}\n",
      "0.888889 (0.011878) with: {'criterion': 'gini', 'max_features': 'log2', 'min_samples_leaf': 2, 'min_samples_split': 2, 'n_estimators': 1000}\n",
      "0.888889 (0.010368) with: {'criterion': 'gini', 'max_features': 'log2', 'min_samples_leaf': 2, 'min_samples_split': 2, 'n_estimators': 1200}\n",
      "0.887831 (0.010476) with: {'criterion': 'gini', 'max_features': 'log2', 'min_samples_leaf': 2, 'min_samples_split': 2, 'n_estimators': 1400}\n",
      "0.888889 (0.011878) with: {'criterion': 'gini', 'max_features': 'log2', 'min_samples_leaf': 2, 'min_samples_split': 2, 'n_estimators': 1600}\n",
      "0.887831 (0.012250) with: {'criterion': 'gini', 'max_features': 'log2', 'min_samples_leaf': 2, 'min_samples_split': 2, 'n_estimators': 1800}\n",
      "0.887831 (0.010476) with: {'criterion': 'gini', 'max_features': 'log2', 'min_samples_leaf': 2, 'min_samples_split': 2, 'n_estimators': 2000}\n",
      "0.885714 (0.011878) with: {'criterion': 'gini', 'max_features': 'log2', 'min_samples_leaf': 2, 'min_samples_split': 5, 'n_estimators': 100}\n",
      "0.887831 (0.014739) with: {'criterion': 'gini', 'max_features': 'log2', 'min_samples_leaf': 2, 'min_samples_split': 5, 'n_estimators': 200}\n",
      "0.889947 (0.015838) with: {'criterion': 'gini', 'max_features': 'log2', 'min_samples_leaf': 2, 'min_samples_split': 5, 'n_estimators': 400}\n",
      "0.888889 (0.012960) with: {'criterion': 'gini', 'max_features': 'log2', 'min_samples_leaf': 2, 'min_samples_split': 5, 'n_estimators': 600}\n",
      "0.886772 (0.014276) with: {'criterion': 'gini', 'max_features': 'log2', 'min_samples_leaf': 2, 'min_samples_split': 5, 'n_estimators': 800}\n",
      "0.886772 (0.011688) with: {'criterion': 'gini', 'max_features': 'log2', 'min_samples_leaf': 2, 'min_samples_split': 5, 'n_estimators': 1000}\n",
      "0.885714 (0.011878) with: {'criterion': 'gini', 'max_features': 'log2', 'min_samples_leaf': 2, 'min_samples_split': 5, 'n_estimators': 1200}\n",
      "0.885714 (0.011878) with: {'criterion': 'gini', 'max_features': 'log2', 'min_samples_leaf': 2, 'min_samples_split': 5, 'n_estimators': 1400}\n",
      "0.886772 (0.013301) with: {'criterion': 'gini', 'max_features': 'log2', 'min_samples_leaf': 2, 'min_samples_split': 5, 'n_estimators': 1600}\n",
      "0.885714 (0.012960) with: {'criterion': 'gini', 'max_features': 'log2', 'min_samples_leaf': 2, 'min_samples_split': 5, 'n_estimators': 1800}\n",
      "0.886772 (0.013046) with: {'criterion': 'gini', 'max_features': 'log2', 'min_samples_leaf': 2, 'min_samples_split': 5, 'n_estimators': 2000}\n",
      "0.889947 (0.005396) with: {'criterion': 'entropy', 'max_features': 'auto', 'min_samples_leaf': 1, 'min_samples_split': 2, 'n_estimators': 100}\n",
      "0.888889 (0.004490) with: {'criterion': 'entropy', 'max_features': 'auto', 'min_samples_leaf': 1, 'min_samples_split': 2, 'n_estimators': 200}\n",
      "0.885714 (0.006858) with: {'criterion': 'entropy', 'max_features': 'auto', 'min_samples_leaf': 1, 'min_samples_split': 2, 'n_estimators': 400}\n",
      "0.885714 (0.002592) with: {'criterion': 'entropy', 'max_features': 'auto', 'min_samples_leaf': 1, 'min_samples_split': 2, 'n_estimators': 600}\n",
      "0.882540 (0.004490) with: {'criterion': 'entropy', 'max_features': 'auto', 'min_samples_leaf': 1, 'min_samples_split': 2, 'n_estimators': 800}\n",
      "0.884656 (0.001497) with: {'criterion': 'entropy', 'max_features': 'auto', 'min_samples_leaf': 1, 'min_samples_split': 2, 'n_estimators': 1000}\n",
      "0.883598 (0.002993) with: {'criterion': 'entropy', 'max_features': 'auto', 'min_samples_leaf': 1, 'min_samples_split': 2, 'n_estimators': 1200}\n",
      "0.883598 (0.002993) with: {'criterion': 'entropy', 'max_features': 'auto', 'min_samples_leaf': 1, 'min_samples_split': 2, 'n_estimators': 1400}\n",
      "0.884656 (0.003959) with: {'criterion': 'entropy', 'max_features': 'auto', 'min_samples_leaf': 1, 'min_samples_split': 2, 'n_estimators': 1600}\n",
      "0.884656 (0.003959) with: {'criterion': 'entropy', 'max_features': 'auto', 'min_samples_leaf': 1, 'min_samples_split': 2, 'n_estimators': 1800}\n",
      "0.883598 (0.005396) with: {'criterion': 'entropy', 'max_features': 'auto', 'min_samples_leaf': 1, 'min_samples_split': 2, 'n_estimators': 2000}\n",
      "0.884656 (0.005396) with: {'criterion': 'entropy', 'max_features': 'auto', 'min_samples_leaf': 1, 'min_samples_split': 5, 'n_estimators': 100}\n",
      "0.883598 (0.005986) with: {'criterion': 'entropy', 'max_features': 'auto', 'min_samples_leaf': 1, 'min_samples_split': 5, 'n_estimators': 200}\n",
      "0.881481 (0.003959) with: {'criterion': 'entropy', 'max_features': 'auto', 'min_samples_leaf': 1, 'min_samples_split': 5, 'n_estimators': 400}\n",
      "0.883598 (0.002993) with: {'criterion': 'entropy', 'max_features': 'auto', 'min_samples_leaf': 1, 'min_samples_split': 5, 'n_estimators': 600}\n",
      "0.883598 (0.002993) with: {'criterion': 'entropy', 'max_features': 'auto', 'min_samples_leaf': 1, 'min_samples_split': 5, 'n_estimators': 800}\n",
      "0.882540 (0.004490) with: {'criterion': 'entropy', 'max_features': 'auto', 'min_samples_leaf': 1, 'min_samples_split': 5, 'n_estimators': 1000}\n",
      "0.882540 (0.004490) with: {'criterion': 'entropy', 'max_features': 'auto', 'min_samples_leaf': 1, 'min_samples_split': 5, 'n_estimators': 1200}\n",
      "0.882540 (0.004490) with: {'criterion': 'entropy', 'max_features': 'auto', 'min_samples_leaf': 1, 'min_samples_split': 5, 'n_estimators': 1400}\n",
      "0.882540 (0.004490) with: {'criterion': 'entropy', 'max_features': 'auto', 'min_samples_leaf': 1, 'min_samples_split': 5, 'n_estimators': 1600}\n",
      "0.882540 (0.004490) with: {'criterion': 'entropy', 'max_features': 'auto', 'min_samples_leaf': 1, 'min_samples_split': 5, 'n_estimators': 1800}\n",
      "0.882540 (0.004490) with: {'criterion': 'entropy', 'max_features': 'auto', 'min_samples_leaf': 1, 'min_samples_split': 5, 'n_estimators': 2000}\n",
      "0.888889 (0.012960) with: {'criterion': 'entropy', 'max_features': 'auto', 'min_samples_leaf': 2, 'min_samples_split': 2, 'n_estimators': 100}\n",
      "0.887831 (0.011688) with: {'criterion': 'entropy', 'max_features': 'auto', 'min_samples_leaf': 2, 'min_samples_split': 2, 'n_estimators': 200}\n",
      "0.888889 (0.009346) with: {'criterion': 'entropy', 'max_features': 'auto', 'min_samples_leaf': 2, 'min_samples_split': 2, 'n_estimators': 400}\n",
      "0.885714 (0.007776) with: {'criterion': 'entropy', 'max_features': 'auto', 'min_samples_leaf': 2, 'min_samples_split': 2, 'n_estimators': 600}\n",
      "0.884656 (0.010792) with: {'criterion': 'entropy', 'max_features': 'auto', 'min_samples_leaf': 2, 'min_samples_split': 2, 'n_estimators': 800}\n",
      "0.884656 (0.006523) with: {'criterion': 'entropy', 'max_features': 'auto', 'min_samples_leaf': 2, 'min_samples_split': 2, 'n_estimators': 1000}\n",
      "0.885714 (0.005184) with: {'criterion': 'entropy', 'max_features': 'auto', 'min_samples_leaf': 2, 'min_samples_split': 2, 'n_estimators': 1200}\n",
      "0.884656 (0.006523) with: {'criterion': 'entropy', 'max_features': 'auto', 'min_samples_leaf': 2, 'min_samples_split': 2, 'n_estimators': 1400}\n",
      "0.885714 (0.007776) with: {'criterion': 'entropy', 'max_features': 'auto', 'min_samples_leaf': 2, 'min_samples_split': 2, 'n_estimators': 1600}\n",
      "0.884656 (0.006523) with: {'criterion': 'entropy', 'max_features': 'auto', 'min_samples_leaf': 2, 'min_samples_split': 2, 'n_estimators': 1800}\n",
      "0.883598 (0.007919) with: {'criterion': 'entropy', 'max_features': 'auto', 'min_samples_leaf': 2, 'min_samples_split': 2, 'n_estimators': 2000}\n",
      "0.883598 (0.011688) with: {'criterion': 'entropy', 'max_features': 'auto', 'min_samples_leaf': 2, 'min_samples_split': 5, 'n_estimators': 100}\n",
      "0.885714 (0.010368) with: {'criterion': 'entropy', 'max_features': 'auto', 'min_samples_leaf': 2, 'min_samples_split': 5, 'n_estimators': 200}\n",
      "0.883598 (0.009813) with: {'criterion': 'entropy', 'max_features': 'auto', 'min_samples_leaf': 2, 'min_samples_split': 5, 'n_estimators': 400}\n",
      "0.884656 (0.005986) with: {'criterion': 'entropy', 'max_features': 'auto', 'min_samples_leaf': 2, 'min_samples_split': 5, 'n_estimators': 600}\n",
      "0.883598 (0.007919) with: {'criterion': 'entropy', 'max_features': 'auto', 'min_samples_leaf': 2, 'min_samples_split': 5, 'n_estimators': 800}\n",
      "0.884656 (0.009103) with: {'criterion': 'entropy', 'max_features': 'auto', 'min_samples_leaf': 2, 'min_samples_split': 5, 'n_estimators': 1000}\n",
      "0.883598 (0.007919) with: {'criterion': 'entropy', 'max_features': 'auto', 'min_samples_leaf': 2, 'min_samples_split': 5, 'n_estimators': 1200}\n",
      "0.883598 (0.007919) with: {'criterion': 'entropy', 'max_features': 'auto', 'min_samples_leaf': 2, 'min_samples_split': 5, 'n_estimators': 1400}\n",
      "0.883598 (0.005396) with: {'criterion': 'entropy', 'max_features': 'auto', 'min_samples_leaf': 2, 'min_samples_split': 5, 'n_estimators': 1600}\n",
      "0.883598 (0.005396) with: {'criterion': 'entropy', 'max_features': 'auto', 'min_samples_leaf': 2, 'min_samples_split': 5, 'n_estimators': 1800}\n",
      "0.884656 (0.006523) with: {'criterion': 'entropy', 'max_features': 'auto', 'min_samples_leaf': 2, 'min_samples_split': 5, 'n_estimators': 2000}\n",
      "0.889947 (0.005396) with: {'criterion': 'entropy', 'max_features': 'sqrt', 'min_samples_leaf': 1, 'min_samples_split': 2, 'n_estimators': 100}\n",
      "0.888889 (0.004490) with: {'criterion': 'entropy', 'max_features': 'sqrt', 'min_samples_leaf': 1, 'min_samples_split': 2, 'n_estimators': 200}\n",
      "0.885714 (0.006858) with: {'criterion': 'entropy', 'max_features': 'sqrt', 'min_samples_leaf': 1, 'min_samples_split': 2, 'n_estimators': 400}\n",
      "0.885714 (0.002592) with: {'criterion': 'entropy', 'max_features': 'sqrt', 'min_samples_leaf': 1, 'min_samples_split': 2, 'n_estimators': 600}\n",
      "0.882540 (0.004490) with: {'criterion': 'entropy', 'max_features': 'sqrt', 'min_samples_leaf': 1, 'min_samples_split': 2, 'n_estimators': 800}\n",
      "0.884656 (0.001497) with: {'criterion': 'entropy', 'max_features': 'sqrt', 'min_samples_leaf': 1, 'min_samples_split': 2, 'n_estimators': 1000}\n",
      "0.883598 (0.002993) with: {'criterion': 'entropy', 'max_features': 'sqrt', 'min_samples_leaf': 1, 'min_samples_split': 2, 'n_estimators': 1200}\n",
      "0.883598 (0.002993) with: {'criterion': 'entropy', 'max_features': 'sqrt', 'min_samples_leaf': 1, 'min_samples_split': 2, 'n_estimators': 1400}\n",
      "0.884656 (0.003959) with: {'criterion': 'entropy', 'max_features': 'sqrt', 'min_samples_leaf': 1, 'min_samples_split': 2, 'n_estimators': 1600}\n",
      "0.884656 (0.003959) with: {'criterion': 'entropy', 'max_features': 'sqrt', 'min_samples_leaf': 1, 'min_samples_split': 2, 'n_estimators': 1800}\n",
      "0.883598 (0.005396) with: {'criterion': 'entropy', 'max_features': 'sqrt', 'min_samples_leaf': 1, 'min_samples_split': 2, 'n_estimators': 2000}\n",
      "0.884656 (0.005396) with: {'criterion': 'entropy', 'max_features': 'sqrt', 'min_samples_leaf': 1, 'min_samples_split': 5, 'n_estimators': 100}\n",
      "0.883598 (0.005986) with: {'criterion': 'entropy', 'max_features': 'sqrt', 'min_samples_leaf': 1, 'min_samples_split': 5, 'n_estimators': 200}\n",
      "0.881481 (0.003959) with: {'criterion': 'entropy', 'max_features': 'sqrt', 'min_samples_leaf': 1, 'min_samples_split': 5, 'n_estimators': 400}\n",
      "0.883598 (0.002993) with: {'criterion': 'entropy', 'max_features': 'sqrt', 'min_samples_leaf': 1, 'min_samples_split': 5, 'n_estimators': 600}\n",
      "0.883598 (0.002993) with: {'criterion': 'entropy', 'max_features': 'sqrt', 'min_samples_leaf': 1, 'min_samples_split': 5, 'n_estimators': 800}\n",
      "0.882540 (0.004490) with: {'criterion': 'entropy', 'max_features': 'sqrt', 'min_samples_leaf': 1, 'min_samples_split': 5, 'n_estimators': 1000}\n",
      "0.882540 (0.004490) with: {'criterion': 'entropy', 'max_features': 'sqrt', 'min_samples_leaf': 1, 'min_samples_split': 5, 'n_estimators': 1200}\n",
      "0.882540 (0.004490) with: {'criterion': 'entropy', 'max_features': 'sqrt', 'min_samples_leaf': 1, 'min_samples_split': 5, 'n_estimators': 1400}\n",
      "0.882540 (0.004490) with: {'criterion': 'entropy', 'max_features': 'sqrt', 'min_samples_leaf': 1, 'min_samples_split': 5, 'n_estimators': 1600}\n",
      "0.882540 (0.004490) with: {'criterion': 'entropy', 'max_features': 'sqrt', 'min_samples_leaf': 1, 'min_samples_split': 5, 'n_estimators': 1800}\n",
      "0.882540 (0.004490) with: {'criterion': 'entropy', 'max_features': 'sqrt', 'min_samples_leaf': 1, 'min_samples_split': 5, 'n_estimators': 2000}\n",
      "0.888889 (0.012960) with: {'criterion': 'entropy', 'max_features': 'sqrt', 'min_samples_leaf': 2, 'min_samples_split': 2, 'n_estimators': 100}\n",
      "0.887831 (0.011688) with: {'criterion': 'entropy', 'max_features': 'sqrt', 'min_samples_leaf': 2, 'min_samples_split': 2, 'n_estimators': 200}\n",
      "0.888889 (0.009346) with: {'criterion': 'entropy', 'max_features': 'sqrt', 'min_samples_leaf': 2, 'min_samples_split': 2, 'n_estimators': 400}\n",
      "0.885714 (0.007776) with: {'criterion': 'entropy', 'max_features': 'sqrt', 'min_samples_leaf': 2, 'min_samples_split': 2, 'n_estimators': 600}\n",
      "0.884656 (0.010792) with: {'criterion': 'entropy', 'max_features': 'sqrt', 'min_samples_leaf': 2, 'min_samples_split': 2, 'n_estimators': 800}\n",
      "0.884656 (0.006523) with: {'criterion': 'entropy', 'max_features': 'sqrt', 'min_samples_leaf': 2, 'min_samples_split': 2, 'n_estimators': 1000}\n",
      "0.885714 (0.005184) with: {'criterion': 'entropy', 'max_features': 'sqrt', 'min_samples_leaf': 2, 'min_samples_split': 2, 'n_estimators': 1200}\n",
      "0.884656 (0.006523) with: {'criterion': 'entropy', 'max_features': 'sqrt', 'min_samples_leaf': 2, 'min_samples_split': 2, 'n_estimators': 1400}\n",
      "0.885714 (0.007776) with: {'criterion': 'entropy', 'max_features': 'sqrt', 'min_samples_leaf': 2, 'min_samples_split': 2, 'n_estimators': 1600}\n",
      "0.884656 (0.006523) with: {'criterion': 'entropy', 'max_features': 'sqrt', 'min_samples_leaf': 2, 'min_samples_split': 2, 'n_estimators': 1800}\n",
      "0.883598 (0.007919) with: {'criterion': 'entropy', 'max_features': 'sqrt', 'min_samples_leaf': 2, 'min_samples_split': 2, 'n_estimators': 2000}\n",
      "0.883598 (0.011688) with: {'criterion': 'entropy', 'max_features': 'sqrt', 'min_samples_leaf': 2, 'min_samples_split': 5, 'n_estimators': 100}\n",
      "0.885714 (0.010368) with: {'criterion': 'entropy', 'max_features': 'sqrt', 'min_samples_leaf': 2, 'min_samples_split': 5, 'n_estimators': 200}\n",
      "0.883598 (0.009813) with: {'criterion': 'entropy', 'max_features': 'sqrt', 'min_samples_leaf': 2, 'min_samples_split': 5, 'n_estimators': 400}\n",
      "0.884656 (0.005986) with: {'criterion': 'entropy', 'max_features': 'sqrt', 'min_samples_leaf': 2, 'min_samples_split': 5, 'n_estimators': 600}\n",
      "0.883598 (0.007919) with: {'criterion': 'entropy', 'max_features': 'sqrt', 'min_samples_leaf': 2, 'min_samples_split': 5, 'n_estimators': 800}\n",
      "0.884656 (0.009103) with: {'criterion': 'entropy', 'max_features': 'sqrt', 'min_samples_leaf': 2, 'min_samples_split': 5, 'n_estimators': 1000}\n",
      "0.883598 (0.007919) with: {'criterion': 'entropy', 'max_features': 'sqrt', 'min_samples_leaf': 2, 'min_samples_split': 5, 'n_estimators': 1200}\n",
      "0.883598 (0.007919) with: {'criterion': 'entropy', 'max_features': 'sqrt', 'min_samples_leaf': 2, 'min_samples_split': 5, 'n_estimators': 1400}\n",
      "0.883598 (0.005396) with: {'criterion': 'entropy', 'max_features': 'sqrt', 'min_samples_leaf': 2, 'min_samples_split': 5, 'n_estimators': 1600}\n",
      "0.883598 (0.005396) with: {'criterion': 'entropy', 'max_features': 'sqrt', 'min_samples_leaf': 2, 'min_samples_split': 5, 'n_estimators': 1800}\n",
      "0.884656 (0.006523) with: {'criterion': 'entropy', 'max_features': 'sqrt', 'min_samples_leaf': 2, 'min_samples_split': 5, 'n_estimators': 2000}\n",
      "0.889947 (0.005396) with: {'criterion': 'entropy', 'max_features': 'log2', 'min_samples_leaf': 1, 'min_samples_split': 2, 'n_estimators': 100}\n",
      "0.888889 (0.004490) with: {'criterion': 'entropy', 'max_features': 'log2', 'min_samples_leaf': 1, 'min_samples_split': 2, 'n_estimators': 200}\n",
      "0.885714 (0.006858) with: {'criterion': 'entropy', 'max_features': 'log2', 'min_samples_leaf': 1, 'min_samples_split': 2, 'n_estimators': 400}\n",
      "0.885714 (0.002592) with: {'criterion': 'entropy', 'max_features': 'log2', 'min_samples_leaf': 1, 'min_samples_split': 2, 'n_estimators': 600}\n",
      "0.882540 (0.004490) with: {'criterion': 'entropy', 'max_features': 'log2', 'min_samples_leaf': 1, 'min_samples_split': 2, 'n_estimators': 800}\n",
      "0.884656 (0.001497) with: {'criterion': 'entropy', 'max_features': 'log2', 'min_samples_leaf': 1, 'min_samples_split': 2, 'n_estimators': 1000}\n",
      "0.883598 (0.002993) with: {'criterion': 'entropy', 'max_features': 'log2', 'min_samples_leaf': 1, 'min_samples_split': 2, 'n_estimators': 1200}\n",
      "0.883598 (0.002993) with: {'criterion': 'entropy', 'max_features': 'log2', 'min_samples_leaf': 1, 'min_samples_split': 2, 'n_estimators': 1400}\n",
      "0.884656 (0.003959) with: {'criterion': 'entropy', 'max_features': 'log2', 'min_samples_leaf': 1, 'min_samples_split': 2, 'n_estimators': 1600}\n",
      "0.884656 (0.003959) with: {'criterion': 'entropy', 'max_features': 'log2', 'min_samples_leaf': 1, 'min_samples_split': 2, 'n_estimators': 1800}\n",
      "0.883598 (0.005396) with: {'criterion': 'entropy', 'max_features': 'log2', 'min_samples_leaf': 1, 'min_samples_split': 2, 'n_estimators': 2000}\n",
      "0.884656 (0.005396) with: {'criterion': 'entropy', 'max_features': 'log2', 'min_samples_leaf': 1, 'min_samples_split': 5, 'n_estimators': 100}\n",
      "0.883598 (0.005986) with: {'criterion': 'entropy', 'max_features': 'log2', 'min_samples_leaf': 1, 'min_samples_split': 5, 'n_estimators': 200}\n",
      "0.881481 (0.003959) with: {'criterion': 'entropy', 'max_features': 'log2', 'min_samples_leaf': 1, 'min_samples_split': 5, 'n_estimators': 400}\n",
      "0.883598 (0.002993) with: {'criterion': 'entropy', 'max_features': 'log2', 'min_samples_leaf': 1, 'min_samples_split': 5, 'n_estimators': 600}\n",
      "0.883598 (0.002993) with: {'criterion': 'entropy', 'max_features': 'log2', 'min_samples_leaf': 1, 'min_samples_split': 5, 'n_estimators': 800}\n",
      "0.882540 (0.004490) with: {'criterion': 'entropy', 'max_features': 'log2', 'min_samples_leaf': 1, 'min_samples_split': 5, 'n_estimators': 1000}\n",
      "0.882540 (0.004490) with: {'criterion': 'entropy', 'max_features': 'log2', 'min_samples_leaf': 1, 'min_samples_split': 5, 'n_estimators': 1200}\n",
      "0.882540 (0.004490) with: {'criterion': 'entropy', 'max_features': 'log2', 'min_samples_leaf': 1, 'min_samples_split': 5, 'n_estimators': 1400}\n",
      "0.882540 (0.004490) with: {'criterion': 'entropy', 'max_features': 'log2', 'min_samples_leaf': 1, 'min_samples_split': 5, 'n_estimators': 1600}\n",
      "0.882540 (0.004490) with: {'criterion': 'entropy', 'max_features': 'log2', 'min_samples_leaf': 1, 'min_samples_split': 5, 'n_estimators': 1800}\n",
      "0.882540 (0.004490) with: {'criterion': 'entropy', 'max_features': 'log2', 'min_samples_leaf': 1, 'min_samples_split': 5, 'n_estimators': 2000}\n",
      "0.888889 (0.012960) with: {'criterion': 'entropy', 'max_features': 'log2', 'min_samples_leaf': 2, 'min_samples_split': 2, 'n_estimators': 100}\n",
      "0.887831 (0.011688) with: {'criterion': 'entropy', 'max_features': 'log2', 'min_samples_leaf': 2, 'min_samples_split': 2, 'n_estimators': 200}\n",
      "0.888889 (0.009346) with: {'criterion': 'entropy', 'max_features': 'log2', 'min_samples_leaf': 2, 'min_samples_split': 2, 'n_estimators': 400}\n",
      "0.885714 (0.007776) with: {'criterion': 'entropy', 'max_features': 'log2', 'min_samples_leaf': 2, 'min_samples_split': 2, 'n_estimators': 600}\n",
      "0.884656 (0.010792) with: {'criterion': 'entropy', 'max_features': 'log2', 'min_samples_leaf': 2, 'min_samples_split': 2, 'n_estimators': 800}\n",
      "0.884656 (0.006523) with: {'criterion': 'entropy', 'max_features': 'log2', 'min_samples_leaf': 2, 'min_samples_split': 2, 'n_estimators': 1000}\n",
      "0.885714 (0.005184) with: {'criterion': 'entropy', 'max_features': 'log2', 'min_samples_leaf': 2, 'min_samples_split': 2, 'n_estimators': 1200}\n",
      "0.884656 (0.006523) with: {'criterion': 'entropy', 'max_features': 'log2', 'min_samples_leaf': 2, 'min_samples_split': 2, 'n_estimators': 1400}\n",
      "0.885714 (0.007776) with: {'criterion': 'entropy', 'max_features': 'log2', 'min_samples_leaf': 2, 'min_samples_split': 2, 'n_estimators': 1600}\n",
      "0.884656 (0.006523) with: {'criterion': 'entropy', 'max_features': 'log2', 'min_samples_leaf': 2, 'min_samples_split': 2, 'n_estimators': 1800}\n",
      "0.883598 (0.007919) with: {'criterion': 'entropy', 'max_features': 'log2', 'min_samples_leaf': 2, 'min_samples_split': 2, 'n_estimators': 2000}\n",
      "0.883598 (0.011688) with: {'criterion': 'entropy', 'max_features': 'log2', 'min_samples_leaf': 2, 'min_samples_split': 5, 'n_estimators': 100}\n",
      "0.885714 (0.010368) with: {'criterion': 'entropy', 'max_features': 'log2', 'min_samples_leaf': 2, 'min_samples_split': 5, 'n_estimators': 200}\n",
      "0.883598 (0.009813) with: {'criterion': 'entropy', 'max_features': 'log2', 'min_samples_leaf': 2, 'min_samples_split': 5, 'n_estimators': 400}\n",
      "0.884656 (0.005986) with: {'criterion': 'entropy', 'max_features': 'log2', 'min_samples_leaf': 2, 'min_samples_split': 5, 'n_estimators': 600}\n",
      "0.883598 (0.007919) with: {'criterion': 'entropy', 'max_features': 'log2', 'min_samples_leaf': 2, 'min_samples_split': 5, 'n_estimators': 800}\n",
      "0.884656 (0.009103) with: {'criterion': 'entropy', 'max_features': 'log2', 'min_samples_leaf': 2, 'min_samples_split': 5, 'n_estimators': 1000}\n",
      "0.883598 (0.007919) with: {'criterion': 'entropy', 'max_features': 'log2', 'min_samples_leaf': 2, 'min_samples_split': 5, 'n_estimators': 1200}\n",
      "0.883598 (0.007919) with: {'criterion': 'entropy', 'max_features': 'log2', 'min_samples_leaf': 2, 'min_samples_split': 5, 'n_estimators': 1400}\n",
      "0.883598 (0.005396) with: {'criterion': 'entropy', 'max_features': 'log2', 'min_samples_leaf': 2, 'min_samples_split': 5, 'n_estimators': 1600}\n",
      "0.883598 (0.005396) with: {'criterion': 'entropy', 'max_features': 'log2', 'min_samples_leaf': 2, 'min_samples_split': 5, 'n_estimators': 1800}\n",
      "0.884656 (0.006523) with: {'criterion': 'entropy', 'max_features': 'log2', 'min_samples_leaf': 2, 'min_samples_split': 5, 'n_estimators': 2000}\n"
     ]
    }
   ],
   "source": [
    "# Menentukan Hyperparamater yang digunakan\n",
    "n_estimators = [100, 200, 400, 600, 800, 1000, 1200, 1400, 1600, 1800, 2000]\n",
    "max_features = ['auto', 'sqrt', 'log2']\n",
    "criterion = ['gini', 'entropy']\n",
    "min_samples_leaf = [1, 2]\n",
    "min_samples_split = [2, 5]\n",
    "\n",
    "# Gridsearch\n",
    "grid = dict(n_estimators=n_estimators,max_features=max_features,criterion=criterion,min_samples_leaf=min_samples_leaf,min_samples_split=min_samples_split)\n",
    "cv = RepeatedStratifiedKFold(n_splits=10, n_repeats=3, random_state=17)\n",
    "grid_search = GridSearchCV(estimator=model_rf, param_grid=grid, n_jobs=-1, cv=3, scoring='accuracy',error_score=0)\n",
    "grid_result = grid_search.fit(X_train_scaled, y_train_imbalanced)\n",
    "# summarize results\n",
    "print(\"Best: %f using %s\" % (grid_result.best_score_, grid_result.best_params_))\n",
    "means = grid_result.cv_results_['mean_test_score']\n",
    "stds = grid_result.cv_results_['std_test_score']\n",
    "params = grid_result.cv_results_['params']\n",
    "for mean, stdev, param in zip(means, stds, params):\n",
    "    print(\"%f (%f) with: %r\" % (mean, stdev, param))"
   ]
  },
  {
   "cell_type": "code",
   "execution_count": 197,
   "metadata": {},
   "outputs": [],
   "source": [
    "model_final=RandomForestClassifier(criterion= 'entropy', max_features= 'auto', min_samples_leaf= 1,\n",
    "            min_samples_split= 2, n_estimators= 100, random_state=17)"
   ]
  },
  {
   "cell_type": "code",
   "execution_count": 198,
   "metadata": {},
   "outputs": [
    {
     "name": "stdout",
     "output_type": "stream",
     "text": [
      "Random Forest\n",
      "Accuracy - All - Cross Validation  :  [0.88888889 0.87936508 0.88253968]\n",
      "Accuracy - Mean - Cross Validation :  0.8835978835978836\n",
      "Accuracy - Std - Cross Validation  :  0.003959425806109977\n",
      "Accuracy - Range of Test-Set       :  0.8796384577917736 - 0.8875573094039936 \n",
      "\n",
      "Random Forest Tuning\n",
      "Accuracy - All - Cross Validation  :  [0.89206349 0.89206349 0.87936508]\n",
      "Accuracy - Mean - Cross Validation :  0.887830687830688\n",
      "Accuracy - Std - Cross Validation  :  0.005986089152902021\n",
      "Accuracy - Range of Test-Set       :  0.881844598677786 - 0.89381677698359 \n",
      "\n"
     ]
    }
   ],
   "source": [
    "print('Random Forest')\n",
    "print('Accuracy - All - Cross Validation  : ', cross(model_rf))\n",
    "print('Accuracy - Mean - Cross Validation : ', cross(model_rf).mean())\n",
    "print('Accuracy - Std - Cross Validation  : ', cross(model_rf).std())\n",
    "print('Accuracy - Range of Test-Set       : ', (cross(model_rf).mean()-cross(model_rf).std()) , '-', (cross(model_rf).mean()+cross(model_rf).std()),'\\n')\n",
    "print('Random Forest Tuning')\n",
    "print('Accuracy - All - Cross Validation  : ', cross(model_final))\n",
    "print('Accuracy - Mean - Cross Validation : ', cross(model_final).mean())\n",
    "print('Accuracy - Std - Cross Validation  : ', cross(model_final).std())\n",
    "print('Accuracy - Range of Test-Set       : ', (cross(model_final).mean()-cross(model_final).std()) , '-', (cross(model_final).mean()+cross(model_final).std()),'\\n')\n"
   ]
  },
  {
   "cell_type": "markdown",
   "metadata": {},
   "source": [
    "Digunakan hasil model tuning karena memiliki akurasi yang lebih tinggi dari yang sebelumnya 0.88 menjadi 0.89"
   ]
  },
  {
   "cell_type": "code",
   "execution_count": 199,
   "metadata": {},
   "outputs": [],
   "source": [
    "rf_final = model_final.fit(X_train_balanced, y_train_balanced)"
   ]
  },
  {
   "cell_type": "code",
   "execution_count": 200,
   "metadata": {},
   "outputs": [
    {
     "name": "stdout",
     "output_type": "stream",
     "text": [
      "Confusion Matrix - Test Set :\n"
     ]
    },
    {
     "data": {
      "text/plain": [
       "<AxesSubplot:>"
      ]
     },
     "execution_count": 200,
     "metadata": {},
     "output_type": "execute_result"
    },
    {
     "data": {
      "image/png": "[encoded data removed]",
      "text/plain": [
       "<Figure size 432x288 with 2 Axes>"
      ]
     },
     "metadata": {
      "needs_background": "light"
     },
     "output_type": "display_data"
    }
   ],
   "source": [
    "print('Confusion Matrix - Test Set :')\n",
    "conf_matrix = confusion_matrix(y_test, rf_final.predict(X_test_scaled))\n",
    "sns.heatmap(conf_matrix, annot=True, fmt=\"d\")"
   ]
  },
  {
   "cell_type": "markdown",
   "metadata": {},
   "source": [
    "Terlihat dari confusion matrix bahwa hasil prediksi bisa diatas 50% pada data yang imbalance, saya rasa sudah cukup bagus karena data yang imbalance sekitar 75-80%"
   ]
  },
  {
   "cell_type": "markdown",
   "metadata": {},
   "source": [
    "# 9 - Model Saving"
   ]
  },
  {
   "cell_type": "code",
   "execution_count": 201,
   "metadata": {},
   "outputs": [
    {
     "data": {
      "text/plain": [
       "Pipeline(steps=[('minmaxscaler', MinMaxScaler()),\n",
       "                ('randomforestclassifier',\n",
       "                 RandomForestClassifier(criterion='entropy', random_state=17))])"
      ]
     },
     "execution_count": 201,
     "metadata": {},
     "output_type": "execute_result"
    }
   ],
   "source": [
    "# Membuat pipeline\n",
    "pipeline = make_pipeline(MinMaxScaler(),\n",
    "                         RandomForestClassifier(criterion= 'entropy', max_features= 'auto', min_samples_leaf= 1,\n",
    "                        min_samples_split= 2, n_estimators= 100, random_state=17))\n",
    "\n",
    "pipeline.fit(X_train_scaled, y_train_imbalanced)"
   ]
  },
  {
   "cell_type": "code",
   "execution_count": 202,
   "metadata": {},
   "outputs": [
    {
     "name": "stdout",
     "output_type": "stream",
     "text": [
      "              precision    recall  f1-score   support\n",
      "\n",
      "           0       0.93      0.98      0.95       352\n",
      "           1       0.77      0.51      0.61        53\n",
      "\n",
      "    accuracy                           0.92       405\n",
      "   macro avg       0.85      0.74      0.78       405\n",
      "weighted avg       0.91      0.92      0.91       405\n",
      "\n"
     ]
    }
   ],
   "source": [
    "y_pred = pipeline.predict(X_test_scaled)\n",
    "print(classification_report(y_test, y_pred))"
   ]
  },
  {
   "cell_type": "code",
   "execution_count": 203,
   "metadata": {},
   "outputs": [],
   "source": [
    "# Menyimpan Model\n",
    "with open(\"wine_quality.pkl\", \"wb\") as f:\n",
    "  pickle.dump(pipeline, f)"
   ]
  },
  {
   "cell_type": "markdown",
   "metadata": {
    "id": "YLor-5d7hH5i"
   },
   "source": [
    "# 9 - Model Inference"
   ]
  },
  {
   "cell_type": "code",
   "execution_count": 204,
   "metadata": {},
   "outputs": [],
   "source": [
    "# Feature Scaling and Feature Encoding\n",
    "df_inf_t = df_inf.drop('quality', axis=1)\n",
    "data_inf_scaled = scaler.transform(df_inf_t)"
   ]
  },
  {
   "cell_type": "code",
   "execution_count": 208,
   "metadata": {},
   "outputs": [
    {
     "data": {
      "text/plain": [
       "Index(['fixed acidity', 'volatile acidity', 'citric acid', 'chlorides', 'pH',\n",
       "       'sulphates', 'alcohol'],\n",
       "      dtype='object')"
      ]
     },
     "execution_count": 208,
     "metadata": {},
     "output_type": "execute_result"
    }
   ],
   "source": [
    "data_inf_final_df.columns"
   ]
  },
  {
   "cell_type": "code",
   "execution_count": 205,
   "metadata": {},
   "outputs": [
    {
     "data": {
      "text/html": [
       "<div>\n",
       "<style scoped>\n",
       "    .dataframe tbody tr th:only-of-type {\n",
       "        vertical-align: middle;\n",
       "    }\n",
       "\n",
       "    .dataframe tbody tr th {\n",
       "        vertical-align: top;\n",
       "    }\n",
       "\n",
       "    .dataframe thead th {\n",
       "        text-align: right;\n",
       "    }\n",
       "</style>\n",
       "<table border=\"1\" class=\"dataframe\">\n",
       "  <thead>\n",
       "    <tr style=\"text-align: right;\">\n",
       "      <th></th>\n",
       "      <th>fixed acidity</th>\n",
       "      <th>volatile acidity</th>\n",
       "      <th>citric acid</th>\n",
       "      <th>chlorides</th>\n",
       "      <th>pH</th>\n",
       "      <th>sulphates</th>\n",
       "      <th>alcohol</th>\n",
       "    </tr>\n",
       "  </thead>\n",
       "  <tbody>\n",
       "    <tr>\n",
       "      <th>0</th>\n",
       "      <td>0.416667</td>\n",
       "      <td>0.792135</td>\n",
       "      <td>0.307692</td>\n",
       "      <td>0.148026</td>\n",
       "      <td>0.581081</td>\n",
       "      <td>0.666667</td>\n",
       "      <td>0.460000</td>\n",
       "    </tr>\n",
       "    <tr>\n",
       "      <th>1</th>\n",
       "      <td>0.347222</td>\n",
       "      <td>0.337079</td>\n",
       "      <td>0.320513</td>\n",
       "      <td>0.213816</td>\n",
       "      <td>0.283784</td>\n",
       "      <td>0.363636</td>\n",
       "      <td>0.140000</td>\n",
       "    </tr>\n",
       "    <tr>\n",
       "      <th>2</th>\n",
       "      <td>0.902778</td>\n",
       "      <td>0.398876</td>\n",
       "      <td>0.512821</td>\n",
       "      <td>0.171053</td>\n",
       "      <td>0.175676</td>\n",
       "      <td>0.484848</td>\n",
       "      <td>0.326667</td>\n",
       "    </tr>\n",
       "    <tr>\n",
       "      <th>3</th>\n",
       "      <td>0.069444</td>\n",
       "      <td>0.426966</td>\n",
       "      <td>0.115385</td>\n",
       "      <td>0.032895</td>\n",
       "      <td>0.932432</td>\n",
       "      <td>0.454545</td>\n",
       "      <td>0.920000</td>\n",
       "    </tr>\n",
       "    <tr>\n",
       "      <th>4</th>\n",
       "      <td>0.486111</td>\n",
       "      <td>0.393258</td>\n",
       "      <td>0.602564</td>\n",
       "      <td>0.115132</td>\n",
       "      <td>0.189189</td>\n",
       "      <td>0.196970</td>\n",
       "      <td>0.220000</td>\n",
       "    </tr>\n",
       "    <tr>\n",
       "      <th>5</th>\n",
       "      <td>0.402778</td>\n",
       "      <td>0.528090</td>\n",
       "      <td>0.205128</td>\n",
       "      <td>0.085526</td>\n",
       "      <td>0.648649</td>\n",
       "      <td>0.893939</td>\n",
       "      <td>0.420000</td>\n",
       "    </tr>\n",
       "    <tr>\n",
       "      <th>6</th>\n",
       "      <td>0.250000</td>\n",
       "      <td>0.696629</td>\n",
       "      <td>0.038462</td>\n",
       "      <td>0.049342</td>\n",
       "      <td>0.689189</td>\n",
       "      <td>0.454545</td>\n",
       "      <td>0.620000</td>\n",
       "    </tr>\n",
       "    <tr>\n",
       "      <th>7</th>\n",
       "      <td>0.361111</td>\n",
       "      <td>0.994382</td>\n",
       "      <td>0.192308</td>\n",
       "      <td>0.207237</td>\n",
       "      <td>0.391892</td>\n",
       "      <td>0.227273</td>\n",
       "      <td>0.320000</td>\n",
       "    </tr>\n",
       "    <tr>\n",
       "      <th>8</th>\n",
       "      <td>0.027778</td>\n",
       "      <td>0.505618</td>\n",
       "      <td>0.012821</td>\n",
       "      <td>0.049342</td>\n",
       "      <td>0.851351</td>\n",
       "      <td>0.772727</td>\n",
       "      <td>0.820000</td>\n",
       "    </tr>\n",
       "    <tr>\n",
       "      <th>9</th>\n",
       "      <td>0.625000</td>\n",
       "      <td>0.235955</td>\n",
       "      <td>0.666667</td>\n",
       "      <td>0.115132</td>\n",
       "      <td>0.567568</td>\n",
       "      <td>0.651515</td>\n",
       "      <td>0.800000</td>\n",
       "    </tr>\n",
       "  </tbody>\n",
       "</table>\n",
       "</div>"
      ],
      "text/plain": [
       "   fixed acidity  volatile acidity  citric acid  chlorides        pH  \\\n",
       "0       0.416667          0.792135     0.307692   0.148026  0.581081   \n",
       "1       0.347222          0.337079     0.320513   0.213816  0.283784   \n",
       "2       0.902778          0.398876     0.512821   0.171053  0.175676   \n",
       "3       0.069444          0.426966     0.115385   0.032895  0.932432   \n",
       "4       0.486111          0.393258     0.602564   0.115132  0.189189   \n",
       "5       0.402778          0.528090     0.205128   0.085526  0.648649   \n",
       "6       0.250000          0.696629     0.038462   0.049342  0.689189   \n",
       "7       0.361111          0.994382     0.192308   0.207237  0.391892   \n",
       "8       0.027778          0.505618     0.012821   0.049342  0.851351   \n",
       "9       0.625000          0.235955     0.666667   0.115132  0.567568   \n",
       "\n",
       "   sulphates   alcohol  \n",
       "0   0.666667  0.460000  \n",
       "1   0.363636  0.140000  \n",
       "2   0.484848  0.326667  \n",
       "3   0.454545  0.920000  \n",
       "4   0.196970  0.220000  \n",
       "5   0.893939  0.420000  \n",
       "6   0.454545  0.620000  \n",
       "7   0.227273  0.320000  \n",
       "8   0.772727  0.820000  \n",
       "9   0.651515  0.800000  "
      ]
     },
     "execution_count": 205,
     "metadata": {},
     "output_type": "execute_result"
    }
   ],
   "source": [
    "data_inf_final_df = pd.DataFrame(data_inf_scaled, columns=df_inf_t.columns)\n",
    "data_inf_final_df"
   ]
  },
  {
   "cell_type": "code",
   "execution_count": 206,
   "metadata": {
    "colab": {
     "base_uri": "https://localhost:8080/",
     "height": 363
    },
    "id": "FybTr2KHuruW",
    "outputId": "7929f479-b63c-42ed-9b55-b1676f67ad58"
   },
   "outputs": [
    {
     "data": {
      "text/html": [
       "<div>\n",
       "<style scoped>\n",
       "    .dataframe tbody tr th:only-of-type {\n",
       "        vertical-align: middle;\n",
       "    }\n",
       "\n",
       "    .dataframe tbody tr th {\n",
       "        vertical-align: top;\n",
       "    }\n",
       "\n",
       "    .dataframe thead th {\n",
       "        text-align: right;\n",
       "    }\n",
       "</style>\n",
       "<table border=\"1\" class=\"dataframe\">\n",
       "  <thead>\n",
       "    <tr style=\"text-align: right;\">\n",
       "      <th></th>\n",
       "      <th>Predict Quality</th>\n",
       "    </tr>\n",
       "  </thead>\n",
       "  <tbody>\n",
       "    <tr>\n",
       "      <th>0</th>\n",
       "      <td>0</td>\n",
       "    </tr>\n",
       "    <tr>\n",
       "      <th>1</th>\n",
       "      <td>0</td>\n",
       "    </tr>\n",
       "    <tr>\n",
       "      <th>2</th>\n",
       "      <td>0</td>\n",
       "    </tr>\n",
       "    <tr>\n",
       "      <th>3</th>\n",
       "      <td>0</td>\n",
       "    </tr>\n",
       "    <tr>\n",
       "      <th>4</th>\n",
       "      <td>0</td>\n",
       "    </tr>\n",
       "    <tr>\n",
       "      <th>5</th>\n",
       "      <td>0</td>\n",
       "    </tr>\n",
       "    <tr>\n",
       "      <th>6</th>\n",
       "      <td>0</td>\n",
       "    </tr>\n",
       "    <tr>\n",
       "      <th>7</th>\n",
       "      <td>0</td>\n",
       "    </tr>\n",
       "    <tr>\n",
       "      <th>8</th>\n",
       "      <td>1</td>\n",
       "    </tr>\n",
       "    <tr>\n",
       "      <th>9</th>\n",
       "      <td>1</td>\n",
       "    </tr>\n",
       "  </tbody>\n",
       "</table>\n",
       "</div>"
      ],
      "text/plain": [
       "   Predict Quality\n",
       "0                0\n",
       "1                0\n",
       "2                0\n",
       "3                0\n",
       "4                0\n",
       "5                0\n",
       "6                0\n",
       "7                0\n",
       "8                1\n",
       "9                1"
      ]
     },
     "execution_count": 206,
     "metadata": {},
     "output_type": "execute_result"
    }
   ],
   "source": [
    "# predict inference set\n",
    "model_rf.fit(X_train_scaled, y_train_imbalanced)\n",
    "y_pred_inf = model_rf.predict(data_inf_final_df)\n",
    "y_pred_inf_df = pd.DataFrame(y_pred_inf,columns=['Predict Quality'])\n",
    "y_pred_inf_df"
   ]
  },
  {
   "cell_type": "code",
   "execution_count": 210,
   "metadata": {
    "colab": {
     "base_uri": "https://localhost:8080/",
     "height": 444
    },
    "id": "boIEcpsfi62o",
    "outputId": "0ef600b1-4ec0-4ed2-df30-4d08b79642fa"
   },
   "outputs": [
    {
     "data": {
      "text/html": [
       "<div>\n",
       "<style scoped>\n",
       "    .dataframe tbody tr th:only-of-type {\n",
       "        vertical-align: middle;\n",
       "    }\n",
       "\n",
       "    .dataframe tbody tr th {\n",
       "        vertical-align: top;\n",
       "    }\n",
       "\n",
       "    .dataframe thead th {\n",
       "        text-align: right;\n",
       "    }\n",
       "</style>\n",
       "<table border=\"1\" class=\"dataframe\">\n",
       "  <thead>\n",
       "    <tr style=\"text-align: right;\">\n",
       "      <th></th>\n",
       "      <th>fixed acidity</th>\n",
       "      <th>volatile acidity</th>\n",
       "      <th>citric acid</th>\n",
       "      <th>chlorides</th>\n",
       "      <th>pH</th>\n",
       "      <th>sulphates</th>\n",
       "      <th>alcohol</th>\n",
       "      <th>quality</th>\n",
       "      <th>Predict Quality</th>\n",
       "    </tr>\n",
       "  </thead>\n",
       "  <tbody>\n",
       "    <tr>\n",
       "      <th>0</th>\n",
       "      <td>8.1</td>\n",
       "      <td>0.825</td>\n",
       "      <td>0.24</td>\n",
       "      <td>0.084</td>\n",
       "      <td>3.37</td>\n",
       "      <td>0.77</td>\n",
       "      <td>10.700000</td>\n",
       "      <td>0</td>\n",
       "      <td>0</td>\n",
       "    </tr>\n",
       "    <tr>\n",
       "      <th>1</th>\n",
       "      <td>7.6</td>\n",
       "      <td>0.420</td>\n",
       "      <td>0.25</td>\n",
       "      <td>0.104</td>\n",
       "      <td>3.15</td>\n",
       "      <td>0.57</td>\n",
       "      <td>9.100000</td>\n",
       "      <td>0</td>\n",
       "      <td>0</td>\n",
       "    </tr>\n",
       "    <tr>\n",
       "      <th>2</th>\n",
       "      <td>11.6</td>\n",
       "      <td>0.475</td>\n",
       "      <td>0.40</td>\n",
       "      <td>0.091</td>\n",
       "      <td>3.07</td>\n",
       "      <td>0.65</td>\n",
       "      <td>10.033333</td>\n",
       "      <td>0</td>\n",
       "      <td>0</td>\n",
       "    </tr>\n",
       "    <tr>\n",
       "      <th>3</th>\n",
       "      <td>5.6</td>\n",
       "      <td>0.500</td>\n",
       "      <td>0.09</td>\n",
       "      <td>0.049</td>\n",
       "      <td>3.63</td>\n",
       "      <td>0.63</td>\n",
       "      <td>13.000000</td>\n",
       "      <td>0</td>\n",
       "      <td>0</td>\n",
       "    </tr>\n",
       "    <tr>\n",
       "      <th>4</th>\n",
       "      <td>8.6</td>\n",
       "      <td>0.470</td>\n",
       "      <td>0.47</td>\n",
       "      <td>0.074</td>\n",
       "      <td>3.08</td>\n",
       "      <td>0.46</td>\n",
       "      <td>9.500000</td>\n",
       "      <td>0</td>\n",
       "      <td>0</td>\n",
       "    </tr>\n",
       "    <tr>\n",
       "      <th>5</th>\n",
       "      <td>8.0</td>\n",
       "      <td>0.590</td>\n",
       "      <td>0.16</td>\n",
       "      <td>0.065</td>\n",
       "      <td>3.42</td>\n",
       "      <td>0.92</td>\n",
       "      <td>10.500000</td>\n",
       "      <td>1</td>\n",
       "      <td>0</td>\n",
       "    </tr>\n",
       "    <tr>\n",
       "      <th>6</th>\n",
       "      <td>6.9</td>\n",
       "      <td>0.740</td>\n",
       "      <td>0.03</td>\n",
       "      <td>0.054</td>\n",
       "      <td>3.45</td>\n",
       "      <td>0.63</td>\n",
       "      <td>11.500000</td>\n",
       "      <td>0</td>\n",
       "      <td>0</td>\n",
       "    </tr>\n",
       "    <tr>\n",
       "      <th>7</th>\n",
       "      <td>7.7</td>\n",
       "      <td>1.005</td>\n",
       "      <td>0.15</td>\n",
       "      <td>0.102</td>\n",
       "      <td>3.23</td>\n",
       "      <td>0.48</td>\n",
       "      <td>10.000000</td>\n",
       "      <td>0</td>\n",
       "      <td>0</td>\n",
       "    </tr>\n",
       "    <tr>\n",
       "      <th>8</th>\n",
       "      <td>5.3</td>\n",
       "      <td>0.570</td>\n",
       "      <td>0.01</td>\n",
       "      <td>0.054</td>\n",
       "      <td>3.57</td>\n",
       "      <td>0.84</td>\n",
       "      <td>12.500000</td>\n",
       "      <td>1</td>\n",
       "      <td>1</td>\n",
       "    </tr>\n",
       "    <tr>\n",
       "      <th>9</th>\n",
       "      <td>9.6</td>\n",
       "      <td>0.330</td>\n",
       "      <td>0.52</td>\n",
       "      <td>0.074</td>\n",
       "      <td>3.36</td>\n",
       "      <td>0.76</td>\n",
       "      <td>12.400000</td>\n",
       "      <td>1</td>\n",
       "      <td>1</td>\n",
       "    </tr>\n",
       "  </tbody>\n",
       "</table>\n",
       "</div>"
      ],
      "text/plain": [
       "   fixed acidity  volatile acidity  citric acid  chlorides    pH  sulphates  \\\n",
       "0            8.1             0.825         0.24      0.084  3.37       0.77   \n",
       "1            7.6             0.420         0.25      0.104  3.15       0.57   \n",
       "2           11.6             0.475         0.40      0.091  3.07       0.65   \n",
       "3            5.6             0.500         0.09      0.049  3.63       0.63   \n",
       "4            8.6             0.470         0.47      0.074  3.08       0.46   \n",
       "5            8.0             0.590         0.16      0.065  3.42       0.92   \n",
       "6            6.9             0.740         0.03      0.054  3.45       0.63   \n",
       "7            7.7             1.005         0.15      0.102  3.23       0.48   \n",
       "8            5.3             0.570         0.01      0.054  3.57       0.84   \n",
       "9            9.6             0.330         0.52      0.074  3.36       0.76   \n",
       "\n",
       "     alcohol  quality  Predict Quality  \n",
       "0  10.700000        0                0  \n",
       "1   9.100000        0                0  \n",
       "2  10.033333        0                0  \n",
       "3  13.000000        0                0  \n",
       "4   9.500000        0                0  \n",
       "5  10.500000        1                0  \n",
       "6  11.500000        0                0  \n",
       "7  10.000000        0                0  \n",
       "8  12.500000        1                1  \n",
       "9  12.400000        1                1  "
      ]
     },
     "execution_count": 210,
     "metadata": {},
     "output_type": "execute_result"
    }
   ],
   "source": [
    "# Concat Inference-Set with Prediction\n",
    "\n",
    "df_predict = pd.concat([df_inf, y_pred_inf_df], axis=1)\n",
    "df_predict\n"
   ]
  },
  {
   "cell_type": "markdown",
   "metadata": {},
   "source": [
    "Terlihat model cukup bagus untuk memprediksi hasil data yang imbalance, terlihat dari 10 sampel data hanya ada 1 kesalahan yang terjadi"
   ]
  },
  {
   "cell_type": "markdown",
   "metadata": {
    "id": "caubPk23jVzc"
   },
   "source": [
    "# 10 - Pengambilan Kesimpulan"
   ]
  },
  {
   "cell_type": "markdown",
   "metadata": {},
   "source": [
    "Kesimpulan yang didapat dari pengerjaan Feature Engineering kali ini adalah melakukan trial dan error terhadap dataset yang digunakan, mulai dari mengeliminasi fitur yang tidak diperlukan dengan hasil data yang didapat, mengimplementasikan feature selection, feature scalling, sampai mendapatkan model yang bagus dengan error yang kecil atau akurasi yang tinggi menggunakan hyperparamater tuning.\\\n",
    "Hasil yang didapatkan kali ini adalah:\n",
    "- Mengeliminasi fitur yang tidak dibutuhkan\n",
    "- Melakukan scaling data menggunakan MinMaxScaler\n",
    "- Melakukan perbandingan dengan handling imbalance dataset, ternyata tidak ada perbedaan dari hasil data\n",
    "- Melakukan trial & error hyperparamater tuning untuk mendapatkan hasil terbaik\n",
    "- Mendapatkan hasil menggunakan model Tuning Random Forest senilai 89%\n",
    "- Mendapatkan prediksi kualitas wine menggunakan model Random Forest"
   ]
  }
 ],
 "metadata": {
  "interpreter": {
   "hash": "263930470851f494f0ed2879c35b57985588df20f9e529b86e97dd5eb9ddc466"
  },
  "kernelspec": {
   "display_name": "Python 3.9.7 ('base')",
   "language": "python",
   "name": "python3"
  },
  "language_info": {
   "codemirror_mode": {
    "name": "ipython",
    "version": 3
   },
   "file_extension": ".py",
   "mimetype": "text/x-python",
   "name": "python",
   "nbconvert_exporter": "python",
   "pygments_lexer": "ipython3",
   "version": "3.9.7"
  },
  "orig_nbformat": 4
 },
 "nbformat": 4,
 "nbformat_minor": 2
}
